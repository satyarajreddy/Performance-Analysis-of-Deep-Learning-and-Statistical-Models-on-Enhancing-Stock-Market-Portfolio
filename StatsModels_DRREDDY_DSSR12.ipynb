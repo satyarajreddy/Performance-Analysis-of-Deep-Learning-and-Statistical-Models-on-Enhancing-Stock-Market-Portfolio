{
  "nbformat": 4,
  "nbformat_minor": 0,
  "metadata": {
    "colab": {
      "name": "StatsModels_DRREDDY.ipynb",
      "provenance": [],
      "collapsed_sections": [
        "W_62Wuzdvn_H",
        "-YOas-L6voAh"
      ],
      "toc_visible": true
    },
    "kernelspec": {
      "display_name": "Python 3",
      "language": "python",
      "name": "python3"
    },
    "language_info": {
      "codemirror_mode": {
        "name": "ipython",
        "version": 3
      },
      "file_extension": ".py",
      "mimetype": "text/x-python",
      "name": "python",
      "nbconvert_exporter": "python",
      "pygments_lexer": "ipython3",
      "version": "3.5.5"
    },
    "accelerator": "GPU"
  },
  "cells": [
    {
      "cell_type": "code",
      "metadata": {
        "id": "stNR4rsXvn86",
        "colab": {
          "base_uri": "https://localhost:8080/"
        },
        "outputId": "773a5235-ad01-40c7-adfc-20f23e2f56c9"
      },
      "source": [
        "#Importing all the Libraries needed\n",
        "import pandas as pd\n",
        "import matplotlib.pyplot as plt\n",
        "from statsmodels.tsa.seasonal import seasonal_decompose\n",
        "from statsmodels.tsa.arima_model import ARMA,ARIMA,ARMAResults,ARIMAResults\n",
        "import numpy as np\n",
        "\n",
        "import warnings\n",
        "warnings.filterwarnings('ignore')"
      ],
      "execution_count": null,
      "outputs": [
        {
          "output_type": "stream",
          "text": [
            "/usr/local/lib/python3.6/dist-packages/statsmodels/tools/_testing.py:19: FutureWarning: pandas.util.testing is deprecated. Use the functions in the public API at pandas.testing instead.\n",
            "  import pandas.util.testing as tm\n"
          ],
          "name": "stderr"
        }
      ]
    },
    {
      "cell_type": "code",
      "metadata": {
        "colab": {
          "resources": {
            "http://localhost:8080/nbextensions/google.colab/files.js": {
              "data": "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",
              "ok": true,
              "headers": [
                [
                  "content-type",
                  "application/javascript"
                ]
              ],
              "status": 200,
              "status_text": ""
            }
          },
          "base_uri": "https://localhost:8080/",
          "height": 70
        },
        "id": "5aiTNienvn9M",
        "outputId": "d9bf7952-b709-4dc1-81af-0514a25161ff"
      },
      "source": [
        "from google.colab import files\n",
        "uploaded = files.upload()\n",
        "import pandas as pd\n",
        "import io\n",
        "\n",
        "fb=pd.read_csv('DRREDDY.NS.csv',parse_dates=True,index_col='Date')\n",
        "fb=fb.drop(columns=['Adj Close','Open','Low','High','Volume'])"
      ],
      "execution_count": null,
      "outputs": [
        {
          "output_type": "display_data",
          "data": {
            "text/html": [
              "\n",
              "     <input type=\"file\" id=\"files-269cd107-5b20-4469-a25c-168e0548d4d3\" name=\"files[]\" multiple disabled\n",
              "        style=\"border:none\" />\n",
              "     <output id=\"result-269cd107-5b20-4469-a25c-168e0548d4d3\">\n",
              "      Upload widget is only available when the cell has been executed in the\n",
              "      current browser session. Please rerun this cell to enable.\n",
              "      </output>\n",
              "      <script src=\"/nbextensions/google.colab/files.js\"></script> "
            ],
            "text/plain": [
              "<IPython.core.display.HTML object>"
            ]
          },
          "metadata": {
            "tags": []
          }
        },
        {
          "output_type": "stream",
          "text": [
            "Saving DRREDDY.NS.csv to DRREDDY.NS (1).csv\n"
          ],
          "name": "stdout"
        }
      ]
    },
    {
      "cell_type": "code",
      "metadata": {
        "colab": {
          "base_uri": "https://localhost:8080/",
          "height": 420
        },
        "id": "0IaUMh4ivn9T",
        "outputId": "0cd8675f-0ea4-421a-85d1-268bcd14137d"
      },
      "source": [
        "fin =fb\n",
        "fin"
      ],
      "execution_count": null,
      "outputs": [
        {
          "output_type": "execute_result",
          "data": {
            "text/html": [
              "<div>\n",
              "<style scoped>\n",
              "    .dataframe tbody tr th:only-of-type {\n",
              "        vertical-align: middle;\n",
              "    }\n",
              "\n",
              "    .dataframe tbody tr th {\n",
              "        vertical-align: top;\n",
              "    }\n",
              "\n",
              "    .dataframe thead th {\n",
              "        text-align: right;\n",
              "    }\n",
              "</style>\n",
              "<table border=\"1\" class=\"dataframe\">\n",
              "  <thead>\n",
              "    <tr style=\"text-align: right;\">\n",
              "      <th></th>\n",
              "      <th>Close</th>\n",
              "    </tr>\n",
              "    <tr>\n",
              "      <th>Date</th>\n",
              "      <th></th>\n",
              "    </tr>\n",
              "  </thead>\n",
              "  <tbody>\n",
              "    <tr>\n",
              "      <th>2008-01-01</th>\n",
              "      <td>725.150024</td>\n",
              "    </tr>\n",
              "    <tr>\n",
              "      <th>2008-01-02</th>\n",
              "      <td>745.549988</td>\n",
              "    </tr>\n",
              "    <tr>\n",
              "      <th>2008-01-03</th>\n",
              "      <td>714.299988</td>\n",
              "    </tr>\n",
              "    <tr>\n",
              "      <th>2008-01-04</th>\n",
              "      <td>728.700012</td>\n",
              "    </tr>\n",
              "    <tr>\n",
              "      <th>2008-01-07</th>\n",
              "      <td>712.299988</td>\n",
              "    </tr>\n",
              "    <tr>\n",
              "      <th>...</th>\n",
              "      <td>...</td>\n",
              "    </tr>\n",
              "    <tr>\n",
              "      <th>2020-10-26</th>\n",
              "      <td>4978.100098</td>\n",
              "    </tr>\n",
              "    <tr>\n",
              "      <th>2020-10-27</th>\n",
              "      <td>5099.399902</td>\n",
              "    </tr>\n",
              "    <tr>\n",
              "      <th>2020-10-28</th>\n",
              "      <td>4951.000000</td>\n",
              "    </tr>\n",
              "    <tr>\n",
              "      <th>2020-10-29</th>\n",
              "      <td>4941.950195</td>\n",
              "    </tr>\n",
              "    <tr>\n",
              "      <th>2020-10-30</th>\n",
              "      <td>4888.649902</td>\n",
              "    </tr>\n",
              "  </tbody>\n",
              "</table>\n",
              "<p>3167 rows × 1 columns</p>\n",
              "</div>"
            ],
            "text/plain": [
              "                  Close\n",
              "Date                   \n",
              "2008-01-01   725.150024\n",
              "2008-01-02   745.549988\n",
              "2008-01-03   714.299988\n",
              "2008-01-04   728.700012\n",
              "2008-01-07   712.299988\n",
              "...                 ...\n",
              "2020-10-26  4978.100098\n",
              "2020-10-27  5099.399902\n",
              "2020-10-28  4951.000000\n",
              "2020-10-29  4941.950195\n",
              "2020-10-30  4888.649902\n",
              "\n",
              "[3167 rows x 1 columns]"
            ]
          },
          "metadata": {
            "tags": []
          },
          "execution_count": 3
        }
      ]
    },
    {
      "cell_type": "code",
      "metadata": {
        "colab": {
          "base_uri": "https://localhost:8080/",
          "height": 420
        },
        "id": "d4KrIETdvn9b",
        "outputId": "dbcf900b-6a13-4b14-ccdc-a9837195147a"
      },
      "source": [
        "fb=fb.asfreq(freq='D',method='bfill')\n",
        "fin = fin.asfreq(freq='D',method='bfill')\n",
        "fin"
      ],
      "execution_count": null,
      "outputs": [
        {
          "output_type": "execute_result",
          "data": {
            "text/html": [
              "<div>\n",
              "<style scoped>\n",
              "    .dataframe tbody tr th:only-of-type {\n",
              "        vertical-align: middle;\n",
              "    }\n",
              "\n",
              "    .dataframe tbody tr th {\n",
              "        vertical-align: top;\n",
              "    }\n",
              "\n",
              "    .dataframe thead th {\n",
              "        text-align: right;\n",
              "    }\n",
              "</style>\n",
              "<table border=\"1\" class=\"dataframe\">\n",
              "  <thead>\n",
              "    <tr style=\"text-align: right;\">\n",
              "      <th></th>\n",
              "      <th>Close</th>\n",
              "    </tr>\n",
              "    <tr>\n",
              "      <th>Date</th>\n",
              "      <th></th>\n",
              "    </tr>\n",
              "  </thead>\n",
              "  <tbody>\n",
              "    <tr>\n",
              "      <th>2008-01-01</th>\n",
              "      <td>725.150024</td>\n",
              "    </tr>\n",
              "    <tr>\n",
              "      <th>2008-01-02</th>\n",
              "      <td>745.549988</td>\n",
              "    </tr>\n",
              "    <tr>\n",
              "      <th>2008-01-03</th>\n",
              "      <td>714.299988</td>\n",
              "    </tr>\n",
              "    <tr>\n",
              "      <th>2008-01-04</th>\n",
              "      <td>728.700012</td>\n",
              "    </tr>\n",
              "    <tr>\n",
              "      <th>2008-01-05</th>\n",
              "      <td>712.299988</td>\n",
              "    </tr>\n",
              "    <tr>\n",
              "      <th>...</th>\n",
              "      <td>...</td>\n",
              "    </tr>\n",
              "    <tr>\n",
              "      <th>2020-10-26</th>\n",
              "      <td>4978.100098</td>\n",
              "    </tr>\n",
              "    <tr>\n",
              "      <th>2020-10-27</th>\n",
              "      <td>5099.399902</td>\n",
              "    </tr>\n",
              "    <tr>\n",
              "      <th>2020-10-28</th>\n",
              "      <td>4951.000000</td>\n",
              "    </tr>\n",
              "    <tr>\n",
              "      <th>2020-10-29</th>\n",
              "      <td>4941.950195</td>\n",
              "    </tr>\n",
              "    <tr>\n",
              "      <th>2020-10-30</th>\n",
              "      <td>4888.649902</td>\n",
              "    </tr>\n",
              "  </tbody>\n",
              "</table>\n",
              "<p>4687 rows × 1 columns</p>\n",
              "</div>"
            ],
            "text/plain": [
              "                  Close\n",
              "Date                   \n",
              "2008-01-01   725.150024\n",
              "2008-01-02   745.549988\n",
              "2008-01-03   714.299988\n",
              "2008-01-04   728.700012\n",
              "2008-01-05   712.299988\n",
              "...                 ...\n",
              "2020-10-26  4978.100098\n",
              "2020-10-27  5099.399902\n",
              "2020-10-28  4951.000000\n",
              "2020-10-29  4941.950195\n",
              "2020-10-30  4888.649902\n",
              "\n",
              "[4687 rows x 1 columns]"
            ]
          },
          "metadata": {
            "tags": []
          },
          "execution_count": 4
        }
      ]
    },
    {
      "cell_type": "code",
      "metadata": {
        "colab": {
          "base_uri": "https://localhost:8080/",
          "height": 420
        },
        "id": "noQF6IEWvn9g",
        "outputId": "1c733381-efb7-4c6c-d922-248ab2e9f445"
      },
      "source": [
        "fb"
      ],
      "execution_count": null,
      "outputs": [
        {
          "output_type": "execute_result",
          "data": {
            "text/html": [
              "<div>\n",
              "<style scoped>\n",
              "    .dataframe tbody tr th:only-of-type {\n",
              "        vertical-align: middle;\n",
              "    }\n",
              "\n",
              "    .dataframe tbody tr th {\n",
              "        vertical-align: top;\n",
              "    }\n",
              "\n",
              "    .dataframe thead th {\n",
              "        text-align: right;\n",
              "    }\n",
              "</style>\n",
              "<table border=\"1\" class=\"dataframe\">\n",
              "  <thead>\n",
              "    <tr style=\"text-align: right;\">\n",
              "      <th></th>\n",
              "      <th>Close</th>\n",
              "    </tr>\n",
              "    <tr>\n",
              "      <th>Date</th>\n",
              "      <th></th>\n",
              "    </tr>\n",
              "  </thead>\n",
              "  <tbody>\n",
              "    <tr>\n",
              "      <th>2008-01-01</th>\n",
              "      <td>725.150024</td>\n",
              "    </tr>\n",
              "    <tr>\n",
              "      <th>2008-01-02</th>\n",
              "      <td>745.549988</td>\n",
              "    </tr>\n",
              "    <tr>\n",
              "      <th>2008-01-03</th>\n",
              "      <td>714.299988</td>\n",
              "    </tr>\n",
              "    <tr>\n",
              "      <th>2008-01-04</th>\n",
              "      <td>728.700012</td>\n",
              "    </tr>\n",
              "    <tr>\n",
              "      <th>2008-01-05</th>\n",
              "      <td>712.299988</td>\n",
              "    </tr>\n",
              "    <tr>\n",
              "      <th>...</th>\n",
              "      <td>...</td>\n",
              "    </tr>\n",
              "    <tr>\n",
              "      <th>2020-10-26</th>\n",
              "      <td>4978.100098</td>\n",
              "    </tr>\n",
              "    <tr>\n",
              "      <th>2020-10-27</th>\n",
              "      <td>5099.399902</td>\n",
              "    </tr>\n",
              "    <tr>\n",
              "      <th>2020-10-28</th>\n",
              "      <td>4951.000000</td>\n",
              "    </tr>\n",
              "    <tr>\n",
              "      <th>2020-10-29</th>\n",
              "      <td>4941.950195</td>\n",
              "    </tr>\n",
              "    <tr>\n",
              "      <th>2020-10-30</th>\n",
              "      <td>4888.649902</td>\n",
              "    </tr>\n",
              "  </tbody>\n",
              "</table>\n",
              "<p>4687 rows × 1 columns</p>\n",
              "</div>"
            ],
            "text/plain": [
              "                  Close\n",
              "Date                   \n",
              "2008-01-01   725.150024\n",
              "2008-01-02   745.549988\n",
              "2008-01-03   714.299988\n",
              "2008-01-04   728.700012\n",
              "2008-01-05   712.299988\n",
              "...                 ...\n",
              "2020-10-26  4978.100098\n",
              "2020-10-27  5099.399902\n",
              "2020-10-28  4951.000000\n",
              "2020-10-29  4941.950195\n",
              "2020-10-30  4888.649902\n",
              "\n",
              "[4687 rows x 1 columns]"
            ]
          },
          "metadata": {
            "tags": []
          },
          "execution_count": 5
        }
      ]
    },
    {
      "cell_type": "markdown",
      "metadata": {
        "id": "xXHztsAbvn9l"
      },
      "source": [
        "\n",
        "#Forecasting Procedure:\n",
        "   \n",
        "   1.)Choose a Model\n",
        "   2.)Split the Data into Training and Test Data\n",
        "   3.)Fit the Model on Training Data\n",
        "   4.)Evaluate the Model on Test Data\n",
        "   5.)Re-Fit the Model on Entire Data\n",
        "   6.)Forecast for Future Data\n",
        "   \n",
        "   "
      ]
    },
    {
      "cell_type": "code",
      "metadata": {
        "colab": {
          "base_uri": "https://localhost:8080/"
        },
        "id": "lZtupxLkvn9m",
        "scrolled": true,
        "outputId": "fc3b69ab-279c-4e48-c6fd-48ebc1a69583"
      },
      "source": [
        "fb['Close'].plot()"
      ],
      "execution_count": null,
      "outputs": [
        {
          "output_type": "execute_result",
          "data": {
            "text/plain": [
              "<matplotlib.axes._subplots.AxesSubplot at 0x7fe56f596b70>"
            ]
          },
          "metadata": {
            "tags": []
          },
          "execution_count": 6
        },
        {
          "output_type": "display_data",
          "data": {
            "image/png": "[encoded data removed]",
            "text/plain": [
              "<Figure size 432x288 with 1 Axes>"
            ]
          },
          "metadata": {
            "tags": [],
            "needs_background": "light"
          }
        }
      ]
    },
    {
      "cell_type": "code",
      "metadata": {
        "id": "VQ_gs6R2DlvQ"
      },
      "source": [
        "fb=fb.fillna(method='ffill')\n",
        "fin = fin.fillna(method='ffill')"
      ],
      "execution_count": null,
      "outputs": []
    },
    {
      "cell_type": "code",
      "metadata": {
        "colab": {
          "base_uri": "https://localhost:8080/"
        },
        "id": "D3xQNDt2EsAs",
        "outputId": "11498e96-89d7-4746-9cda-10639cd41e13"
      },
      "source": [
        "fb.isnull().values.any()\n",
        "fin.isnull().values.any()"
      ],
      "execution_count": null,
      "outputs": [
        {
          "output_type": "execute_result",
          "data": {
            "text/plain": [
              "False"
            ]
          },
          "metadata": {
            "tags": []
          },
          "execution_count": 8
        }
      ]
    },
    {
      "cell_type": "code",
      "metadata": {
        "id": "_kdWiCSIvn9u"
      },
      "source": [
        "breakup=seasonal_decompose(fb['Close'],model='additive')"
      ],
      "execution_count": null,
      "outputs": []
    },
    {
      "cell_type": "code",
      "metadata": {
        "colab": {
          "base_uri": "https://localhost:8080/"
        },
        "id": "oEqbzy0Kvn9z",
        "outputId": "c4074176-a05a-408a-bb6d-0ba028dc8891"
      },
      "source": [
        "breakup.plot();"
      ],
      "execution_count": null,
      "outputs": [
        {
          "output_type": "display_data",
          "data": {
            "image/png": "[encoded data removed]",
            "text/plain": [
              "<Figure size 432x288 with 4 Axes>"
            ]
          },
          "metadata": {
            "tags": [],
            "needs_background": "light"
          }
        }
      ]
    },
    {
      "cell_type": "code",
      "metadata": {
        "colab": {
          "base_uri": "https://localhost:8080/"
        },
        "id": "RUXZFqczE4HW",
        "outputId": "257c1faf-a120-44b2-a73d-9ac6b894b508"
      },
      "source": [
        "len(fb)"
      ],
      "execution_count": null,
      "outputs": [
        {
          "output_type": "execute_result",
          "data": {
            "text/plain": [
              "4687"
            ]
          },
          "metadata": {
            "tags": []
          },
          "execution_count": 11
        }
      ]
    },
    {
      "cell_type": "code",
      "metadata": {
        "id": "8_6yaHa1vn-C"
      },
      "source": [
        "train_fb=fb.iloc[:-468]\n",
        "test_fb=fb.iloc[-468:]"
      ],
      "execution_count": null,
      "outputs": []
    },
    {
      "cell_type": "code",
      "metadata": {
        "colab": {
          "base_uri": "https://localhost:8080/"
        },
        "id": "qvlENRu2vn-L",
        "outputId": "a17e67ec-3d35-4e4b-8b6e-803a0f971085"
      },
      "source": [
        "train_fb.tail()"
      ],
      "execution_count": null,
      "outputs": [
        {
          "output_type": "execute_result",
          "data": {
            "text/html": [
              "<div>\n",
              "<style scoped>\n",
              "    .dataframe tbody tr th:only-of-type {\n",
              "        vertical-align: middle;\n",
              "    }\n",
              "\n",
              "    .dataframe tbody tr th {\n",
              "        vertical-align: top;\n",
              "    }\n",
              "\n",
              "    .dataframe thead th {\n",
              "        text-align: right;\n",
              "    }\n",
              "</style>\n",
              "<table border=\"1\" class=\"dataframe\">\n",
              "  <thead>\n",
              "    <tr style=\"text-align: right;\">\n",
              "      <th></th>\n",
              "      <th>Close</th>\n",
              "    </tr>\n",
              "    <tr>\n",
              "      <th>Date</th>\n",
              "      <th></th>\n",
              "    </tr>\n",
              "  </thead>\n",
              "  <tbody>\n",
              "    <tr>\n",
              "      <th>2019-07-16</th>\n",
              "      <td>2676.500000</td>\n",
              "    </tr>\n",
              "    <tr>\n",
              "      <th>2019-07-17</th>\n",
              "      <td>2666.300049</td>\n",
              "    </tr>\n",
              "    <tr>\n",
              "      <th>2019-07-18</th>\n",
              "      <td>2655.550049</td>\n",
              "    </tr>\n",
              "    <tr>\n",
              "      <th>2019-07-19</th>\n",
              "      <td>2613.149902</td>\n",
              "    </tr>\n",
              "    <tr>\n",
              "      <th>2019-07-20</th>\n",
              "      <td>2632.500000</td>\n",
              "    </tr>\n",
              "  </tbody>\n",
              "</table>\n",
              "</div>"
            ],
            "text/plain": [
              "                  Close\n",
              "Date                   \n",
              "2019-07-16  2676.500000\n",
              "2019-07-17  2666.300049\n",
              "2019-07-18  2655.550049\n",
              "2019-07-19  2613.149902\n",
              "2019-07-20  2632.500000"
            ]
          },
          "metadata": {
            "tags": []
          },
          "execution_count": 13
        }
      ]
    },
    {
      "cell_type": "code",
      "metadata": {
        "colab": {
          "base_uri": "https://localhost:8080/"
        },
        "id": "5P7g4wpgvn-U",
        "outputId": "8dfed38b-7769-46b8-a063-109b702d8dcc"
      },
      "source": [
        "test_fb.head()"
      ],
      "execution_count": null,
      "outputs": [
        {
          "output_type": "execute_result",
          "data": {
            "text/html": [
              "<div>\n",
              "<style scoped>\n",
              "    .dataframe tbody tr th:only-of-type {\n",
              "        vertical-align: middle;\n",
              "    }\n",
              "\n",
              "    .dataframe tbody tr th {\n",
              "        vertical-align: top;\n",
              "    }\n",
              "\n",
              "    .dataframe thead th {\n",
              "        text-align: right;\n",
              "    }\n",
              "</style>\n",
              "<table border=\"1\" class=\"dataframe\">\n",
              "  <thead>\n",
              "    <tr style=\"text-align: right;\">\n",
              "      <th></th>\n",
              "      <th>Close</th>\n",
              "    </tr>\n",
              "    <tr>\n",
              "      <th>Date</th>\n",
              "      <th></th>\n",
              "    </tr>\n",
              "  </thead>\n",
              "  <tbody>\n",
              "    <tr>\n",
              "      <th>2019-07-21</th>\n",
              "      <td>2632.500000</td>\n",
              "    </tr>\n",
              "    <tr>\n",
              "      <th>2019-07-22</th>\n",
              "      <td>2632.500000</td>\n",
              "    </tr>\n",
              "    <tr>\n",
              "      <th>2019-07-23</th>\n",
              "      <td>2599.350098</td>\n",
              "    </tr>\n",
              "    <tr>\n",
              "      <th>2019-07-24</th>\n",
              "      <td>2599.050049</td>\n",
              "    </tr>\n",
              "    <tr>\n",
              "      <th>2019-07-25</th>\n",
              "      <td>2654.100098</td>\n",
              "    </tr>\n",
              "  </tbody>\n",
              "</table>\n",
              "</div>"
            ],
            "text/plain": [
              "                  Close\n",
              "Date                   \n",
              "2019-07-21  2632.500000\n",
              "2019-07-22  2632.500000\n",
              "2019-07-23  2599.350098\n",
              "2019-07-24  2599.050049\n",
              "2019-07-25  2654.100098"
            ]
          },
          "metadata": {
            "tags": []
          },
          "execution_count": 14
        }
      ]
    },
    {
      "cell_type": "markdown",
      "metadata": {
        "id": "_sFZPNFDvn-Z"
      },
      "source": [
        "# Exponential Smoothing\n"
      ]
    },
    {
      "cell_type": "code",
      "metadata": {
        "id": "7ew9STQcvn-a"
      },
      "source": [
        "from statsmodels.tsa.holtwinters import ExponentialSmoothing"
      ],
      "execution_count": null,
      "outputs": []
    },
    {
      "cell_type": "code",
      "metadata": {
        "id": "Ef9f9vf-vn-g"
      },
      "source": [
        "test_fb_model=ExponentialSmoothing(train_fb['Close'],trend='add',seasonal='mul',seasonal_periods=365).fit()"
      ],
      "execution_count": null,
      "outputs": []
    },
    {
      "cell_type": "code",
      "metadata": {
        "id": "-FxcGeMmvn-l"
      },
      "source": [
        "test_fb_predictions=test_fb_model.forecast(468)"
      ],
      "execution_count": null,
      "outputs": []
    },
    {
      "cell_type": "code",
      "metadata": {
        "colab": {
          "base_uri": "https://localhost:8080/",
          "height": 310
        },
        "id": "m5slKRAFvn-s",
        "outputId": "064c1fd0-e2ab-4a5e-a236-8c94ea0b3e42"
      },
      "source": [
        "\n",
        "test_fb['Close'].plot(legend=True,label='Test Data')\n",
        "test_fb_predictions.plot(legend=True,label='Prediction')"
      ],
      "execution_count": null,
      "outputs": [
        {
          "output_type": "execute_result",
          "data": {
            "text/plain": [
              "<matplotlib.axes._subplots.AxesSubplot at 0x7fe56aef52e8>"
            ]
          },
          "metadata": {
            "tags": []
          },
          "execution_count": 18
        },
        {
          "output_type": "display_data",
          "data": {
            "image/png": "[encoded data removed]",
            "text/plain": [
              "<Figure size 432x288 with 1 Axes>"
            ]
          },
          "metadata": {
            "tags": [],
            "needs_background": "light"
          }
        }
      ]
    },
    {
      "cell_type": "code",
      "metadata": {
        "id": "6IwaR2JBvn-z"
      },
      "source": [
        "from sklearn.metrics import mean_absolute_error,mean_squared_error"
      ],
      "execution_count": null,
      "outputs": []
    },
    {
      "cell_type": "code",
      "metadata": {
        "colab": {
          "base_uri": "https://localhost:8080/"
        },
        "id": "3-H5Lsq7vn-5",
        "outputId": "78448355-94c4-4a13-8f9e-8d8374e06cea"
      },
      "source": [
        "std=fb['Close'].std()\n",
        "rmse=np.sqrt(mean_squared_error(test_fb['Close'],test_fb_predictions))\n",
        "rmse,std"
      ],
      "execution_count": null,
      "outputs": [
        {
          "output_type": "execute_result",
          "data": {
            "text/plain": [
              "(952.8372456076175, 1012.3985815916589)"
            ]
          },
          "metadata": {
            "tags": []
          },
          "execution_count": 20
        }
      ]
    },
    {
      "cell_type": "code",
      "metadata": {
        "id": "0807WBujvn--"
      },
      "source": [
        "fb_ES_model=ExponentialSmoothing(fb['Close'],trend='add',seasonal='mul',seasonal_periods=90).fit()\n",
        "fb_ES_Predictions=fb_ES_model.forecast(240)\n"
      ],
      "execution_count": null,
      "outputs": []
    },
    {
      "cell_type": "code",
      "metadata": {
        "id": "J9ac66eevn_C",
        "colab": {
          "base_uri": "https://localhost:8080/",
          "height": 622
        },
        "outputId": "c3689e04-40f3-48b7-c78c-d8ee182b49b5"
      },
      "source": [
        "fb['Close'].plot(legend=True,label='Real Data',figsize=(15,10))\n",
        "fb_ES_Predictions.plot(legend=True,label='Prediction')"
      ],
      "execution_count": null,
      "outputs": [
        {
          "output_type": "execute_result",
          "data": {
            "text/plain": [
              "<matplotlib.axes._subplots.AxesSubplot at 0x7fe5694678d0>"
            ]
          },
          "metadata": {
            "tags": []
          },
          "execution_count": 22
        },
        {
          "output_type": "display_data",
          "data": {
            "image/png": "[encoded data removed]",
            "text/plain": [
              "<Figure size 1080x720 with 1 Axes>"
            ]
          },
          "metadata": {
            "tags": [],
            "needs_background": "light"
          }
        }
      ]
    },
    {
      "cell_type": "code",
      "metadata": {
        "colab": {
          "base_uri": "https://localhost:8080/"
        },
        "id": "h222sdHWdL9_",
        "outputId": "52c6ac8e-033b-457c-8bc4-8b0a528eddab"
      },
      "source": [
        "from sklearn.metrics import mean_absolute_error\n",
        "\n",
        "mean_absolute_error(test_fb['Close'], test_fb_predictions) "
      ],
      "execution_count": null,
      "outputs": [
        {
          "output_type": "execute_result",
          "data": {
            "text/plain": [
              "712.1836967463132"
            ]
          },
          "metadata": {
            "tags": []
          },
          "execution_count": 32
        }
      ]
    },
    {
      "cell_type": "code",
      "metadata": {
        "colab": {
          "base_uri": "https://localhost:8080/"
        },
        "id": "G4RIBOcWfCXq",
        "outputId": "fbd641b5-cef2-40f4-e005-73e2f13c111e"
      },
      "source": [
        "mape = np.mean(np.abs((test_fb['Close'] -test_fb_predictions)/test_fb['Close']))*100\n",
        "mape\n"
      ],
      "execution_count": null,
      "outputs": [
        {
          "output_type": "execute_result",
          "data": {
            "text/plain": [
              "18.746907605687007"
            ]
          },
          "metadata": {
            "tags": []
          },
          "execution_count": 37
        }
      ]
    },
    {
      "cell_type": "markdown",
      "metadata": {
        "id": "W_62Wuzdvn_H"
      },
      "source": [
        "# ARIMA\n"
      ]
    },
    {
      "cell_type": "code",
      "metadata": {
        "id": "x5m8ptvkvn_I"
      },
      "source": [
        "from statsmodels.tsa.stattools import adfuller\n"
      ],
      "execution_count": null,
      "outputs": []
    },
    {
      "cell_type": "code",
      "metadata": {
        "colab": {
          "base_uri": "https://localhost:8080/",
          "height": 420
        },
        "id": "3KXcFXRQHLNB",
        "outputId": "aa93be4b-eca9-4dce-e821-036eaf45b06e"
      },
      "source": [
        "fin"
      ],
      "execution_count": null,
      "outputs": [
        {
          "output_type": "execute_result",
          "data": {
            "text/html": [
              "<div>\n",
              "<style scoped>\n",
              "    .dataframe tbody tr th:only-of-type {\n",
              "        vertical-align: middle;\n",
              "    }\n",
              "\n",
              "    .dataframe tbody tr th {\n",
              "        vertical-align: top;\n",
              "    }\n",
              "\n",
              "    .dataframe thead th {\n",
              "        text-align: right;\n",
              "    }\n",
              "</style>\n",
              "<table border=\"1\" class=\"dataframe\">\n",
              "  <thead>\n",
              "    <tr style=\"text-align: right;\">\n",
              "      <th></th>\n",
              "      <th>Close</th>\n",
              "    </tr>\n",
              "    <tr>\n",
              "      <th>Date</th>\n",
              "      <th></th>\n",
              "    </tr>\n",
              "  </thead>\n",
              "  <tbody>\n",
              "    <tr>\n",
              "      <th>2008-01-01</th>\n",
              "      <td>725.150024</td>\n",
              "    </tr>\n",
              "    <tr>\n",
              "      <th>2008-01-02</th>\n",
              "      <td>745.549988</td>\n",
              "    </tr>\n",
              "    <tr>\n",
              "      <th>2008-01-03</th>\n",
              "      <td>714.299988</td>\n",
              "    </tr>\n",
              "    <tr>\n",
              "      <th>2008-01-04</th>\n",
              "      <td>728.700012</td>\n",
              "    </tr>\n",
              "    <tr>\n",
              "      <th>2008-01-05</th>\n",
              "      <td>712.299988</td>\n",
              "    </tr>\n",
              "    <tr>\n",
              "      <th>...</th>\n",
              "      <td>...</td>\n",
              "    </tr>\n",
              "    <tr>\n",
              "      <th>2020-10-26</th>\n",
              "      <td>4978.100098</td>\n",
              "    </tr>\n",
              "    <tr>\n",
              "      <th>2020-10-27</th>\n",
              "      <td>5099.399902</td>\n",
              "    </tr>\n",
              "    <tr>\n",
              "      <th>2020-10-28</th>\n",
              "      <td>4951.000000</td>\n",
              "    </tr>\n",
              "    <tr>\n",
              "      <th>2020-10-29</th>\n",
              "      <td>4941.950195</td>\n",
              "    </tr>\n",
              "    <tr>\n",
              "      <th>2020-10-30</th>\n",
              "      <td>4888.649902</td>\n",
              "    </tr>\n",
              "  </tbody>\n",
              "</table>\n",
              "<p>4687 rows × 1 columns</p>\n",
              "</div>"
            ],
            "text/plain": [
              "                  Close\n",
              "Date                   \n",
              "2008-01-01   725.150024\n",
              "2008-01-02   745.549988\n",
              "2008-01-03   714.299988\n",
              "2008-01-04   728.700012\n",
              "2008-01-05   712.299988\n",
              "...                 ...\n",
              "2020-10-26  4978.100098\n",
              "2020-10-27  5099.399902\n",
              "2020-10-28  4951.000000\n",
              "2020-10-29  4941.950195\n",
              "2020-10-30  4888.649902\n",
              "\n",
              "[4687 rows x 1 columns]"
            ]
          },
          "metadata": {
            "tags": []
          },
          "execution_count": 24
        }
      ]
    },
    {
      "cell_type": "code",
      "metadata": {
        "id": "ufqsJ9kdDjyM",
        "colab": {
          "base_uri": "https://localhost:8080/",
          "height": 282
        },
        "outputId": "66fc92be-3de0-44e1-95aa-2d3a338d6735"
      },
      "source": [
        "from matplotlib import pyplot\n",
        "from pandas.plotting import autocorrelation_plot\n",
        "autocorrelation_plot(fin)\n",
        "pyplot.show()"
      ],
      "execution_count": null,
      "outputs": [
        {
          "output_type": "display_data",
          "data": {
            "image/png": "[encoded data removed]",
            "text/plain": [
              "<Figure size 432x288 with 1 Axes>"
            ]
          },
          "metadata": {
            "tags": [],
            "needs_background": "light"
          }
        }
      ]
    },
    {
      "cell_type": "code",
      "metadata": {
        "id": "fd-zAtIuGPPX",
        "colab": {
          "base_uri": "https://localhost:8080/",
          "height": 1000
        },
        "outputId": "6c1ba5a2-f4d9-4eef-8b3e-be04bd69ed18"
      },
      "source": [
        "from pandas import DataFrame\n",
        "model = ARIMA(fin, order=(2,2,1))\n",
        "model_fit = model.fit(disp=0)\n",
        "print(model_fit.summary())\n",
        "# plot residual errors\n",
        "residuals = DataFrame(model_fit.resid)\n",
        "residuals.plot()\n",
        "pyplot.show()\n",
        "residuals.plot(kind='kde')\n",
        "pyplot.show()\n",
        "print(residuals.describe())"
      ],
      "execution_count": null,
      "outputs": [
        {
          "output_type": "stream",
          "text": [
            "                             ARIMA Model Results                              \n",
            "==============================================================================\n",
            "Dep. Variable:               D2.Close   No. Observations:                 4685\n",
            "Model:                 ARIMA(2, 2, 1)   Log Likelihood              -23490.002\n",
            "Method:                       css-mle   S.D. of innovations             36.382\n",
            "Date:                Wed, 02 Dec 2020   AIC                          46990.003\n",
            "Time:                        21:56:15   BIC                          47022.264\n",
            "Sample:                    01-03-2008   HQIC                         47001.347\n",
            "                         - 10-30-2020                                         \n",
            "==================================================================================\n",
            "                     coef    std err          z      P>|z|      [0.025      0.975]\n",
            "----------------------------------------------------------------------------------\n",
            "const              0.0003      0.000      0.741      0.458      -0.001       0.001\n",
            "ar.L1.D2.Close     0.0624      0.015      4.269      0.000       0.034       0.091\n",
            "ar.L2.D2.Close     0.0219      0.015      1.501      0.133      -0.007       0.051\n",
            "ma.L1.D2.Close    -1.0000      0.001  -1273.424      0.000      -1.001      -0.998\n",
            "                                    Roots                                    \n",
            "=============================================================================\n",
            "                  Real          Imaginary           Modulus         Frequency\n",
            "-----------------------------------------------------------------------------\n",
            "AR.1            5.4782           +0.0000j            5.4782            0.0000\n",
            "AR.2           -8.3215           +0.0000j            8.3215            0.5000\n",
            "MA.1            1.0000           +0.0000j            1.0000            0.0000\n",
            "-----------------------------------------------------------------------------\n"
          ],
          "name": "stdout"
        },
        {
          "output_type": "display_data",
          "data": {
            "image/png": "[encoded data removed]",
            "text/plain": [
              "<Figure size 432x288 with 1 Axes>"
            ]
          },
          "metadata": {
            "tags": [],
            "needs_background": "light"
          }
        },
        {
          "output_type": "display_data",
          "data": {
            "image/png": "[encoded data removed]",
            "text/plain": [
              "<Figure size 432x288 with 1 Axes>"
            ]
          },
          "metadata": {
            "tags": [],
            "needs_background": "light"
          }
        },
        {
          "output_type": "stream",
          "text": [
            "                 0\n",
            "count  4685.000000\n",
            "mean      0.039677\n",
            "std      36.398024\n",
            "min    -615.441682\n",
            "25%      -7.988914\n",
            "50%      -0.741620\n",
            "75%       8.153704\n",
            "max     488.103098\n"
          ],
          "name": "stdout"
        }
      ]
    },
    {
      "cell_type": "code",
      "metadata": {
        "id": "QE8eozCtNRzs",
        "colab": {
          "base_uri": "https://localhost:8080/"
        },
        "outputId": "b7b4c9c6-971c-43ed-f904-f4c0a8a82245"
      },
      "source": [
        "pyplot"
      ],
      "execution_count": null,
      "outputs": [
        {
          "output_type": "execute_result",
          "data": {
            "text/plain": [
              "<module 'matplotlib.pyplot' from '/usr/local/lib/python3.6/dist-packages/matplotlib/pyplot.py'>"
            ]
          },
          "metadata": {
            "tags": []
          },
          "execution_count": 27
        }
      ]
    },
    {
      "cell_type": "code",
      "metadata": {
        "id": "4FBk47CQHN9Z",
        "colab": {
          "base_uri": "https://localhost:8080/"
        },
        "outputId": "22761aa4-0873-4224-c4e7-1b4856bf7580"
      },
      "source": [
        "import math\n",
        "from sklearn.metrics import mean_squared_error\n",
        "X = fin.values\n",
        "size = int(len(X) * 0.66)\n",
        "train, test = X[0:4500], X[4501:4685]\n",
        "history = [x for x in train]\n",
        "predictions = list()\n",
        "for t in range(len(test)):\n",
        "\tmodel = ARIMA(history, order=(2,2,0))\n",
        "\tmodel_fit = model.fit(disp=1)\n",
        "\toutput = model_fit.forecast()\n",
        "\tyhat = output[0]\n",
        "\tpredictions.append(yhat)\n",
        "\tobs = test[t]\n",
        "\thistory.append(obs)\n",
        "\tprint('predicted=%f, expected=%f' % (yhat, obs))\n",
        "\n"
      ],
      "execution_count": null,
      "outputs": [
        {
          "output_type": "stream",
          "text": [
            "predicted=3966.138269, expected=3949.750000\n",
            "predicted=3930.808362, expected=3880.699951\n",
            "predicted=3844.223859, expected=3936.300049\n",
            "predicted=3928.208414, expected=3939.000000\n",
            "predicted=3935.640221, expected=3939.000000\n",
            "predicted=3956.792971, expected=3939.000000\n",
            "predicted=3939.823122, expected=3939.000000\n",
            "predicted=3938.998725, expected=3833.899902\n",
            "predicted=3792.370943, expected=3852.500000\n",
            "predicted=3828.261575, expected=3837.649902\n",
            "predicted=3805.237530, expected=3984.000000\n",
            "predicted=4042.952599, expected=3862.000000\n",
            "predicted=3854.303871, expected=3862.000000\n",
            "predicted=3869.321265, expected=3862.000000\n",
            "predicted=3824.910577, expected=3773.399902\n",
            "predicted=3738.760686, expected=3779.600098\n",
            "predicted=3755.004752, expected=3732.000000\n",
            "predicted=3688.297351, expected=3735.100098\n",
            "predicted=3723.646097, expected=3679.149902\n",
            "predicted=3643.785221, expected=3679.149902\n",
            "predicted=3662.955831, expected=3679.149902\n",
            "predicted=3662.124753, expected=3699.600098\n",
            "predicted=3707.577277, expected=3910.199951\n",
            "predicted=3998.732767, expected=3847.500000\n",
            "predicted=3894.316080, expected=3892.850098\n",
            "predicted=3955.517811, expected=3864.300049\n",
            "predicted=3848.294191, expected=3864.300049\n",
            "predicted=3869.187633, expected=3864.300049\n",
            "predicted=3855.645437, expected=3864.300049\n",
            "predicted=3864.298796, expected=3883.000000\n",
            "predicted=3890.236310, expected=3887.750000\n",
            "predicted=3895.390199, expected=4071.250000\n",
            "predicted=4149.385558, expected=3953.550049\n",
            "predicted=3967.446562, expected=3953.550049\n",
            "predicted=3972.625998, expected=3953.550049\n",
            "predicted=3917.766220, expected=3895.300049\n",
            "predicted=3872.995265, expected=3962.399902\n",
            "predicted=3969.783773, expected=3998.899902\n",
            "predicted=4016.130602, expected=4024.899902\n",
            "predicted=4066.715358, expected=3967.600098\n",
            "predicted=3964.903892, expected=3967.600098\n",
            "predicted=3957.547598, expected=3967.600098\n",
            "predicted=3950.169485, expected=4123.799805\n",
            "predicted=4183.705772, expected=4112.500000\n",
            "predicted=4157.338837, expected=4057.600098\n",
            "predicted=4080.594458, expected=4007.949951\n",
            "predicted=3968.247349, expected=4012.300049\n",
            "predicted=3981.790910, expected=4012.300049\n",
            "predicted=3998.618946, expected=4012.300049\n",
            "predicted=4013.616287, expected=4005.449951\n",
            "predicted=4002.814251, expected=3985.199951\n",
            "predicted=3975.266543, expected=4007.000000\n",
            "predicted=4006.968920, expected=4005.600098\n",
            "predicted=4005.750206, expected=4032.850098\n",
            "predicted=4049.489581, expected=4032.850098\n",
            "predicted=4040.958872, expected=4032.850098\n",
            "predicted=4041.099793, expected=4108.850098\n",
            "predicted=4138.062465, expected=4042.649902\n",
            "predicted=4041.087896, expected=4006.600098\n",
            "predicted=3995.102429, expected=3998.600098\n",
            "predicted=3964.150941, expected=3973.850098\n",
            "predicted=3950.901153, expected=3973.850098\n",
            "predicted=3963.674029, expected=3973.850098\n",
            "predicted=3966.338818, expected=3944.949951\n",
            "predicted=3933.852447, expected=3911.449951\n",
            "predicted=3889.540147, expected=3920.550049\n",
            "predicted=3904.788011, expected=3921.449951\n",
            "predicted=3914.472011, expected=3892.000000\n",
            "predicted=3883.734403, expected=3892.000000\n",
            "predicted=3883.061434, expected=3892.000000\n",
            "predicted=3883.054731, expected=3823.500000\n",
            "predicted=3797.202203, expected=3886.699951\n",
            "predicted=3889.471070, expected=3896.600098\n",
            "predicted=3899.325007, expected=3905.449951\n",
            "predicted=3931.164909, expected=3899.550049\n",
            "predicted=3903.067758, expected=3899.550049\n",
            "predicted=3900.391914, expected=3899.550049\n",
            "predicted=3897.755309, expected=3983.149902\n",
            "predicted=4015.197537, expected=4036.449951\n",
            "predicted=4083.061588, expected=4152.149902\n",
            "predicted=4238.599277, expected=4118.750000\n",
            "predicted=4158.479886, expected=4092.100098\n",
            "predicted=4106.475807, expected=4092.100098\n",
            "predicted=4073.628128, expected=4092.100098\n",
            "predicted=4084.028210, expected=4033.550049\n",
            "predicted=4011.063578, expected=4061.600098\n",
            "predicted=4054.001437, expected=4130.000000\n",
            "predicted=4147.293766, expected=4065.949951\n",
            "predicted=4071.312457, expected=4015.699951\n",
            "predicted=3997.223478, expected=4015.699951\n",
            "predicted=3980.524505, expected=4015.699951\n",
            "predicted=4000.403173, expected=4051.350098\n",
            "predicted=4065.055294, expected=4302.200195\n",
            "predicted=4410.005076, expected=4516.600098\n",
            "predicted=4688.448323, expected=4521.049805\n",
            "predicted=4665.386915, expected=4527.450195\n",
            "predicted=4596.398800, expected=4527.450195\n",
            "predicted=4530.755119, expected=4527.450195\n",
            "predicted=4529.380648, expected=4634.850098\n",
            "predicted=4676.932211, expected=4600.950195\n",
            "predicted=4620.694168, expected=4583.049805\n",
            "predicted=4598.144804, expected=4573.500000\n",
            "predicted=4554.025201, expected=4690.899902\n",
            "predicted=4728.547476, expected=4690.899902\n",
            "predicted=4724.080321, expected=4690.899902\n",
            "predicted=4726.402312, expected=4595.899902\n",
            "predicted=4558.641622, expected=4518.149902\n",
            "predicted=4458.414418, expected=4502.250000\n",
            "predicted=4443.554028, expected=4519.399902\n",
            "predicted=4497.907337, expected=4519.149902\n",
            "predicted=4519.541470, expected=4519.149902\n",
            "predicted=4524.219905, expected=4519.149902\n",
            "predicted=4519.073602, expected=4520.399902\n",
            "predicted=4520.890302, expected=4489.250000\n",
            "predicted=4477.381068, expected=4476.000000\n",
            "predicted=4461.601490, expected=4489.750000\n",
            "predicted=4481.738472, expected=4472.549805\n",
            "predicted=4466.024593, expected=4472.549805\n",
            "predicted=4471.398976, expected=4472.549805\n",
            "predicted=4467.383765, expected=4427.700195\n",
            "predicted=4410.062900, expected=4434.750000\n",
            "predicted=4423.755599, expected=4437.000000\n",
            "predicted=4426.571095, expected=4374.299805\n",
            "predicted=4352.466466, expected=4264.700195\n",
            "predicted=4203.017751, expected=4264.700195\n",
            "predicted=4212.262678, expected=4264.700195\n",
            "predicted=4231.707748, expected=4351.950195\n",
            "predicted=4386.365126, expected=4352.750000\n",
            "predicted=4379.825573, expected=4433.149902\n",
            "predicted=4491.169159, expected=4322.500000\n",
            "predicted=4304.104347, expected=4419.850098\n",
            "predicted=4447.465585, expected=4419.850098\n",
            "predicted=4417.221112, expected=4419.850098\n",
            "predicted=4448.864087, expected=4348.799805\n",
            "predicted=4321.016123, expected=4429.450195\n",
            "predicted=4438.672201, expected=4380.149902\n",
            "predicted=4365.143199, expected=4401.600098\n",
            "predicted=4418.386275, expected=4364.100098\n",
            "predicted=4341.666205, expected=4364.100098\n",
            "predicted=4358.626314, expected=4364.100098\n",
            "predicted=4352.991315, expected=4442.350098\n",
            "predicted=4472.794542, expected=4627.899902\n",
            "predicted=4724.992062, expected=4827.250000\n",
            "predicted=4986.791068, expected=5333.350098\n",
            "predicted=5649.943814, expected=5142.000000\n",
            "predicted=5294.428559, expected=5142.000000\n",
            "predicted=5232.202538, expected=5142.000000\n",
            "predicted=5086.173598, expected=5167.950195\n",
            "predicted=5178.017731, expected=5107.750000\n",
            "predicted=5092.773582, expected=5027.399902\n",
            "predicted=4984.328676, expected=5112.200195\n",
            "predicted=5101.675456, expected=5129.850098\n",
            "predicted=5140.548002, expected=5129.850098\n",
            "predicted=5160.221174, expected=5129.850098\n",
            "predicted=5134.986098, expected=5084.200195\n",
            "predicted=5066.479607, expected=5187.799805\n",
            "predicted=5213.264867, expected=5112.049805\n",
            "predicted=5102.935672, expected=5159.500000\n",
            "predicted=5183.411839, expected=5159.500000\n",
            "predicted=5152.859313, expected=5159.500000\n",
            "predicted=5173.294062, expected=5159.500000\n",
            "predicted=5159.498885, expected=5136.500000\n",
            "predicted=5127.636270, expected=5104.950195\n",
            "predicted=5085.329122, expected=5194.399902\n",
            "predicted=5211.926462, expected=5153.000000\n",
            "predicted=5156.944520, expected=5220.500000\n",
            "predicted=5258.943234, expected=5220.500000\n",
            "predicted=5230.491723, expected=5220.500000\n",
            "predicted=5240.115144, expected=5168.750000\n",
            "predicted=5148.880608, expected=5123.000000\n",
            "predicted=5088.539641, expected=5056.250000\n",
            "predicted=5000.674248, expected=5080.549805\n",
            "predicted=5054.819984, expected=5058.149902\n",
            "predicted=5038.134469, expected=5058.149902\n",
            "predicted=5057.870080, expected=5058.149902\n",
            "predicted=5051.659625, expected=5071.149902\n",
            "predicted=5076.141102, expected=5046.750000\n",
            "predicted=5041.627395, expected=5022.000000\n",
            "predicted=5008.287734, expected=5018.250000\n",
            "predicted=5001.654924, expected=4978.100098\n",
            "predicted=4954.286443, expected=4978.100098\n",
            "predicted=4963.892199, expected=4978.100098\n",
            "predicted=4966.465852, expected=5099.399902\n",
            "predicted=5146.005926, expected=4951.000000\n"
          ],
          "name": "stdout"
        }
      ]
    },
    {
      "cell_type": "code",
      "metadata": {
        "id": "1INGyfFhF_9P",
        "colab": {
          "base_uri": "https://localhost:8080/"
        },
        "outputId": "c0bd6498-0685-4821-b7bf-9a6970a63721"
      },
      "source": [
        "error = mean_squared_error(test, predictions)\n",
        "rmse = math.sqrt(error)\n",
        "print('Test RMSE: %.3f' % rmse)\n",
        "# plot"
      ],
      "execution_count": null,
      "outputs": [
        {
          "output_type": "stream",
          "text": [
            "Test RMSE: 84.691\n"
          ],
          "name": "stdout"
        }
      ]
    },
    {
      "cell_type": "code",
      "metadata": {
        "colab": {
          "base_uri": "https://localhost:8080/"
        },
        "id": "H5XwKO8rdX8i",
        "outputId": "e2901097-c4c9-46ba-95b7-f3a526dbe345"
      },
      "source": [
        "from sklearn.metrics import mean_absolute_error\n",
        "\n",
        "mean_absolute_error(test, predictions) "
      ],
      "execution_count": null,
      "outputs": [
        {
          "output_type": "execute_result",
          "data": {
            "text/plain": [
              "55.82076906316014"
            ]
          },
          "metadata": {
            "tags": []
          },
          "execution_count": 33
        }
      ]
    },
    {
      "cell_type": "code",
      "metadata": {
        "colab": {
          "base_uri": "https://localhost:8080/"
        },
        "id": "clbNGWQkdfJR",
        "outputId": "0c6bb10f-6f07-421c-d824-dc17fe58c294"
      },
      "source": [
        "mape = np.mean(np.abs((test - predictions)/test))*100\n",
        "mape\n"
      ],
      "execution_count": null,
      "outputs": [
        {
          "output_type": "execute_result",
          "data": {
            "text/plain": [
              "1.2682282403266076"
            ]
          },
          "metadata": {
            "tags": []
          },
          "execution_count": 36
        }
      ]
    },
    {
      "cell_type": "code",
      "metadata": {
        "id": "1ON5A1GNMZYl",
        "colab": {
          "base_uri": "https://localhost:8080/",
          "height": 595
        },
        "outputId": "67e330a8-9b3c-4a4d-db4c-2a95cd975217"
      },
      "source": [
        "plt.figure(figsize=(15,10))\n",
        "\n",
        "pyplot.plot(test, color = 'green')\n",
        "pyplot.plot(predictions, color='orange')\n",
        "pyplot.legend(['Test Data','Prediction Data'])\n",
        "pyplot.show()"
      ],
      "execution_count": null,
      "outputs": [
        {
          "output_type": "display_data",
          "data": {
            "image/png": "[encoded data removed]",
            "text/plain": [
              "<Figure size 1080x720 with 1 Axes>"
            ]
          },
          "metadata": {
            "tags": [],
            "needs_background": "light"
          }
        }
      ]
    },
    {
      "cell_type": "markdown",
      "metadata": {
        "id": "-YOas-L6voAh"
      },
      "source": [
        "## NEW ARIMA\n"
      ]
    },
    {
      "cell_type": "code",
      "metadata": {
        "id": "xOTo7-RRvoAi"
      },
      "source": [
        "import numpy as np\n",
        "import pandas as pd\n",
        "from matplotlib import pyplot as plt\n",
        "from statsmodels.tsa.stattools import adfuller\n",
        "from statsmodels.tsa.seasonal import seasonal_decompose\n",
        "from statsmodels.tsa.arima_model import ARIMA\n",
        "from pandas.plotting import register_matplotlib_converters\n",
        "register_matplotlib_converters()"
      ],
      "execution_count": null,
      "outputs": []
    },
    {
      "cell_type": "code",
      "metadata": {
        "id": "GYSN3phRG5jD"
      },
      "source": [
        ""
      ],
      "execution_count": null,
      "outputs": []
    }
  ]
}