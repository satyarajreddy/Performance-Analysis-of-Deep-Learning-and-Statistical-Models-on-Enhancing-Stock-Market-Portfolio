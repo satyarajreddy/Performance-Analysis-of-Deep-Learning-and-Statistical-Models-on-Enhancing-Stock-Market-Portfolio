{
  "nbformat": 4,
  "nbformat_minor": 0,
  "metadata": {
    "colab": {
      "name": "StatsModels_GAIL.ipynb",
      "provenance": [],
      "collapsed_sections": [
        "W_62Wuzdvn_H",
        "-YOas-L6voAh"
      ],
      "toc_visible": true
    },
    "kernelspec": {
      "display_name": "Python 3",
      "language": "python",
      "name": "python3"
    },
    "language_info": {
      "codemirror_mode": {
        "name": "ipython",
        "version": 3
      },
      "file_extension": ".py",
      "mimetype": "text/x-python",
      "name": "python",
      "nbconvert_exporter": "python",
      "pygments_lexer": "ipython3",
      "version": "3.5.5"
    },
    "accelerator": "GPU"
  },
  "cells": [
    {
      "cell_type": "code",
      "metadata": {
        "id": "stNR4rsXvn86",
        "colab": {
          "base_uri": "https://localhost:8080/"
        },
        "outputId": "40983465-c2e1-44d1-98d4-2a1767077abd"
      },
      "source": [
        "#Importing all the Libraries needed\n",
        "import pandas as pd\n",
        "import matplotlib.pyplot as plt\n",
        "from statsmodels.tsa.seasonal import seasonal_decompose\n",
        "from statsmodels.tsa.arima_model import ARMA,ARIMA,ARMAResults,ARIMAResults\n",
        "import numpy as np\n",
        "\n",
        "import warnings\n",
        "warnings.filterwarnings('ignore')"
      ],
      "execution_count": null,
      "outputs": [
        {
          "output_type": "stream",
          "text": [
            "/usr/local/lib/python3.6/dist-packages/statsmodels/tools/_testing.py:19: FutureWarning: pandas.util.testing is deprecated. Use the functions in the public API at pandas.testing instead.\n",
            "  import pandas.util.testing as tm\n"
          ],
          "name": "stderr"
        }
      ]
    },
    {
      "cell_type": "code",
      "metadata": {
        "colab": {
          "resources": {
            "http://localhost:8080/nbextensions/google.colab/files.js": {
              "data": "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",
              "ok": true,
              "headers": [
                [
                  "content-type",
                  "application/javascript"
                ]
              ],
              "status": 200,
              "status_text": ""
            }
          },
          "base_uri": "https://localhost:8080/",
          "height": 70
        },
        "id": "5aiTNienvn9M",
        "outputId": "2b233998-fd8e-4f0d-90de-9f3dcf095cb1"
      },
      "source": [
        "from google.colab import files\n",
        "uploaded = files.upload()\n",
        "import pandas as pd\n",
        "import io\n",
        "\n",
        "fb=pd.read_csv('GAIL.NS.csv',parse_dates=True,index_col='Date')\n",
        "fb=fb.drop(columns=['Adj Close','Open','Low','High','Volume'])"
      ],
      "execution_count": null,
      "outputs": [
        {
          "output_type": "display_data",
          "data": {
            "text/html": [
              "\n",
              "     <input type=\"file\" id=\"files-eccc6bc9-307e-46fe-8713-83792166f0e9\" name=\"files[]\" multiple disabled\n",
              "        style=\"border:none\" />\n",
              "     <output id=\"result-eccc6bc9-307e-46fe-8713-83792166f0e9\">\n",
              "      Upload widget is only available when the cell has been executed in the\n",
              "      current browser session. Please rerun this cell to enable.\n",
              "      </output>\n",
              "      <script src=\"/nbextensions/google.colab/files.js\"></script> "
            ],
            "text/plain": [
              "<IPython.core.display.HTML object>"
            ]
          },
          "metadata": {
            "tags": []
          }
        },
        {
          "output_type": "stream",
          "text": [
            "Saving GAIL.NS.csv to GAIL.NS.csv\n"
          ],
          "name": "stdout"
        }
      ]
    },
    {
      "cell_type": "code",
      "metadata": {
        "colab": {
          "base_uri": "https://localhost:8080/",
          "height": 420
        },
        "id": "0IaUMh4ivn9T",
        "outputId": "528a0d3a-ab81-48f3-a76f-5bd47d5ad350"
      },
      "source": [
        "fin =fb\n",
        "fin"
      ],
      "execution_count": null,
      "outputs": [
        {
          "output_type": "execute_result",
          "data": {
            "text/html": [
              "<div>\n",
              "<style scoped>\n",
              "    .dataframe tbody tr th:only-of-type {\n",
              "        vertical-align: middle;\n",
              "    }\n",
              "\n",
              "    .dataframe tbody tr th {\n",
              "        vertical-align: top;\n",
              "    }\n",
              "\n",
              "    .dataframe thead th {\n",
              "        text-align: right;\n",
              "    }\n",
              "</style>\n",
              "<table border=\"1\" class=\"dataframe\">\n",
              "  <thead>\n",
              "    <tr style=\"text-align: right;\">\n",
              "      <th></th>\n",
              "      <th>Close</th>\n",
              "    </tr>\n",
              "    <tr>\n",
              "      <th>Date</th>\n",
              "      <th></th>\n",
              "    </tr>\n",
              "  </thead>\n",
              "  <tbody>\n",
              "    <tr>\n",
              "      <th>2008-01-01</th>\n",
              "      <td>101.811996</td>\n",
              "    </tr>\n",
              "    <tr>\n",
              "      <th>2008-01-02</th>\n",
              "      <td>99.731201</td>\n",
              "    </tr>\n",
              "    <tr>\n",
              "      <th>2008-01-03</th>\n",
              "      <td>101.005997</td>\n",
              "    </tr>\n",
              "    <tr>\n",
              "      <th>2008-01-04</th>\n",
              "      <td>101.005997</td>\n",
              "    </tr>\n",
              "    <tr>\n",
              "      <th>2008-01-07</th>\n",
              "      <td>97.753098</td>\n",
              "    </tr>\n",
              "    <tr>\n",
              "      <th>...</th>\n",
              "      <td>...</td>\n",
              "    </tr>\n",
              "    <tr>\n",
              "      <th>2020-10-26</th>\n",
              "      <td>85.500000</td>\n",
              "    </tr>\n",
              "    <tr>\n",
              "      <th>2020-10-27</th>\n",
              "      <td>84.199997</td>\n",
              "    </tr>\n",
              "    <tr>\n",
              "      <th>2020-10-28</th>\n",
              "      <td>83.099998</td>\n",
              "    </tr>\n",
              "    <tr>\n",
              "      <th>2020-10-29</th>\n",
              "      <td>83.449997</td>\n",
              "    </tr>\n",
              "    <tr>\n",
              "      <th>2020-10-30</th>\n",
              "      <td>84.750000</td>\n",
              "    </tr>\n",
              "  </tbody>\n",
              "</table>\n",
              "<p>3167 rows × 1 columns</p>\n",
              "</div>"
            ],
            "text/plain": [
              "                 Close\n",
              "Date                  \n",
              "2008-01-01  101.811996\n",
              "2008-01-02   99.731201\n",
              "2008-01-03  101.005997\n",
              "2008-01-04  101.005997\n",
              "2008-01-07   97.753098\n",
              "...                ...\n",
              "2020-10-26   85.500000\n",
              "2020-10-27   84.199997\n",
              "2020-10-28   83.099998\n",
              "2020-10-29   83.449997\n",
              "2020-10-30   84.750000\n",
              "\n",
              "[3167 rows x 1 columns]"
            ]
          },
          "metadata": {
            "tags": []
          },
          "execution_count": 4
        }
      ]
    },
    {
      "cell_type": "code",
      "metadata": {
        "colab": {
          "base_uri": "https://localhost:8080/",
          "height": 420
        },
        "id": "d4KrIETdvn9b",
        "outputId": "67749343-c285-40d6-97f1-cfe257cd7b54"
      },
      "source": [
        "fb=fb.asfreq(freq='D',method='bfill')\n",
        "fin = fin.asfreq(freq='D',method='bfill')\n",
        "fin"
      ],
      "execution_count": null,
      "outputs": [
        {
          "output_type": "execute_result",
          "data": {
            "text/html": [
              "<div>\n",
              "<style scoped>\n",
              "    .dataframe tbody tr th:only-of-type {\n",
              "        vertical-align: middle;\n",
              "    }\n",
              "\n",
              "    .dataframe tbody tr th {\n",
              "        vertical-align: top;\n",
              "    }\n",
              "\n",
              "    .dataframe thead th {\n",
              "        text-align: right;\n",
              "    }\n",
              "</style>\n",
              "<table border=\"1\" class=\"dataframe\">\n",
              "  <thead>\n",
              "    <tr style=\"text-align: right;\">\n",
              "      <th></th>\n",
              "      <th>Close</th>\n",
              "    </tr>\n",
              "    <tr>\n",
              "      <th>Date</th>\n",
              "      <th></th>\n",
              "    </tr>\n",
              "  </thead>\n",
              "  <tbody>\n",
              "    <tr>\n",
              "      <th>2008-01-01</th>\n",
              "      <td>101.811996</td>\n",
              "    </tr>\n",
              "    <tr>\n",
              "      <th>2008-01-02</th>\n",
              "      <td>99.731201</td>\n",
              "    </tr>\n",
              "    <tr>\n",
              "      <th>2008-01-03</th>\n",
              "      <td>101.005997</td>\n",
              "    </tr>\n",
              "    <tr>\n",
              "      <th>2008-01-04</th>\n",
              "      <td>101.005997</td>\n",
              "    </tr>\n",
              "    <tr>\n",
              "      <th>2008-01-05</th>\n",
              "      <td>97.753098</td>\n",
              "    </tr>\n",
              "    <tr>\n",
              "      <th>...</th>\n",
              "      <td>...</td>\n",
              "    </tr>\n",
              "    <tr>\n",
              "      <th>2020-10-26</th>\n",
              "      <td>85.500000</td>\n",
              "    </tr>\n",
              "    <tr>\n",
              "      <th>2020-10-27</th>\n",
              "      <td>84.199997</td>\n",
              "    </tr>\n",
              "    <tr>\n",
              "      <th>2020-10-28</th>\n",
              "      <td>83.099998</td>\n",
              "    </tr>\n",
              "    <tr>\n",
              "      <th>2020-10-29</th>\n",
              "      <td>83.449997</td>\n",
              "    </tr>\n",
              "    <tr>\n",
              "      <th>2020-10-30</th>\n",
              "      <td>84.750000</td>\n",
              "    </tr>\n",
              "  </tbody>\n",
              "</table>\n",
              "<p>4687 rows × 1 columns</p>\n",
              "</div>"
            ],
            "text/plain": [
              "                 Close\n",
              "Date                  \n",
              "2008-01-01  101.811996\n",
              "2008-01-02   99.731201\n",
              "2008-01-03  101.005997\n",
              "2008-01-04  101.005997\n",
              "2008-01-05   97.753098\n",
              "...                ...\n",
              "2020-10-26   85.500000\n",
              "2020-10-27   84.199997\n",
              "2020-10-28   83.099998\n",
              "2020-10-29   83.449997\n",
              "2020-10-30   84.750000\n",
              "\n",
              "[4687 rows x 1 columns]"
            ]
          },
          "metadata": {
            "tags": []
          },
          "execution_count": 5
        }
      ]
    },
    {
      "cell_type": "code",
      "metadata": {
        "colab": {
          "base_uri": "https://localhost:8080/",
          "height": 420
        },
        "id": "noQF6IEWvn9g",
        "outputId": "edd999ba-a06b-47a3-fdf2-e327e9330b8e"
      },
      "source": [
        "fb"
      ],
      "execution_count": null,
      "outputs": [
        {
          "output_type": "execute_result",
          "data": {
            "text/html": [
              "<div>\n",
              "<style scoped>\n",
              "    .dataframe tbody tr th:only-of-type {\n",
              "        vertical-align: middle;\n",
              "    }\n",
              "\n",
              "    .dataframe tbody tr th {\n",
              "        vertical-align: top;\n",
              "    }\n",
              "\n",
              "    .dataframe thead th {\n",
              "        text-align: right;\n",
              "    }\n",
              "</style>\n",
              "<table border=\"1\" class=\"dataframe\">\n",
              "  <thead>\n",
              "    <tr style=\"text-align: right;\">\n",
              "      <th></th>\n",
              "      <th>Close</th>\n",
              "    </tr>\n",
              "    <tr>\n",
              "      <th>Date</th>\n",
              "      <th></th>\n",
              "    </tr>\n",
              "  </thead>\n",
              "  <tbody>\n",
              "    <tr>\n",
              "      <th>2008-01-01</th>\n",
              "      <td>101.811996</td>\n",
              "    </tr>\n",
              "    <tr>\n",
              "      <th>2008-01-02</th>\n",
              "      <td>99.731201</td>\n",
              "    </tr>\n",
              "    <tr>\n",
              "      <th>2008-01-03</th>\n",
              "      <td>101.005997</td>\n",
              "    </tr>\n",
              "    <tr>\n",
              "      <th>2008-01-04</th>\n",
              "      <td>101.005997</td>\n",
              "    </tr>\n",
              "    <tr>\n",
              "      <th>2008-01-05</th>\n",
              "      <td>97.753098</td>\n",
              "    </tr>\n",
              "    <tr>\n",
              "      <th>...</th>\n",
              "      <td>...</td>\n",
              "    </tr>\n",
              "    <tr>\n",
              "      <th>2020-10-26</th>\n",
              "      <td>85.500000</td>\n",
              "    </tr>\n",
              "    <tr>\n",
              "      <th>2020-10-27</th>\n",
              "      <td>84.199997</td>\n",
              "    </tr>\n",
              "    <tr>\n",
              "      <th>2020-10-28</th>\n",
              "      <td>83.099998</td>\n",
              "    </tr>\n",
              "    <tr>\n",
              "      <th>2020-10-29</th>\n",
              "      <td>83.449997</td>\n",
              "    </tr>\n",
              "    <tr>\n",
              "      <th>2020-10-30</th>\n",
              "      <td>84.750000</td>\n",
              "    </tr>\n",
              "  </tbody>\n",
              "</table>\n",
              "<p>4687 rows × 1 columns</p>\n",
              "</div>"
            ],
            "text/plain": [
              "                 Close\n",
              "Date                  \n",
              "2008-01-01  101.811996\n",
              "2008-01-02   99.731201\n",
              "2008-01-03  101.005997\n",
              "2008-01-04  101.005997\n",
              "2008-01-05   97.753098\n",
              "...                ...\n",
              "2020-10-26   85.500000\n",
              "2020-10-27   84.199997\n",
              "2020-10-28   83.099998\n",
              "2020-10-29   83.449997\n",
              "2020-10-30   84.750000\n",
              "\n",
              "[4687 rows x 1 columns]"
            ]
          },
          "metadata": {
            "tags": []
          },
          "execution_count": 6
        }
      ]
    },
    {
      "cell_type": "markdown",
      "metadata": {
        "id": "xXHztsAbvn9l"
      },
      "source": [
        "\n",
        "#Forecasting Procedure:\n",
        "   \n",
        "   1.)Choose a Model\n",
        "   2.)Split the Data into Training and Test Data\n",
        "   3.)Fit the Model on Training Data\n",
        "   4.)Evaluate the Model on Test Data\n",
        "   5.)Re-Fit the Model on Entire Data\n",
        "   6.)Forecast for Future Data\n",
        "   \n",
        "   "
      ]
    },
    {
      "cell_type": "code",
      "metadata": {
        "colab": {
          "base_uri": "https://localhost:8080/"
        },
        "id": "lZtupxLkvn9m",
        "scrolled": true,
        "outputId": "d86915c3-f295-4c60-b2f2-d40c5b03a0d4"
      },
      "source": [
        "fb['Close'].plot()"
      ],
      "execution_count": null,
      "outputs": [
        {
          "output_type": "execute_result",
          "data": {
            "text/plain": [
              "<matplotlib.axes._subplots.AxesSubplot at 0x7f709d6ee828>"
            ]
          },
          "metadata": {
            "tags": []
          },
          "execution_count": 7
        },
        {
          "output_type": "display_data",
          "data": {
            "image/png": "[encoded data removed]",
            "text/plain": [
              "<Figure size 432x288 with 1 Axes>"
            ]
          },
          "metadata": {
            "tags": [],
            "needs_background": "light"
          }
        }
      ]
    },
    {
      "cell_type": "code",
      "metadata": {
        "id": "VQ_gs6R2DlvQ"
      },
      "source": [
        "fb=fb.fillna(method='ffill')\n",
        "fin = fin.fillna(method='ffill')"
      ],
      "execution_count": null,
      "outputs": []
    },
    {
      "cell_type": "code",
      "metadata": {
        "colab": {
          "base_uri": "https://localhost:8080/"
        },
        "id": "D3xQNDt2EsAs",
        "outputId": "8a12269f-a368-47bc-b7fa-c5cd8a03d7ae"
      },
      "source": [
        "fb.isnull().values.any()\n",
        "fin.isnull().values.any()"
      ],
      "execution_count": null,
      "outputs": [
        {
          "output_type": "execute_result",
          "data": {
            "text/plain": [
              "False"
            ]
          },
          "metadata": {
            "tags": []
          },
          "execution_count": 9
        }
      ]
    },
    {
      "cell_type": "code",
      "metadata": {
        "id": "_kdWiCSIvn9u"
      },
      "source": [
        "breakup=seasonal_decompose(fb['Close'],model='additive')"
      ],
      "execution_count": null,
      "outputs": []
    },
    {
      "cell_type": "code",
      "metadata": {
        "colab": {
          "base_uri": "https://localhost:8080/"
        },
        "id": "oEqbzy0Kvn9z",
        "outputId": "a747b45b-87ce-4b8a-c8db-bc0fa5804902"
      },
      "source": [
        "breakup.plot();"
      ],
      "execution_count": null,
      "outputs": [
        {
          "output_type": "display_data",
          "data": {
            "image/png": "[encoded data removed]",
            "text/plain": [
              "<Figure size 432x288 with 4 Axes>"
            ]
          },
          "metadata": {
            "tags": [],
            "needs_background": "light"
          }
        }
      ]
    },
    {
      "cell_type": "code",
      "metadata": {
        "colab": {
          "base_uri": "https://localhost:8080/"
        },
        "id": "RUXZFqczE4HW",
        "outputId": "2997c4d0-7495-41dc-d54f-77c50d58d47b"
      },
      "source": [
        "len(fb)"
      ],
      "execution_count": null,
      "outputs": [
        {
          "output_type": "execute_result",
          "data": {
            "text/plain": [
              "4687"
            ]
          },
          "metadata": {
            "tags": []
          },
          "execution_count": 12
        }
      ]
    },
    {
      "cell_type": "code",
      "metadata": {
        "id": "8_6yaHa1vn-C"
      },
      "source": [
        "train_fb=fb.iloc[:-468]\n",
        "test_fb=fb.iloc[-468:]"
      ],
      "execution_count": null,
      "outputs": []
    },
    {
      "cell_type": "code",
      "metadata": {
        "colab": {
          "base_uri": "https://localhost:8080/"
        },
        "id": "qvlENRu2vn-L",
        "outputId": "6504967f-0bb3-496a-f457-968a081d6dcd"
      },
      "source": [
        "train_fb.tail()"
      ],
      "execution_count": null,
      "outputs": [
        {
          "output_type": "execute_result",
          "data": {
            "text/html": [
              "<div>\n",
              "<style scoped>\n",
              "    .dataframe tbody tr th:only-of-type {\n",
              "        vertical-align: middle;\n",
              "    }\n",
              "\n",
              "    .dataframe tbody tr th {\n",
              "        vertical-align: top;\n",
              "    }\n",
              "\n",
              "    .dataframe thead th {\n",
              "        text-align: right;\n",
              "    }\n",
              "</style>\n",
              "<table border=\"1\" class=\"dataframe\">\n",
              "  <thead>\n",
              "    <tr style=\"text-align: right;\">\n",
              "      <th></th>\n",
              "      <th>Close</th>\n",
              "    </tr>\n",
              "    <tr>\n",
              "      <th>Date</th>\n",
              "      <th></th>\n",
              "    </tr>\n",
              "  </thead>\n",
              "  <tbody>\n",
              "    <tr>\n",
              "      <th>2019-07-16</th>\n",
              "      <td>147.350006</td>\n",
              "    </tr>\n",
              "    <tr>\n",
              "      <th>2019-07-17</th>\n",
              "      <td>143.399994</td>\n",
              "    </tr>\n",
              "    <tr>\n",
              "      <th>2019-07-18</th>\n",
              "      <td>141.949997</td>\n",
              "    </tr>\n",
              "    <tr>\n",
              "      <th>2019-07-19</th>\n",
              "      <td>137.600006</td>\n",
              "    </tr>\n",
              "    <tr>\n",
              "      <th>2019-07-20</th>\n",
              "      <td>138.000000</td>\n",
              "    </tr>\n",
              "  </tbody>\n",
              "</table>\n",
              "</div>"
            ],
            "text/plain": [
              "                 Close\n",
              "Date                  \n",
              "2019-07-16  147.350006\n",
              "2019-07-17  143.399994\n",
              "2019-07-18  141.949997\n",
              "2019-07-19  137.600006\n",
              "2019-07-20  138.000000"
            ]
          },
          "metadata": {
            "tags": []
          },
          "execution_count": 14
        }
      ]
    },
    {
      "cell_type": "code",
      "metadata": {
        "colab": {
          "base_uri": "https://localhost:8080/"
        },
        "id": "5P7g4wpgvn-U",
        "outputId": "ed5de429-3442-46bb-f2da-0741eceeff05"
      },
      "source": [
        "test_fb.head()"
      ],
      "execution_count": null,
      "outputs": [
        {
          "output_type": "execute_result",
          "data": {
            "text/html": [
              "<div>\n",
              "<style scoped>\n",
              "    .dataframe tbody tr th:only-of-type {\n",
              "        vertical-align: middle;\n",
              "    }\n",
              "\n",
              "    .dataframe tbody tr th {\n",
              "        vertical-align: top;\n",
              "    }\n",
              "\n",
              "    .dataframe thead th {\n",
              "        text-align: right;\n",
              "    }\n",
              "</style>\n",
              "<table border=\"1\" class=\"dataframe\">\n",
              "  <thead>\n",
              "    <tr style=\"text-align: right;\">\n",
              "      <th></th>\n",
              "      <th>Close</th>\n",
              "    </tr>\n",
              "    <tr>\n",
              "      <th>Date</th>\n",
              "      <th></th>\n",
              "    </tr>\n",
              "  </thead>\n",
              "  <tbody>\n",
              "    <tr>\n",
              "      <th>2019-07-21</th>\n",
              "      <td>138.000000</td>\n",
              "    </tr>\n",
              "    <tr>\n",
              "      <th>2019-07-22</th>\n",
              "      <td>138.000000</td>\n",
              "    </tr>\n",
              "    <tr>\n",
              "      <th>2019-07-23</th>\n",
              "      <td>138.600006</td>\n",
              "    </tr>\n",
              "    <tr>\n",
              "      <th>2019-07-24</th>\n",
              "      <td>136.649994</td>\n",
              "    </tr>\n",
              "    <tr>\n",
              "      <th>2019-07-25</th>\n",
              "      <td>134.750000</td>\n",
              "    </tr>\n",
              "  </tbody>\n",
              "</table>\n",
              "</div>"
            ],
            "text/plain": [
              "                 Close\n",
              "Date                  \n",
              "2019-07-21  138.000000\n",
              "2019-07-22  138.000000\n",
              "2019-07-23  138.600006\n",
              "2019-07-24  136.649994\n",
              "2019-07-25  134.750000"
            ]
          },
          "metadata": {
            "tags": []
          },
          "execution_count": 15
        }
      ]
    },
    {
      "cell_type": "markdown",
      "metadata": {
        "id": "_sFZPNFDvn-Z"
      },
      "source": [
        "# Exponential Smoothing\n"
      ]
    },
    {
      "cell_type": "code",
      "metadata": {
        "id": "7ew9STQcvn-a"
      },
      "source": [
        "from statsmodels.tsa.holtwinters import ExponentialSmoothing"
      ],
      "execution_count": null,
      "outputs": []
    },
    {
      "cell_type": "code",
      "metadata": {
        "id": "Ef9f9vf-vn-g"
      },
      "source": [
        "test_fb_model=ExponentialSmoothing(train_fb['Close'],trend='add',seasonal='mul',seasonal_periods=150).fit()"
      ],
      "execution_count": null,
      "outputs": []
    },
    {
      "cell_type": "code",
      "metadata": {
        "id": "-FxcGeMmvn-l"
      },
      "source": [
        "test_fb_predictions=test_fb_model.forecast(468)"
      ],
      "execution_count": null,
      "outputs": []
    },
    {
      "cell_type": "code",
      "metadata": {
        "colab": {
          "base_uri": "https://localhost:8080/",
          "height": 307
        },
        "id": "m5slKRAFvn-s",
        "outputId": "2166aa05-fe01-42b4-e0f7-fdc4fda68728"
      },
      "source": [
        "\n",
        "test_fb['Close'].plot(legend=True,label='Test Data')\n",
        "test_fb_predictions.plot(legend=True,label='Prediction')"
      ],
      "execution_count": null,
      "outputs": [
        {
          "output_type": "execute_result",
          "data": {
            "text/plain": [
              "<matplotlib.axes._subplots.AxesSubplot at 0x7f7099319898>"
            ]
          },
          "metadata": {
            "tags": []
          },
          "execution_count": 19
        },
        {
          "output_type": "display_data",
          "data": {
            "image/png": "[encoded data removed]",
            "text/plain": [
              "<Figure size 432x288 with 1 Axes>"
            ]
          },
          "metadata": {
            "tags": [],
            "needs_background": "light"
          }
        }
      ]
    },
    {
      "cell_type": "code",
      "metadata": {
        "id": "6IwaR2JBvn-z"
      },
      "source": [
        "from sklearn.metrics import mean_absolute_error,mean_squared_error"
      ],
      "execution_count": null,
      "outputs": []
    },
    {
      "cell_type": "code",
      "metadata": {
        "colab": {
          "base_uri": "https://localhost:8080/"
        },
        "id": "3-H5Lsq7vn-5",
        "outputId": "c02bd670-fff9-4b1c-eb99-cc8dfb2b808f"
      },
      "source": [
        "std=fb['Close'].std()\n",
        "rmse=np.sqrt(mean_squared_error(test_fb['Close'],test_fb_predictions))\n",
        "rmse,std"
      ],
      "execution_count": null,
      "outputs": [
        {
          "output_type": "execute_result",
          "data": {
            "text/plain": [
              "(35.72537469759878, 30.89583380521656)"
            ]
          },
          "metadata": {
            "tags": []
          },
          "execution_count": 21
        }
      ]
    },
    {
      "cell_type": "code",
      "metadata": {
        "id": "0807WBujvn--"
      },
      "source": [
        "fb_ES_model=ExponentialSmoothing(fb['Close'],trend='add',seasonal='mul',seasonal_periods=90).fit()\n",
        "fb_ES_Predictions=fb_ES_model.forecast(240)\n"
      ],
      "execution_count": null,
      "outputs": []
    },
    {
      "cell_type": "code",
      "metadata": {
        "id": "J9ac66eevn_C",
        "colab": {
          "base_uri": "https://localhost:8080/",
          "height": 622
        },
        "outputId": "63424fb6-8e54-4e45-fa4a-242c985e0b0d"
      },
      "source": [
        "fb['Close'].plot(legend=True,label='Real Data',figsize=(15,10))\n",
        "fb_ES_Predictions.plot(legend=True,label='Prediction')"
      ],
      "execution_count": null,
      "outputs": [
        {
          "output_type": "execute_result",
          "data": {
            "text/plain": [
              "<matplotlib.axes._subplots.AxesSubplot at 0x7f70975cb518>"
            ]
          },
          "metadata": {
            "tags": []
          },
          "execution_count": 23
        },
        {
          "output_type": "display_data",
          "data": {
            "image/png": "[encoded data removed]",
            "text/plain": [
              "<Figure size 1080x720 with 1 Axes>"
            ]
          },
          "metadata": {
            "tags": [],
            "needs_background": "light"
          }
        }
      ]
    },
    {
      "cell_type": "code",
      "metadata": {
        "colab": {
          "base_uri": "https://localhost:8080/"
        },
        "id": "-tlC4sjEch_M",
        "outputId": "0f43289a-b93a-46be-e569-b2ab5f400502"
      },
      "source": [
        "from sklearn.metrics import mean_absolute_error\n",
        "\n",
        "mean_absolute_error(test_fb['Close'], test_fb_predictions) "
      ],
      "execution_count": null,
      "outputs": [
        {
          "output_type": "execute_result",
          "data": {
            "text/plain": [
              "29.350064344212228"
            ]
          },
          "metadata": {
            "tags": []
          },
          "execution_count": 24
        }
      ]
    },
    {
      "cell_type": "code",
      "metadata": {
        "colab": {
          "base_uri": "https://localhost:8080/"
        },
        "id": "gSyjlBk4fUSN",
        "outputId": "5230e4ed-7d8a-4117-c7df-d46fb0427af8"
      },
      "source": [
        "mape = np.mean(np.abs((test_fb['Close'] -test_fb_predictions)/test_fb['Close']))*100\n",
        "mape"
      ],
      "execution_count": null,
      "outputs": [
        {
          "output_type": "execute_result",
          "data": {
            "text/plain": [
              "31.458709191698397"
            ]
          },
          "metadata": {
            "tags": []
          },
          "execution_count": 36
        }
      ]
    },
    {
      "cell_type": "markdown",
      "metadata": {
        "id": "W_62Wuzdvn_H"
      },
      "source": [
        "# ARIMA\n"
      ]
    },
    {
      "cell_type": "code",
      "metadata": {
        "id": "x5m8ptvkvn_I"
      },
      "source": [
        "from statsmodels.tsa.stattools import adfuller\n"
      ],
      "execution_count": null,
      "outputs": []
    },
    {
      "cell_type": "code",
      "metadata": {
        "id": "3KXcFXRQHLNB",
        "colab": {
          "base_uri": "https://localhost:8080/",
          "height": 420
        },
        "outputId": "4eb0157e-4c80-40a1-9c9b-c346a7c5b0a5"
      },
      "source": [
        "fin"
      ],
      "execution_count": null,
      "outputs": [
        {
          "output_type": "execute_result",
          "data": {
            "text/html": [
              "<div>\n",
              "<style scoped>\n",
              "    .dataframe tbody tr th:only-of-type {\n",
              "        vertical-align: middle;\n",
              "    }\n",
              "\n",
              "    .dataframe tbody tr th {\n",
              "        vertical-align: top;\n",
              "    }\n",
              "\n",
              "    .dataframe thead th {\n",
              "        text-align: right;\n",
              "    }\n",
              "</style>\n",
              "<table border=\"1\" class=\"dataframe\">\n",
              "  <thead>\n",
              "    <tr style=\"text-align: right;\">\n",
              "      <th></th>\n",
              "      <th>Close</th>\n",
              "    </tr>\n",
              "    <tr>\n",
              "      <th>Date</th>\n",
              "      <th></th>\n",
              "    </tr>\n",
              "  </thead>\n",
              "  <tbody>\n",
              "    <tr>\n",
              "      <th>2008-01-01</th>\n",
              "      <td>101.811996</td>\n",
              "    </tr>\n",
              "    <tr>\n",
              "      <th>2008-01-02</th>\n",
              "      <td>99.731201</td>\n",
              "    </tr>\n",
              "    <tr>\n",
              "      <th>2008-01-03</th>\n",
              "      <td>101.005997</td>\n",
              "    </tr>\n",
              "    <tr>\n",
              "      <th>2008-01-04</th>\n",
              "      <td>101.005997</td>\n",
              "    </tr>\n",
              "    <tr>\n",
              "      <th>2008-01-05</th>\n",
              "      <td>97.753098</td>\n",
              "    </tr>\n",
              "    <tr>\n",
              "      <th>...</th>\n",
              "      <td>...</td>\n",
              "    </tr>\n",
              "    <tr>\n",
              "      <th>2020-10-26</th>\n",
              "      <td>85.500000</td>\n",
              "    </tr>\n",
              "    <tr>\n",
              "      <th>2020-10-27</th>\n",
              "      <td>84.199997</td>\n",
              "    </tr>\n",
              "    <tr>\n",
              "      <th>2020-10-28</th>\n",
              "      <td>83.099998</td>\n",
              "    </tr>\n",
              "    <tr>\n",
              "      <th>2020-10-29</th>\n",
              "      <td>83.449997</td>\n",
              "    </tr>\n",
              "    <tr>\n",
              "      <th>2020-10-30</th>\n",
              "      <td>84.750000</td>\n",
              "    </tr>\n",
              "  </tbody>\n",
              "</table>\n",
              "<p>4687 rows × 1 columns</p>\n",
              "</div>"
            ],
            "text/plain": [
              "                 Close\n",
              "Date                  \n",
              "2008-01-01  101.811996\n",
              "2008-01-02   99.731201\n",
              "2008-01-03  101.005997\n",
              "2008-01-04  101.005997\n",
              "2008-01-05   97.753098\n",
              "...                ...\n",
              "2020-10-26   85.500000\n",
              "2020-10-27   84.199997\n",
              "2020-10-28   83.099998\n",
              "2020-10-29   83.449997\n",
              "2020-10-30   84.750000\n",
              "\n",
              "[4687 rows x 1 columns]"
            ]
          },
          "metadata": {
            "tags": []
          },
          "execution_count": 38
        }
      ]
    },
    {
      "cell_type": "code",
      "metadata": {
        "id": "ufqsJ9kdDjyM",
        "colab": {
          "base_uri": "https://localhost:8080/",
          "height": 282
        },
        "outputId": "8635c528-78a6-446d-8755-cb6bf8095976"
      },
      "source": [
        "from matplotlib import pyplot\n",
        "from pandas.plotting import autocorrelation_plot\n",
        "autocorrelation_plot(fin)\n",
        "pyplot.show()"
      ],
      "execution_count": null,
      "outputs": [
        {
          "output_type": "display_data",
          "data": {
            "image/png": "[encoded data removed]",
            "text/plain": [
              "<Figure size 432x288 with 1 Axes>"
            ]
          },
          "metadata": {
            "tags": [],
            "needs_background": "light"
          }
        }
      ]
    },
    {
      "cell_type": "code",
      "metadata": {
        "id": "fd-zAtIuGPPX",
        "colab": {
          "base_uri": "https://localhost:8080/",
          "height": 1000
        },
        "outputId": "005d660d-dfdb-4c20-e6d2-086aef979a52"
      },
      "source": [
        "from pandas import DataFrame\n",
        "model = ARIMA(fin, order=(1,2,0))\n",
        "model_fit = model.fit(disp=0)\n",
        "print(model_fit.summary())\n",
        "# plot residual errors\n",
        "residuals = DataFrame(model_fit.resid)\n",
        "residuals.plot()\n",
        "pyplot.show()\n",
        "residuals.plot(kind='kde')\n",
        "pyplot.show()\n",
        "print(residuals.describe())"
      ],
      "execution_count": null,
      "outputs": [
        {
          "output_type": "stream",
          "text": [
            "                             ARIMA Model Results                              \n",
            "==============================================================================\n",
            "Dep. Variable:               D2.Close   No. Observations:                 4685\n",
            "Model:                 ARIMA(1, 2, 0)   Log Likelihood              -10652.355\n",
            "Method:                       css-mle   S.D. of innovations              2.351\n",
            "Date:                Wed, 02 Dec 2020   AIC                          21310.710\n",
            "Time:                        22:06:24   BIC                          21330.066\n",
            "Sample:                    01-03-2008   HQIC                         21317.516\n",
            "                         - 10-30-2020                                         \n",
            "==================================================================================\n",
            "                     coef    std err          z      P>|z|      [0.025      0.975]\n",
            "----------------------------------------------------------------------------------\n",
            "const              0.0004      0.023      0.018      0.986      -0.045       0.045\n",
            "ar.L1.D2.Close    -0.4942      0.013    -38.910      0.000      -0.519      -0.469\n",
            "                                    Roots                                    \n",
            "=============================================================================\n",
            "                  Real          Imaginary           Modulus         Frequency\n",
            "-----------------------------------------------------------------------------\n",
            "AR.1           -2.0235           +0.0000j            2.0235            0.5000\n",
            "-----------------------------------------------------------------------------\n"
          ],
          "name": "stdout"
        },
        {
          "output_type": "display_data",
          "data": {
            "image/png": "[encoded data removed]",
            "text/plain": [
              "<Figure size 432x288 with 1 Axes>"
            ]
          },
          "metadata": {
            "tags": [],
            "needs_background": "light"
          }
        },
        {
          "output_type": "display_data",
          "data": {
            "image/png": "[encoded data removed]",
            "text/plain": [
              "<Figure size 432x288 with 1 Axes>"
            ]
          },
          "metadata": {
            "tags": [],
            "needs_background": "light"
          }
        },
        {
          "output_type": "stream",
          "text": [
            "                 0\n",
            "count  4685.000000\n",
            "mean      0.000354\n",
            "std       2.351154\n",
            "min     -21.177951\n",
            "25%      -1.171488\n",
            "50%      -0.000624\n",
            "75%       1.148801\n",
            "max      18.413577\n"
          ],
          "name": "stdout"
        }
      ]
    },
    {
      "cell_type": "code",
      "metadata": {
        "id": "QE8eozCtNRzs",
        "colab": {
          "base_uri": "https://localhost:8080/"
        },
        "outputId": "6fa7d571-b4dd-44d6-c5df-4de373ff9a03"
      },
      "source": [
        "pyplot"
      ],
      "execution_count": null,
      "outputs": [
        {
          "output_type": "execute_result",
          "data": {
            "text/plain": [
              "<module 'matplotlib.pyplot' from '/usr/local/lib/python3.6/dist-packages/matplotlib/pyplot.py'>"
            ]
          },
          "metadata": {
            "tags": []
          },
          "execution_count": 41
        }
      ]
    },
    {
      "cell_type": "code",
      "metadata": {
        "id": "4FBk47CQHN9Z",
        "colab": {
          "base_uri": "https://localhost:8080/"
        },
        "outputId": "69a56fb6-8c2a-4c77-d336-7261dc4da916"
      },
      "source": [
        "import math\n",
        "from sklearn.metrics import mean_squared_error\n",
        "X = fin.values\n",
        "size = int(len(X) * 0.66)\n",
        "train, test = X[0:1000], X[4501:4685]\n",
        "history = [x for x in train]\n",
        "predictions = list()\n",
        "for t in range(len(test)):\n",
        "\tmodel = ARIMA(history, order=(0,2,0))\n",
        "\tmodel_fit = model.fit(disp=1)\n",
        "\toutput = model_fit.forecast()\n",
        "\tyhat = output[0]\n",
        "\tpredictions.append(yhat)\n",
        "\tobs = test[t]\n",
        "\thistory.append(obs)\n",
        "\tprint('predicted=%f, expected=%f' % (yhat, obs))\n",
        "\n"
      ],
      "execution_count": null,
      "outputs": [
        {
          "output_type": "stream",
          "text": [
            "predicted=134.960078, expected=84.550003\n",
            "predicted=34.093637, expected=89.099998\n",
            "predicted=93.656624, expected=95.699997\n",
            "predicted=102.308668, expected=93.500000\n",
            "predicted=91.299884, expected=93.500000\n",
            "predicted=93.502075, expected=93.500000\n",
            "predicted=93.502073, expected=93.500000\n",
            "predicted=93.502070, expected=91.099998\n",
            "predicted=88.699679, expected=94.699997\n",
            "predicted=98.305637, expected=91.500000\n",
            "predicted=88.298893, expected=91.349998\n",
            "predicted=91.201910, expected=92.050003\n",
            "predicted=92.752761, expected=92.050003\n",
            "predicted=92.052061, expected=92.050003\n",
            "predicted=92.052059, expected=88.699997\n",
            "predicted=85.348738, expected=89.349998\n",
            "predicted=90.002692, expected=85.449997\n",
            "predicted=81.548204, expected=85.800003\n",
            "predicted=86.152402, expected=81.000000\n",
            "predicted=76.197323, expected=81.000000\n",
            "predicted=81.002044, expected=81.000000\n",
            "predicted=81.002042, expected=81.849998\n",
            "predicted=82.702869, expected=86.250000\n",
            "predicted=90.656350, expected=87.949997\n",
            "predicted=89.653693, expected=87.199997\n",
            "predicted=86.451298, expected=88.150002\n",
            "predicted=89.102967, expected=88.150002\n",
            "predicted=88.152032, expected=88.150002\n",
            "predicted=88.152030, expected=88.150002\n",
            "predicted=88.152028, expected=88.599998\n",
            "predicted=89.052456, expected=89.099998\n",
            "predicted=89.602506, expected=92.349998\n",
            "predicted=95.605174, expected=91.949997\n",
            "predicted=91.551626, expected=91.949997\n",
            "predicted=91.952013, expected=91.949997\n",
            "predicted=91.952011, expected=96.550003\n",
            "predicted=101.156470, expected=96.349998\n",
            "predicted=96.151810, expected=97.250000\n",
            "predicted=98.152879, expected=97.849998\n",
            "predicted=98.452581, expected=104.750000\n",
            "predicted=111.658654, expected=104.750000\n",
            "predicted=104.752003, expected=104.750000\n",
            "predicted=104.752001, expected=101.099998\n",
            "predicted=97.448489, expected=98.099998\n",
            "predicted=95.099116, expected=95.550003\n",
            "predicted=92.999558, expected=96.349998\n",
            "predicted=97.152752, expected=99.650002\n",
            "predicted=102.955155, expected=99.650002\n",
            "predicted=99.651991, expected=99.650002\n",
            "predicted=99.651989, expected=97.500000\n",
            "predicted=95.349932, expected=96.250000\n",
            "predicted=95.000792, expected=97.050003\n",
            "predicted=97.852750, expected=99.500000\n",
            "predicted=101.954308, expected=98.300003\n",
            "predicted=97.100843, expected=98.300003\n",
            "predicted=98.301979, expected=98.300003\n",
            "predicted=98.301977, expected=99.250000\n",
            "predicted=100.202870, expected=101.400002\n",
            "predicted=103.554010, expected=103.099998\n",
            "predicted=104.803571, expected=105.150002\n",
            "predicted=107.203910, expected=103.599998\n",
            "predicted=102.050495, expected=103.599998\n",
            "predicted=103.601961, expected=103.599998\n",
            "predicted=103.601959, expected=102.150002\n",
            "predicted=100.700600, expected=102.949997\n",
            "predicted=103.752702, expected=103.500000\n",
            "predicted=104.052476, expected=104.900002\n",
            "predicted=106.303272, expected=103.699997\n",
            "predicted=102.500818, expected=103.699997\n",
            "predicted=103.701947, expected=103.699997\n",
            "predicted=103.701945, expected=102.849998\n",
            "predicted=102.001150, expected=102.699997\n",
            "predicted=102.551800, expected=105.550003\n",
            "predicted=108.404613, expected=102.400002\n",
            "predicted=99.249004, expected=101.099998\n",
            "predicted=99.800722, expected=101.099998\n",
            "predicted=101.101935, expected=101.099998\n",
            "predicted=101.101934, expected=99.050003\n",
            "predicted=97.000037, expected=96.949997\n",
            "predicted=94.849973, expected=96.750000\n",
            "predicted=96.551748, expected=100.849998\n",
            "predicted=104.955724, expected=100.199997\n",
            "predicted=99.551321, expected=100.199997\n",
            "predicted=100.201922, expected=100.199997\n",
            "predicted=100.201920, expected=103.800003\n",
            "predicted=107.405254, expected=101.949997\n",
            "predicted=100.100204, expected=102.300003\n",
            "predicted=102.652249, expected=99.550003\n",
            "predicted=96.799387, expected=97.500000\n",
            "predicted=95.450025, expected=97.500000\n",
            "predicted=97.501912, expected=97.500000\n",
            "predicted=97.501911, expected=97.599998\n",
            "predicted=97.701997, expected=98.800003\n",
            "predicted=100.003015, expected=96.599998\n",
            "predicted=94.399884, expected=96.650002\n",
            "predicted=96.701955, expected=94.099998\n",
            "predicted=91.549565, expected=94.099998\n",
            "predicted=94.101898, expected=94.099998\n",
            "predicted=94.101897, expected=93.150002\n",
            "predicted=92.201037, expected=93.300003\n",
            "predicted=93.452036, expected=95.650002\n",
            "predicted=98.004033, expected=96.900002\n",
            "predicted=98.153030, expected=97.050003\n",
            "predicted=97.202030, expected=97.050003\n",
            "predicted=97.051891, expected=97.050003\n",
            "predicted=97.051889, expected=97.300003\n",
            "predicted=97.552114, expected=98.050003\n",
            "predicted=98.802565, expected=97.400002\n",
            "predicted=96.751295, expected=95.949997\n",
            "predicted=94.500562, expected=97.650002\n",
            "predicted=99.353419, expected=97.650002\n",
            "predicted=97.651878, expected=97.650002\n",
            "predicted=97.651877, expected=96.949997\n",
            "predicted=96.251235, expected=101.449997\n",
            "predicted=105.955915, expected=101.500000\n",
            "predicted=101.551917, expected=101.750000\n",
            "predicted=102.002092, expected=101.599998\n",
            "predicted=101.451728, expected=101.599998\n",
            "predicted=101.601863, expected=101.599998\n",
            "predicted=101.601861, expected=99.699997\n",
            "predicted=97.800158, expected=99.849998\n",
            "predicted=100.001993, expected=99.199997\n",
            "predicted=98.551273, expected=99.099998\n",
            "predicted=99.001766, expected=95.650002\n",
            "predicted=92.198786, expected=95.650002\n",
            "predicted=95.651855, expected=95.650002\n",
            "predicted=95.651853, expected=96.400002\n",
            "predicted=97.152518, expected=97.300003\n",
            "predicted=98.202651, expected=98.099998\n",
            "predicted=98.902549, expected=98.050003\n",
            "predicted=98.001808, expected=95.750000\n",
            "predicted=93.449803, expected=95.750000\n",
            "predicted=95.751841, expected=95.750000\n",
            "predicted=95.751840, expected=94.550003\n",
            "predicted=93.350784, expected=91.050003\n",
            "predicted=87.548750, expected=90.800003\n",
            "predicted=90.551617, expected=90.750000\n",
            "predicted=90.701786, expected=91.949997\n",
            "predicted=93.152882, expected=91.949997\n",
            "predicted=91.951827, expected=91.949997\n",
            "predicted=91.951826, expected=92.099998\n",
            "predicted=92.251958, expected=91.849998\n",
            "predicted=91.601604, expected=90.750000\n",
            "predicted=89.650862, expected=92.099998\n",
            "predicted=93.453000, expected=88.199997\n",
            "predicted=84.298404, expected=88.199997\n",
            "predicted=88.201816, expected=88.199997\n",
            "predicted=88.201814, expected=84.150002\n",
            "predicted=80.098289, expected=85.699997\n",
            "predicted=87.253158, expected=83.000000\n",
            "predicted=80.299464, expected=85.199997\n",
            "predicted=87.403720, expected=88.199997\n",
            "predicted=91.204415, expected=88.199997\n",
            "predicted=88.201805, expected=88.199997\n",
            "predicted=88.201803, expected=87.500000\n",
            "predicted=86.801201, expected=86.800003\n",
            "predicted=86.101203, expected=88.400002\n",
            "predicted=90.003188, expected=87.000000\n",
            "predicted=85.600587, expected=87.000000\n",
            "predicted=87.001798, expected=87.000000\n",
            "predicted=87.001797, expected=87.000000\n",
            "predicted=87.001795, expected=87.750000\n",
            "predicted=88.502440, expected=86.699997\n",
            "predicted=85.650882, expected=84.150002\n",
            "predicted=81.599603, expected=85.699997\n",
            "predicted=87.253114, expected=83.849998\n",
            "predicted=82.000197, expected=83.849998\n",
            "predicted=83.851784, expected=83.849998\n",
            "predicted=83.851783, expected=83.150002\n",
            "predicted=82.451189, expected=82.650002\n",
            "predicted=82.151355, expected=82.300003\n",
            "predicted=81.951485, expected=84.000000\n",
            "predicted=85.703228, expected=87.449997\n",
            "predicted=90.904717, expected=87.449997\n",
            "predicted=87.451772, expected=87.449997\n",
            "predicted=87.451771, expected=85.699997\n",
            "predicted=83.950279, expected=87.650002\n",
            "predicted=89.603438, expected=88.650002\n",
            "predicted=89.652622, expected=87.300003\n",
            "predicted=85.950625, expected=85.500000\n",
            "predicted=83.700235, expected=85.500000\n",
            "predicted=85.501765, expected=85.500000\n",
            "predicted=85.501763, expected=84.199997\n",
            "predicted=82.900655, expected=83.099998\n"
          ],
          "name": "stdout"
        }
      ]
    },
    {
      "cell_type": "code",
      "metadata": {
        "id": "1INGyfFhF_9P",
        "colab": {
          "base_uri": "https://localhost:8080/"
        },
        "outputId": "48d3be53-8ff0-4204-ebf3-08080059f3d2"
      },
      "source": [
        "error = mean_squared_error(test, predictions)\n",
        "rmse = math.sqrt(error)\n",
        "print('Test RMSE: %.3f' % rmse)\n",
        "# plot"
      ],
      "execution_count": null,
      "outputs": [
        {
          "output_type": "stream",
          "text": [
            "Test RMSE: 6.052\n"
          ],
          "name": "stdout"
        }
      ]
    },
    {
      "cell_type": "code",
      "metadata": {
        "colab": {
          "base_uri": "https://localhost:8080/"
        },
        "id": "-aOcj4oYco7d",
        "outputId": "b00294c7-e1b1-41b9-9761-f1b31a6981fe"
      },
      "source": [
        "from sklearn.metrics import mean_absolute_error\n",
        "\n",
        "mean_absolute_error(test, predictions) "
      ],
      "execution_count": null,
      "outputs": [
        {
          "output_type": "execute_result",
          "data": {
            "text/plain": [
              "2.3768943117612453"
            ]
          },
          "metadata": {
            "tags": []
          },
          "execution_count": 44
        }
      ]
    },
    {
      "cell_type": "code",
      "metadata": {
        "colab": {
          "base_uri": "https://localhost:8080/"
        },
        "id": "vxsSvGcRe1UK",
        "outputId": "bdf307ea-8924-4a79-d1c1-69412846edec"
      },
      "source": [
        "mape = np.mean(np.abs((test - predictions)/test))*100\n",
        "mape\n"
      ],
      "execution_count": null,
      "outputs": [
        {
          "output_type": "execute_result",
          "data": {
            "text/plain": [
              "2.5908028965686505"
            ]
          },
          "metadata": {
            "tags": []
          },
          "execution_count": 45
        }
      ]
    },
    {
      "cell_type": "code",
      "metadata": {
        "id": "1ON5A1GNMZYl",
        "colab": {
          "base_uri": "https://localhost:8080/",
          "height": 595
        },
        "outputId": "e22721f8-845f-4c4b-b277-c15abe5a338d"
      },
      "source": [
        "plt.figure(figsize=(15,10))\n",
        "\n",
        "pyplot.plot(test, color = 'green')\n",
        "pyplot.plot(predictions, color='orange')\n",
        "pyplot.legend(['Test Data','Prediction Data'])\n",
        "pyplot.show()"
      ],
      "execution_count": null,
      "outputs": [
        {
          "output_type": "display_data",
          "data": {
            "image/png": "[encoded data removed]",
            "text/plain": [
              "<Figure size 1080x720 with 1 Axes>"
            ]
          },
          "metadata": {
            "tags": [],
            "needs_background": "light"
          }
        }
      ]
    },
    {
      "cell_type": "markdown",
      "metadata": {
        "id": "-YOas-L6voAh"
      },
      "source": [
        "## NEW ARIMA\n"
      ]
    },
    {
      "cell_type": "code",
      "metadata": {
        "id": "xOTo7-RRvoAi"
      },
      "source": [
        "import numpy as np\n",
        "import pandas as pd\n",
        "from matplotlib import pyplot as plt\n",
        "from statsmodels.tsa.stattools import adfuller\n",
        "from statsmodels.tsa.seasonal import seasonal_decompose\n",
        "from statsmodels.tsa.arima_model import ARIMA\n",
        "from pandas.plotting import register_matplotlib_converters\n",
        "register_matplotlib_converters()"
      ],
      "execution_count": null,
      "outputs": []
    },
    {
      "cell_type": "code",
      "metadata": {
        "id": "GYSN3phRG5jD"
      },
      "source": [
        ""
      ],
      "execution_count": null,
      "outputs": []
    }
  ]
}