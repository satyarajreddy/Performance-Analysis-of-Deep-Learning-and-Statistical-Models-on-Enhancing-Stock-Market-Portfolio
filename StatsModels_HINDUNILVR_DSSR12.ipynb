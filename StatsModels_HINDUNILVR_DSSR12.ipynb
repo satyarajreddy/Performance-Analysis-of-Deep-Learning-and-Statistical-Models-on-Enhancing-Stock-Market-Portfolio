{
  "nbformat": 4,
  "nbformat_minor": 0,
  "metadata": {
    "colab": {
      "name": "StatsModels_HINDUNILVR.ipynb",
      "provenance": [],
      "collapsed_sections": [
        "W_62Wuzdvn_H",
        "-YOas-L6voAh"
      ],
      "toc_visible": true
    },
    "kernelspec": {
      "display_name": "Python 3",
      "language": "python",
      "name": "python3"
    },
    "language_info": {
      "codemirror_mode": {
        "name": "ipython",
        "version": 3
      },
      "file_extension": ".py",
      "mimetype": "text/x-python",
      "name": "python",
      "nbconvert_exporter": "python",
      "pygments_lexer": "ipython3",
      "version": "3.5.5"
    },
    "accelerator": "GPU"
  },
  "cells": [
    {
      "cell_type": "code",
      "metadata": {
        "id": "stNR4rsXvn86",
        "colab": {
          "base_uri": "https://localhost:8080/"
        },
        "outputId": "dbb33842-653e-4fbe-e4de-e1808b9bef2d"
      },
      "source": [
        "#Importing all the Libraries needed\n",
        "import pandas as pd\n",
        "import matplotlib.pyplot as plt\n",
        "from statsmodels.tsa.seasonal import seasonal_decompose\n",
        "from statsmodels.tsa.arima_model import ARMA,ARIMA,ARMAResults,ARIMAResults\n",
        "import numpy as np\n",
        "\n",
        "import warnings\n",
        "warnings.filterwarnings('ignore')"
      ],
      "execution_count": null,
      "outputs": [
        {
          "output_type": "stream",
          "text": [
            "/usr/local/lib/python3.6/dist-packages/statsmodels/tools/_testing.py:19: FutureWarning: pandas.util.testing is deprecated. Use the functions in the public API at pandas.testing instead.\n",
            "  import pandas.util.testing as tm\n"
          ],
          "name": "stderr"
        }
      ]
    },
    {
      "cell_type": "code",
      "metadata": {
        "colab": {
          "resources": {
            "http://localhost:8080/nbextensions/google.colab/files.js": {
              "data": "Ly8gQ29weXJpZ2h0IDIwMTcgR29vZ2xlIExMQwovLwovLyBMaWNlbnNlZCB1bmRlciB0aGUgQXBhY2hlIExpY2Vuc2UsIFZlcnNpb24gMi4wICh0aGUgIkxpY2Vuc2UiKTsKLy8geW91IG1heSBub3QgdXNlIHRoaXMgZmlsZSBleGNlcHQgaW4gY29tcGxpYW5jZSB3aXRoIHRoZSBMaWNlbnNlLgovLyBZb3UgbWF5IG9idGFpbiBhIGNvcHkgb2YgdGhlIExpY2Vuc2UgYXQKLy8KLy8gICAgICBodHRwOi8vd3d3LmFwYWNoZS5vcmcvbGljZW5zZXMvTElDRU5TRS0yLjAKLy8KLy8gVW5sZXNzIHJlcXVpcmVkIGJ5IGFwcGxpY2FibGUgbGF3IG9yIGFncmVlZCB0byBpbiB3cml0aW5nLCBzb2Z0d2FyZQovLyBkaXN0cmlidXRlZCB1bmRlciB0aGUgTGljZW5zZSBpcyBkaXN0cmlidXRlZCBvbiBhbiAiQVMgSVMiIEJBU0lTLAovLyBXSVRIT1VUIFdBUlJBTlRJRVMgT1IgQ09ORElUSU9OUyBPRiBBTlkgS0lORCwgZWl0aGVyIGV4cHJlc3Mgb3IgaW1wbGllZC4KLy8gU2VlIHRoZSBMaWNlbnNlIGZvciB0aGUgc3BlY2lmaWMgbGFuZ3VhZ2UgZ292ZXJuaW5nIHBlcm1pc3Npb25zIGFuZAovLyBsaW1pdGF0aW9ucyB1bmRlciB0aGUgTGljZW5zZS4KCi8qKgogKiBAZmlsZW92ZXJ2aWV3IEhlbHBlcnMgZm9yIGdvb2dsZS5jb2xhYiBQeXRob24gbW9kdWxlLgogKi8KKGZ1bmN0aW9uKHNjb3BlKSB7CmZ1bmN0aW9uIHNwYW4odGV4dCwgc3R5bGVBdHRyaWJ1dGVzID0ge30pIHsKICBjb25zdCBlbGVtZW50ID0gZG9jdW1lbnQuY3JlYXRlRWxlbWVudCgnc3BhbicpOwogIGVsZW1lbnQudGV4dENvbnRlbnQgPSB0ZXh0OwogIGZvciAoY29uc3Qga2V5IG9mIE9iamVjdC5rZXlzKHN0eWxlQXR0cmlidXRlcykpIHsKICAgIGVsZW1lbnQuc3R5bGVba2V5XSA9IHN0eWxlQXR0cmlidXRlc1trZXldOwogIH0KICByZXR1cm4gZWxlbWVudDsKfQoKLy8gTWF4IG51bWJlciBvZiBieXRlcyB3aGljaCB3aWxsIGJlIHVwbG9hZGVkIGF0IGEgdGltZS4KY29uc3QgTUFYX1BBWUxPQURfU0laRSA9IDEwMCAqIDEwMjQ7CgpmdW5jdGlvbiBfdXBsb2FkRmlsZXMoaW5wdXRJZCwgb3V0cHV0SWQpIHsKICBjb25zdCBzdGVwcyA9IHVwbG9hZEZpbGVzU3RlcChpbnB1dElkLCBvdXRwdXRJZCk7CiAgY29uc3Qgb3V0cHV0RWxlbWVudCA9IGRvY3VtZW50LmdldEVsZW1lbnRCeUlkKG91dHB1dElkKTsKICAvLyBDYWNoZSBzdGVwcyBvbiB0aGUgb3V0cHV0RWxlbWVudCB0byBtYWtlIGl0IGF2YWlsYWJsZSBmb3IgdGhlIG5leHQgY2FsbAogIC8vIHRvIHVwbG9hZEZpbGVzQ29udGludWUgZnJvbSBQeXRob24uCiAgb3V0cHV0RWxlbWVudC5zdGVwcyA9IHN0ZXBzOwoKICByZXR1cm4gX3VwbG9hZEZpbGVzQ29udGludWUob3V0cHV0SWQpOwp9CgovLyBUaGlzIGlzIHJvdWdobHkgYW4gYXN5bmMgZ2VuZXJhdG9yIChub3Qgc3VwcG9ydGVkIGluIHRoZSBicm93c2VyIHlldCksCi8vIHdoZXJlIHRoZXJlIGFyZSBtdWx0aXBsZSBhc3luY2hyb25vdXMgc3RlcHMgYW5kIHRoZSBQeXRob24gc2lkZSBpcyBnb2luZwovLyB0byBwb2xsIGZvciBjb21wbGV0aW9uIG9mIGVhY2ggc3RlcC4KLy8gVGhpcyB1c2VzIGEgUHJvbWlzZSB0byBibG9jayB0aGUgcHl0aG9uIHNpZGUgb24gY29tcGxldGlvbiBvZiBlYWNoIHN0ZXAsCi8vIHRoZW4gcGFzc2VzIHRoZSByZXN1bHQgb2YgdGhlIHByZXZpb3VzIHN0ZXAgYXMgdGhlIGlucHV0IHRvIHRoZSBuZXh0IHN0ZXAuCmZ1bmN0aW9uIF91cGxvYWRGaWxlc0NvbnRpbnVlKG91dHB1dElkKSB7CiAgY29uc3Qgb3V0cHV0RWxlbWVudCA9IGRvY3VtZW50LmdldEVsZW1lbnRCeUlkKG91dHB1dElkKTsKICBjb25zdCBzdGVwcyA9IG91dHB1dEVsZW1lbnQuc3RlcHM7CgogIGNvbnN0IG5leHQgPSBzdGVwcy5uZXh0KG91dHB1dEVsZW1lbnQubGFzdFByb21pc2VWYWx1ZSk7CiAgcmV0dXJuIFByb21pc2UucmVzb2x2ZShuZXh0LnZhbHVlLnByb21pc2UpLnRoZW4oKHZhbHVlKSA9PiB7CiAgICAvLyBDYWNoZSB0aGUgbGFzdCBwcm9taXNlIHZhbHVlIHRvIG1ha2UgaXQgYXZhaWxhYmxlIHRvIHRoZSBuZXh0CiAgICAvLyBzdGVwIG9mIHRoZSBnZW5lcmF0b3IuCiAgICBvdXRwdXRFbGVtZW50Lmxhc3RQcm9taXNlVmFsdWUgPSB2YWx1ZTsKICAgIHJldHVybiBuZXh0LnZhbHVlLnJlc3BvbnNlOwogIH0pOwp9CgovKioKICogR2VuZXJhdG9yIGZ1bmN0aW9uIHdoaWNoIGlzIGNhbGxlZCBiZXR3ZWVuIGVhY2ggYXN5bmMgc3RlcCBvZiB0aGUgdXBsb2FkCiAqIHByb2Nlc3MuCiAqIEBwYXJhbSB7c3RyaW5nfSBpbnB1dElkIEVsZW1lbnQgSUQgb2YgdGhlIGlucHV0IGZpbGUgcGlja2VyIGVsZW1lbnQuCiAqIEBwYXJhbSB7c3RyaW5nfSBvdXRwdXRJZCBFbGVtZW50IElEIG9mIHRoZSBvdXRwdXQgZGlzcGxheS4KICogQHJldHVybiB7IUl0ZXJhYmxlPCFPYmplY3Q+fSBJdGVyYWJsZSBvZiBuZXh0IHN0ZXBzLgogKi8KZnVuY3Rpb24qIHVwbG9hZEZpbGVzU3RlcChpbnB1dElkLCBvdXRwdXRJZCkgewogIGNvbnN0IGlucHV0RWxlbWVudCA9IGRvY3VtZW50LmdldEVsZW1lbnRCeUlkKGlucHV0SWQpOwogIGlucHV0RWxlbWVudC5kaXNhYmxlZCA9IGZhbHNlOwoKICBjb25zdCBvdXRwdXRFbGVtZW50ID0gZG9jdW1lbnQuZ2V0RWxlbWVudEJ5SWQob3V0cHV0SWQpOwogIG91dHB1dEVsZW1lbnQuaW5uZXJIVE1MID0gJyc7CgogIGNvbnN0IHBpY2tlZFByb21pc2UgPSBuZXcgUHJvbWlzZSgocmVzb2x2ZSkgPT4gewogICAgaW5wdXRFbGVtZW50LmFkZEV2ZW50TGlzdGVuZXIoJ2NoYW5nZScsIChlKSA9PiB7CiAgICAgIHJlc29sdmUoZS50YXJnZXQuZmlsZXMpOwogICAgfSk7CiAgfSk7CgogIGNvbnN0IGNhbmNlbCA9IGRvY3VtZW50LmNyZWF0ZUVsZW1lbnQoJ2J1dHRvbicpOwogIGlucHV0RWxlbWVudC5wYXJlbnRFbGVtZW50LmFwcGVuZENoaWxkKGNhbmNlbCk7CiAgY2FuY2VsLnRleHRDb250ZW50ID0gJ0NhbmNlbCB1cGxvYWQnOwogIGNvbnN0IGNhbmNlbFByb21pc2UgPSBuZXcgUHJvbWlzZSgocmVzb2x2ZSkgPT4gewogICAgY2FuY2VsLm9uY2xpY2sgPSAoKSA9PiB7CiAgICAgIHJlc29sdmUobnVsbCk7CiAgICB9OwogIH0pOwoKICAvLyBXYWl0IGZvciB0aGUgdXNlciB0byBwaWNrIHRoZSBmaWxlcy4KICBjb25zdCBmaWxlcyA9IHlpZWxkIHsKICAgIHByb21pc2U6IFByb21pc2UucmFjZShbcGlja2VkUHJvbWlzZSwgY2FuY2VsUHJvbWlzZV0pLAogICAgcmVzcG9uc2U6IHsKICAgICAgYWN0aW9uOiAnc3RhcnRpbmcnLAogICAgfQogIH07CgogIGNhbmNlbC5yZW1vdmUoKTsKCiAgLy8gRGlzYWJsZSB0aGUgaW5wdXQgZWxlbWVudCBzaW5jZSBmdXJ0aGVyIHBpY2tzIGFyZSBub3QgYWxsb3dlZC4KICBpbnB1dEVsZW1lbnQuZGlzYWJsZWQgPSB0cnVlOwoKICBpZiAoIWZpbGVzKSB7CiAgICByZXR1cm4gewogICAgICByZXNwb25zZTogewogICAgICAgIGFjdGlvbjogJ2NvbXBsZXRlJywKICAgICAgfQogICAgfTsKICB9CgogIGZvciAoY29uc3QgZmlsZSBvZiBmaWxlcykgewogICAgY29uc3QgbGkgPSBkb2N1bWVudC5jcmVhdGVFbGVtZW50KCdsaScpOwogICAgbGkuYXBwZW5kKHNwYW4oZmlsZS5uYW1lLCB7Zm9udFdlaWdodDogJ2JvbGQnfSkpOwogICAgbGkuYXBwZW5kKHNwYW4oCiAgICAgICAgYCgke2ZpbGUudHlwZSB8fCAnbi9hJ30pIC0gJHtmaWxlLnNpemV9IGJ5dGVzLCBgICsKICAgICAgICBgbGFzdCBtb2RpZmllZDogJHsKICAgICAgICAgICAgZmlsZS5sYXN0TW9kaWZpZWREYXRlID8gZmlsZS5sYXN0TW9kaWZpZWREYXRlLnRvTG9jYWxlRGF0ZVN0cmluZygpIDoKICAgICAgICAgICAgICAgICAgICAgICAgICAgICAgICAgICAgJ24vYSd9IC0gYCkpOwogICAgY29uc3QgcGVyY2VudCA9IHNwYW4oJzAlIGRvbmUnKTsKICAgIGxpLmFwcGVuZENoaWxkKHBlcmNlbnQpOwoKICAgIG91dHB1dEVsZW1lbnQuYXBwZW5kQ2hpbGQobGkpOwoKICAgIGNvbnN0IGZpbGVEYXRhUHJvbWlzZSA9IG5ldyBQcm9taXNlKChyZXNvbHZlKSA9PiB7CiAgICAgIGNvbnN0IHJlYWRlciA9IG5ldyBGaWxlUmVhZGVyKCk7CiAgICAgIHJlYWRlci5vbmxvYWQgPSAoZSkgPT4gewogICAgICAgIHJlc29sdmUoZS50YXJnZXQucmVzdWx0KTsKICAgICAgfTsKICAgICAgcmVhZGVyLnJlYWRBc0FycmF5QnVmZmVyKGZpbGUpOwogICAgfSk7CiAgICAvLyBXYWl0IGZvciB0aGUgZGF0YSB0byBiZSByZWFkeS4KICAgIGxldCBmaWxlRGF0YSA9IHlpZWxkIHsKICAgICAgcHJvbWlzZTogZmlsZURhdGFQcm9taXNlLAogICAgICByZXNwb25zZTogewogICAgICAgIGFjdGlvbjogJ2NvbnRpbnVlJywKICAgICAgfQogICAgfTsKCiAgICAvLyBVc2UgYSBjaHVua2VkIHNlbmRpbmcgdG8gYXZvaWQgbWVzc2FnZSBzaXplIGxpbWl0cy4gU2VlIGIvNjIxMTU2NjAuCiAgICBsZXQgcG9zaXRpb24gPSAwOwogICAgd2hpbGUgKHBvc2l0aW9uIDwgZmlsZURhdGEuYnl0ZUxlbmd0aCkgewogICAgICBjb25zdCBsZW5ndGggPSBNYXRoLm1pbihmaWxlRGF0YS5ieXRlTGVuZ3RoIC0gcG9zaXRpb24sIE1BWF9QQVlMT0FEX1NJWkUpOwogICAgICBjb25zdCBjaHVuayA9IG5ldyBVaW50OEFycmF5KGZpbGVEYXRhLCBwb3NpdGlvbiwgbGVuZ3RoKTsKICAgICAgcG9zaXRpb24gKz0gbGVuZ3RoOwoKICAgICAgY29uc3QgYmFzZTY0ID0gYnRvYShTdHJpbmcuZnJvbUNoYXJDb2RlLmFwcGx5KG51bGwsIGNodW5rKSk7CiAgICAgIHlpZWxkIHsKICAgICAgICByZXNwb25zZTogewogICAgICAgICAgYWN0aW9uOiAnYXBwZW5kJywKICAgICAgICAgIGZpbGU6IGZpbGUubmFtZSwKICAgICAgICAgIGRhdGE6IGJhc2U2NCwKICAgICAgICB9LAogICAgICB9OwogICAgICBwZXJjZW50LnRleHRDb250ZW50ID0KICAgICAgICAgIGAke01hdGgucm91bmQoKHBvc2l0aW9uIC8gZmlsZURhdGEuYnl0ZUxlbmd0aCkgKiAxMDApfSUgZG9uZWA7CiAgICB9CiAgfQoKICAvLyBBbGwgZG9uZS4KICB5aWVsZCB7CiAgICByZXNwb25zZTogewogICAgICBhY3Rpb246ICdjb21wbGV0ZScsCiAgICB9CiAgfTsKfQoKc2NvcGUuZ29vZ2xlID0gc2NvcGUuZ29vZ2xlIHx8IHt9OwpzY29wZS5nb29nbGUuY29sYWIgPSBzY29wZS5nb29nbGUuY29sYWIgfHwge307CnNjb3BlLmdvb2dsZS5jb2xhYi5fZmlsZXMgPSB7CiAgX3VwbG9hZEZpbGVzLAogIF91cGxvYWRGaWxlc0NvbnRpbnVlLAp9Owp9KShzZWxmKTsK",
              "ok": true,
              "headers": [
                [
                  "content-type",
                  "application/javascript"
                ]
              ],
              "status": 200,
              "status_text": ""
            }
          },
          "base_uri": "https://localhost:8080/",
          "height": 70
        },
        "id": "5aiTNienvn9M",
        "outputId": "7eb18cdf-a453-42f1-e8af-5604bf80d085"
      },
      "source": [
        "from google.colab import files\n",
        "uploaded = files.upload()\n",
        "import pandas as pd\n",
        "import io\n",
        "\n",
        "fb=pd.read_csv('HINDUNILVR.NS.csv',parse_dates=True,index_col='Date')\n",
        "fb=fb.drop(columns=['Adj Close','Open','Low','High','Volume'])"
      ],
      "execution_count": null,
      "outputs": [
        {
          "output_type": "display_data",
          "data": {
            "text/html": [
              "\n",
              "     <input type=\"file\" id=\"files-b3982ac6-9f13-4a4e-9abd-f59f08e2d46e\" name=\"files[]\" multiple disabled\n",
              "        style=\"border:none\" />\n",
              "     <output id=\"result-b3982ac6-9f13-4a4e-9abd-f59f08e2d46e\">\n",
              "      Upload widget is only available when the cell has been executed in the\n",
              "      current browser session. Please rerun this cell to enable.\n",
              "      </output>\n",
              "      <script src=\"/nbextensions/google.colab/files.js\"></script> "
            ],
            "text/plain": [
              "<IPython.core.display.HTML object>"
            ]
          },
          "metadata": {
            "tags": []
          }
        },
        {
          "output_type": "stream",
          "text": [
            "Saving HINDUNILVR.NS.csv to HINDUNILVR.NS (1).csv\n"
          ],
          "name": "stdout"
        }
      ]
    },
    {
      "cell_type": "code",
      "metadata": {
        "colab": {
          "base_uri": "https://localhost:8080/",
          "height": 420
        },
        "id": "0IaUMh4ivn9T",
        "outputId": "13d84816-7b90-4165-fcea-ef49869551dc"
      },
      "source": [
        "fin =fb\n",
        "fin"
      ],
      "execution_count": null,
      "outputs": [
        {
          "output_type": "execute_result",
          "data": {
            "text/html": [
              "<div>\n",
              "<style scoped>\n",
              "    .dataframe tbody tr th:only-of-type {\n",
              "        vertical-align: middle;\n",
              "    }\n",
              "\n",
              "    .dataframe tbody tr th {\n",
              "        vertical-align: top;\n",
              "    }\n",
              "\n",
              "    .dataframe thead th {\n",
              "        text-align: right;\n",
              "    }\n",
              "</style>\n",
              "<table border=\"1\" class=\"dataframe\">\n",
              "  <thead>\n",
              "    <tr style=\"text-align: right;\">\n",
              "      <th></th>\n",
              "      <th>Close</th>\n",
              "    </tr>\n",
              "    <tr>\n",
              "      <th>Date</th>\n",
              "      <th></th>\n",
              "    </tr>\n",
              "  </thead>\n",
              "  <tbody>\n",
              "    <tr>\n",
              "      <th>2008-01-01</th>\n",
              "      <td>218.449997</td>\n",
              "    </tr>\n",
              "    <tr>\n",
              "      <th>2008-01-02</th>\n",
              "      <td>215.800003</td>\n",
              "    </tr>\n",
              "    <tr>\n",
              "      <th>2008-01-03</th>\n",
              "      <td>222.850006</td>\n",
              "    </tr>\n",
              "    <tr>\n",
              "      <th>2008-01-04</th>\n",
              "      <td>232.050003</td>\n",
              "    </tr>\n",
              "    <tr>\n",
              "      <th>2008-01-07</th>\n",
              "      <td>237.199997</td>\n",
              "    </tr>\n",
              "    <tr>\n",
              "      <th>...</th>\n",
              "      <td>...</td>\n",
              "    </tr>\n",
              "    <tr>\n",
              "      <th>2020-10-26</th>\n",
              "      <td>2166.750000</td>\n",
              "    </tr>\n",
              "    <tr>\n",
              "      <th>2020-10-27</th>\n",
              "      <td>2176.699951</td>\n",
              "    </tr>\n",
              "    <tr>\n",
              "      <th>2020-10-28</th>\n",
              "      <td>2164.350098</td>\n",
              "    </tr>\n",
              "    <tr>\n",
              "      <th>2020-10-29</th>\n",
              "      <td>2122.100098</td>\n",
              "    </tr>\n",
              "    <tr>\n",
              "      <th>2020-10-30</th>\n",
              "      <td>2071.300049</td>\n",
              "    </tr>\n",
              "  </tbody>\n",
              "</table>\n",
              "<p>3167 rows × 1 columns</p>\n",
              "</div>"
            ],
            "text/plain": [
              "                  Close\n",
              "Date                   \n",
              "2008-01-01   218.449997\n",
              "2008-01-02   215.800003\n",
              "2008-01-03   222.850006\n",
              "2008-01-04   232.050003\n",
              "2008-01-07   237.199997\n",
              "...                 ...\n",
              "2020-10-26  2166.750000\n",
              "2020-10-27  2176.699951\n",
              "2020-10-28  2164.350098\n",
              "2020-10-29  2122.100098\n",
              "2020-10-30  2071.300049\n",
              "\n",
              "[3167 rows x 1 columns]"
            ]
          },
          "metadata": {
            "tags": []
          },
          "execution_count": 3
        }
      ]
    },
    {
      "cell_type": "code",
      "metadata": {
        "colab": {
          "base_uri": "https://localhost:8080/",
          "height": 420
        },
        "id": "d4KrIETdvn9b",
        "outputId": "e845c9c8-9ec8-472a-a867-9a80c7e960e0"
      },
      "source": [
        "fb=fb.asfreq(freq='D',method='bfill')\n",
        "fin = fin.asfreq(freq='D',method='bfill')\n",
        "fin"
      ],
      "execution_count": null,
      "outputs": [
        {
          "output_type": "execute_result",
          "data": {
            "text/html": [
              "<div>\n",
              "<style scoped>\n",
              "    .dataframe tbody tr th:only-of-type {\n",
              "        vertical-align: middle;\n",
              "    }\n",
              "\n",
              "    .dataframe tbody tr th {\n",
              "        vertical-align: top;\n",
              "    }\n",
              "\n",
              "    .dataframe thead th {\n",
              "        text-align: right;\n",
              "    }\n",
              "</style>\n",
              "<table border=\"1\" class=\"dataframe\">\n",
              "  <thead>\n",
              "    <tr style=\"text-align: right;\">\n",
              "      <th></th>\n",
              "      <th>Close</th>\n",
              "    </tr>\n",
              "    <tr>\n",
              "      <th>Date</th>\n",
              "      <th></th>\n",
              "    </tr>\n",
              "  </thead>\n",
              "  <tbody>\n",
              "    <tr>\n",
              "      <th>2008-01-01</th>\n",
              "      <td>218.449997</td>\n",
              "    </tr>\n",
              "    <tr>\n",
              "      <th>2008-01-02</th>\n",
              "      <td>215.800003</td>\n",
              "    </tr>\n",
              "    <tr>\n",
              "      <th>2008-01-03</th>\n",
              "      <td>222.850006</td>\n",
              "    </tr>\n",
              "    <tr>\n",
              "      <th>2008-01-04</th>\n",
              "      <td>232.050003</td>\n",
              "    </tr>\n",
              "    <tr>\n",
              "      <th>2008-01-05</th>\n",
              "      <td>237.199997</td>\n",
              "    </tr>\n",
              "    <tr>\n",
              "      <th>...</th>\n",
              "      <td>...</td>\n",
              "    </tr>\n",
              "    <tr>\n",
              "      <th>2020-10-26</th>\n",
              "      <td>2166.750000</td>\n",
              "    </tr>\n",
              "    <tr>\n",
              "      <th>2020-10-27</th>\n",
              "      <td>2176.699951</td>\n",
              "    </tr>\n",
              "    <tr>\n",
              "      <th>2020-10-28</th>\n",
              "      <td>2164.350098</td>\n",
              "    </tr>\n",
              "    <tr>\n",
              "      <th>2020-10-29</th>\n",
              "      <td>2122.100098</td>\n",
              "    </tr>\n",
              "    <tr>\n",
              "      <th>2020-10-30</th>\n",
              "      <td>2071.300049</td>\n",
              "    </tr>\n",
              "  </tbody>\n",
              "</table>\n",
              "<p>4687 rows × 1 columns</p>\n",
              "</div>"
            ],
            "text/plain": [
              "                  Close\n",
              "Date                   \n",
              "2008-01-01   218.449997\n",
              "2008-01-02   215.800003\n",
              "2008-01-03   222.850006\n",
              "2008-01-04   232.050003\n",
              "2008-01-05   237.199997\n",
              "...                 ...\n",
              "2020-10-26  2166.750000\n",
              "2020-10-27  2176.699951\n",
              "2020-10-28  2164.350098\n",
              "2020-10-29  2122.100098\n",
              "2020-10-30  2071.300049\n",
              "\n",
              "[4687 rows x 1 columns]"
            ]
          },
          "metadata": {
            "tags": []
          },
          "execution_count": 4
        }
      ]
    },
    {
      "cell_type": "code",
      "metadata": {
        "colab": {
          "base_uri": "https://localhost:8080/",
          "height": 420
        },
        "id": "noQF6IEWvn9g",
        "outputId": "639d5955-9df9-4a3e-950a-abdab72718f1"
      },
      "source": [
        "fb"
      ],
      "execution_count": null,
      "outputs": [
        {
          "output_type": "execute_result",
          "data": {
            "text/html": [
              "<div>\n",
              "<style scoped>\n",
              "    .dataframe tbody tr th:only-of-type {\n",
              "        vertical-align: middle;\n",
              "    }\n",
              "\n",
              "    .dataframe tbody tr th {\n",
              "        vertical-align: top;\n",
              "    }\n",
              "\n",
              "    .dataframe thead th {\n",
              "        text-align: right;\n",
              "    }\n",
              "</style>\n",
              "<table border=\"1\" class=\"dataframe\">\n",
              "  <thead>\n",
              "    <tr style=\"text-align: right;\">\n",
              "      <th></th>\n",
              "      <th>Close</th>\n",
              "    </tr>\n",
              "    <tr>\n",
              "      <th>Date</th>\n",
              "      <th></th>\n",
              "    </tr>\n",
              "  </thead>\n",
              "  <tbody>\n",
              "    <tr>\n",
              "      <th>2008-01-01</th>\n",
              "      <td>218.449997</td>\n",
              "    </tr>\n",
              "    <tr>\n",
              "      <th>2008-01-02</th>\n",
              "      <td>215.800003</td>\n",
              "    </tr>\n",
              "    <tr>\n",
              "      <th>2008-01-03</th>\n",
              "      <td>222.850006</td>\n",
              "    </tr>\n",
              "    <tr>\n",
              "      <th>2008-01-04</th>\n",
              "      <td>232.050003</td>\n",
              "    </tr>\n",
              "    <tr>\n",
              "      <th>2008-01-05</th>\n",
              "      <td>237.199997</td>\n",
              "    </tr>\n",
              "    <tr>\n",
              "      <th>...</th>\n",
              "      <td>...</td>\n",
              "    </tr>\n",
              "    <tr>\n",
              "      <th>2020-10-26</th>\n",
              "      <td>2166.750000</td>\n",
              "    </tr>\n",
              "    <tr>\n",
              "      <th>2020-10-27</th>\n",
              "      <td>2176.699951</td>\n",
              "    </tr>\n",
              "    <tr>\n",
              "      <th>2020-10-28</th>\n",
              "      <td>2164.350098</td>\n",
              "    </tr>\n",
              "    <tr>\n",
              "      <th>2020-10-29</th>\n",
              "      <td>2122.100098</td>\n",
              "    </tr>\n",
              "    <tr>\n",
              "      <th>2020-10-30</th>\n",
              "      <td>2071.300049</td>\n",
              "    </tr>\n",
              "  </tbody>\n",
              "</table>\n",
              "<p>4687 rows × 1 columns</p>\n",
              "</div>"
            ],
            "text/plain": [
              "                  Close\n",
              "Date                   \n",
              "2008-01-01   218.449997\n",
              "2008-01-02   215.800003\n",
              "2008-01-03   222.850006\n",
              "2008-01-04   232.050003\n",
              "2008-01-05   237.199997\n",
              "...                 ...\n",
              "2020-10-26  2166.750000\n",
              "2020-10-27  2176.699951\n",
              "2020-10-28  2164.350098\n",
              "2020-10-29  2122.100098\n",
              "2020-10-30  2071.300049\n",
              "\n",
              "[4687 rows x 1 columns]"
            ]
          },
          "metadata": {
            "tags": []
          },
          "execution_count": 5
        }
      ]
    },
    {
      "cell_type": "code",
      "metadata": {
        "id": "9uu9u4FST-zG",
        "colab": {
          "base_uri": "https://localhost:8080/",
          "height": 295
        },
        "outputId": "6c744e27-b4f2-430a-adaf-b0404a58bed9"
      },
      "source": [
        "fb.plot()"
      ],
      "execution_count": null,
      "outputs": [
        {
          "output_type": "execute_result",
          "data": {
            "text/plain": [
              "<matplotlib.axes._subplots.AxesSubplot at 0x7fed94433a20>"
            ]
          },
          "metadata": {
            "tags": []
          },
          "execution_count": 6
        },
        {
          "output_type": "display_data",
          "data": {
            "image/png": "[encoded data removed]",
            "text/plain": [
              "<Figure size 432x288 with 1 Axes>"
            ]
          },
          "metadata": {
            "tags": [],
            "needs_background": "light"
          }
        }
      ]
    },
    {
      "cell_type": "markdown",
      "metadata": {
        "id": "xXHztsAbvn9l"
      },
      "source": [
        "\n",
        "#Forecasting Procedure:\n",
        "   \n",
        "   1.)Choose a Model\n",
        "   2.)Split the Data into Training and Test Data\n",
        "   3.)Fit the Model on Training Data\n",
        "   4.)Evaluate the Model on Test Data\n",
        "   5.)Re-Fit the Model on Entire Data\n",
        "   6.)Forecast for Future Data\n",
        "   \n",
        "   "
      ]
    },
    {
      "cell_type": "code",
      "metadata": {
        "colab": {
          "base_uri": "https://localhost:8080/",
          "height": 295
        },
        "id": "lZtupxLkvn9m",
        "scrolled": true,
        "outputId": "556be46f-3a5d-4a5b-d357-bf2b64f6a023"
      },
      "source": [
        "fb['Close'].plot()"
      ],
      "execution_count": null,
      "outputs": [
        {
          "output_type": "execute_result",
          "data": {
            "text/plain": [
              "<matplotlib.axes._subplots.AxesSubplot at 0x7fed9302dfd0>"
            ]
          },
          "metadata": {
            "tags": []
          },
          "execution_count": 7
        },
        {
          "output_type": "display_data",
          "data": {
            "image/png": "[encoded data removed]",
            "text/plain": [
              "<Figure size 432x288 with 1 Axes>"
            ]
          },
          "metadata": {
            "tags": [],
            "needs_background": "light"
          }
        }
      ]
    },
    {
      "cell_type": "code",
      "metadata": {
        "id": "VQ_gs6R2DlvQ"
      },
      "source": [
        "fb=fb.fillna(method='ffill')\n",
        "fin = fin.fillna(method='ffill')"
      ],
      "execution_count": null,
      "outputs": []
    },
    {
      "cell_type": "code",
      "metadata": {
        "colab": {
          "base_uri": "https://localhost:8080/"
        },
        "id": "D3xQNDt2EsAs",
        "outputId": "cbe000f0-6c0f-4b7d-924f-2d34184e248e"
      },
      "source": [
        "fb.isnull().values.any()\n",
        "fin.isnull().values.any()"
      ],
      "execution_count": null,
      "outputs": [
        {
          "output_type": "execute_result",
          "data": {
            "text/plain": [
              "False"
            ]
          },
          "metadata": {
            "tags": []
          },
          "execution_count": 9
        }
      ]
    },
    {
      "cell_type": "code",
      "metadata": {
        "id": "_kdWiCSIvn9u"
      },
      "source": [
        "breakup=seasonal_decompose(fb['Close'],model='additive')"
      ],
      "execution_count": null,
      "outputs": []
    },
    {
      "cell_type": "code",
      "metadata": {
        "colab": {
          "base_uri": "https://localhost:8080/",
          "height": 297
        },
        "id": "oEqbzy0Kvn9z",
        "outputId": "b1bd03ae-be1e-4b8f-9f43-8e421f79b466"
      },
      "source": [
        "breakup.plot();"
      ],
      "execution_count": null,
      "outputs": [
        {
          "output_type": "display_data",
          "data": {
            "image/png": "[encoded data removed]",
            "text/plain": [
              "<Figure size 432x288 with 4 Axes>"
            ]
          },
          "metadata": {
            "tags": [],
            "needs_background": "light"
          }
        }
      ]
    },
    {
      "cell_type": "code",
      "metadata": {
        "colab": {
          "base_uri": "https://localhost:8080/"
        },
        "id": "RUXZFqczE4HW",
        "outputId": "62fc5eeb-8a37-47a2-ce6d-21cad7ecbbd9"
      },
      "source": [
        "len(fb)"
      ],
      "execution_count": null,
      "outputs": [
        {
          "output_type": "execute_result",
          "data": {
            "text/plain": [
              "4687"
            ]
          },
          "metadata": {
            "tags": []
          },
          "execution_count": 12
        }
      ]
    },
    {
      "cell_type": "code",
      "metadata": {
        "id": "8_6yaHa1vn-C"
      },
      "source": [
        "train_fb=fb.iloc[:-468]\n",
        "test_fb=fb.iloc[-468:]"
      ],
      "execution_count": null,
      "outputs": []
    },
    {
      "cell_type": "code",
      "metadata": {
        "colab": {
          "base_uri": "https://localhost:8080/",
          "height": 220
        },
        "id": "qvlENRu2vn-L",
        "outputId": "ed83dba1-3ada-4a44-8b0f-f4596b5a51d8"
      },
      "source": [
        "train_fb.tail()"
      ],
      "execution_count": null,
      "outputs": [
        {
          "output_type": "execute_result",
          "data": {
            "text/html": [
              "<div>\n",
              "<style scoped>\n",
              "    .dataframe tbody tr th:only-of-type {\n",
              "        vertical-align: middle;\n",
              "    }\n",
              "\n",
              "    .dataframe tbody tr th {\n",
              "        vertical-align: top;\n",
              "    }\n",
              "\n",
              "    .dataframe thead th {\n",
              "        text-align: right;\n",
              "    }\n",
              "</style>\n",
              "<table border=\"1\" class=\"dataframe\">\n",
              "  <thead>\n",
              "    <tr style=\"text-align: right;\">\n",
              "      <th></th>\n",
              "      <th>Close</th>\n",
              "    </tr>\n",
              "    <tr>\n",
              "      <th>Date</th>\n",
              "      <th></th>\n",
              "    </tr>\n",
              "  </thead>\n",
              "  <tbody>\n",
              "    <tr>\n",
              "      <th>2019-07-16</th>\n",
              "      <td>1741.300049</td>\n",
              "    </tr>\n",
              "    <tr>\n",
              "      <th>2019-07-17</th>\n",
              "      <td>1760.699951</td>\n",
              "    </tr>\n",
              "    <tr>\n",
              "      <th>2019-07-18</th>\n",
              "      <td>1739.150024</td>\n",
              "    </tr>\n",
              "    <tr>\n",
              "      <th>2019-07-19</th>\n",
              "      <td>1720.400024</td>\n",
              "    </tr>\n",
              "    <tr>\n",
              "      <th>2019-07-20</th>\n",
              "      <td>1680.699951</td>\n",
              "    </tr>\n",
              "  </tbody>\n",
              "</table>\n",
              "</div>"
            ],
            "text/plain": [
              "                  Close\n",
              "Date                   \n",
              "2019-07-16  1741.300049\n",
              "2019-07-17  1760.699951\n",
              "2019-07-18  1739.150024\n",
              "2019-07-19  1720.400024\n",
              "2019-07-20  1680.699951"
            ]
          },
          "metadata": {
            "tags": []
          },
          "execution_count": 14
        }
      ]
    },
    {
      "cell_type": "code",
      "metadata": {
        "colab": {
          "base_uri": "https://localhost:8080/",
          "height": 220
        },
        "id": "5P7g4wpgvn-U",
        "outputId": "846bda64-3dc4-4875-9a02-184f6f3dfcb5"
      },
      "source": [
        "test_fb.head()"
      ],
      "execution_count": null,
      "outputs": [
        {
          "output_type": "execute_result",
          "data": {
            "text/html": [
              "<div>\n",
              "<style scoped>\n",
              "    .dataframe tbody tr th:only-of-type {\n",
              "        vertical-align: middle;\n",
              "    }\n",
              "\n",
              "    .dataframe tbody tr th {\n",
              "        vertical-align: top;\n",
              "    }\n",
              "\n",
              "    .dataframe thead th {\n",
              "        text-align: right;\n",
              "    }\n",
              "</style>\n",
              "<table border=\"1\" class=\"dataframe\">\n",
              "  <thead>\n",
              "    <tr style=\"text-align: right;\">\n",
              "      <th></th>\n",
              "      <th>Close</th>\n",
              "    </tr>\n",
              "    <tr>\n",
              "      <th>Date</th>\n",
              "      <th></th>\n",
              "    </tr>\n",
              "  </thead>\n",
              "  <tbody>\n",
              "    <tr>\n",
              "      <th>2019-07-21</th>\n",
              "      <td>1680.699951</td>\n",
              "    </tr>\n",
              "    <tr>\n",
              "      <th>2019-07-22</th>\n",
              "      <td>1680.699951</td>\n",
              "    </tr>\n",
              "    <tr>\n",
              "      <th>2019-07-23</th>\n",
              "      <td>1693.349976</td>\n",
              "    </tr>\n",
              "    <tr>\n",
              "      <th>2019-07-24</th>\n",
              "      <td>1728.650024</td>\n",
              "    </tr>\n",
              "    <tr>\n",
              "      <th>2019-07-25</th>\n",
              "      <td>1736.650024</td>\n",
              "    </tr>\n",
              "  </tbody>\n",
              "</table>\n",
              "</div>"
            ],
            "text/plain": [
              "                  Close\n",
              "Date                   \n",
              "2019-07-21  1680.699951\n",
              "2019-07-22  1680.699951\n",
              "2019-07-23  1693.349976\n",
              "2019-07-24  1728.650024\n",
              "2019-07-25  1736.650024"
            ]
          },
          "metadata": {
            "tags": []
          },
          "execution_count": 15
        }
      ]
    },
    {
      "cell_type": "markdown",
      "metadata": {
        "id": "_sFZPNFDvn-Z"
      },
      "source": [
        "# Exponential Smoothing\n"
      ]
    },
    {
      "cell_type": "code",
      "metadata": {
        "id": "7ew9STQcvn-a"
      },
      "source": [
        "from statsmodels.tsa.holtwinters import ExponentialSmoothing"
      ],
      "execution_count": null,
      "outputs": []
    },
    {
      "cell_type": "code",
      "metadata": {
        "id": "Ef9f9vf-vn-g"
      },
      "source": [
        "test_fb_model=ExponentialSmoothing(train_fb['Close'],trend='add',seasonal='mul',seasonal_periods=53).fit()"
      ],
      "execution_count": null,
      "outputs": []
    },
    {
      "cell_type": "code",
      "metadata": {
        "id": "-FxcGeMmvn-l"
      },
      "source": [
        "test_fb_predictions=test_fb_model.forecast(468)"
      ],
      "execution_count": null,
      "outputs": []
    },
    {
      "cell_type": "code",
      "metadata": {
        "colab": {
          "base_uri": "https://localhost:8080/",
          "height": 307
        },
        "id": "m5slKRAFvn-s",
        "outputId": "a2fd1239-fed9-418d-a3fc-673985cb3ce2"
      },
      "source": [
        "\n",
        "test_fb['Close'].plot(legend=True,label='Test Data')\n",
        "test_fb_predictions.plot(legend=True,label='Prediction')"
      ],
      "execution_count": null,
      "outputs": [
        {
          "output_type": "execute_result",
          "data": {
            "text/plain": [
              "<matplotlib.axes._subplots.AxesSubplot at 0x7fed8ff451d0>"
            ]
          },
          "metadata": {
            "tags": []
          },
          "execution_count": 19
        },
        {
          "output_type": "display_data",
          "data": {
            "image/png": "[encoded data removed]",
            "text/plain": [
              "<Figure size 432x288 with 1 Axes>"
            ]
          },
          "metadata": {
            "tags": [],
            "needs_background": "light"
          }
        }
      ]
    },
    {
      "cell_type": "code",
      "metadata": {
        "id": "6IwaR2JBvn-z"
      },
      "source": [
        "from sklearn.metrics import mean_absolute_error,mean_squared_error"
      ],
      "execution_count": null,
      "outputs": []
    },
    {
      "cell_type": "code",
      "metadata": {
        "colab": {
          "base_uri": "https://localhost:8080/"
        },
        "id": "3-H5Lsq7vn-5",
        "outputId": "8dd8d65b-d245-4f3b-f43a-8aec2a3be1af"
      },
      "source": [
        "std=fb['Close'].std()\n",
        "rmse=np.sqrt(mean_squared_error(test_fb['Close'],test_fb_predictions))\n",
        "rmse,std"
      ],
      "execution_count": null,
      "outputs": [
        {
          "output_type": "execute_result",
          "data": {
            "text/plain": [
              "(281.5427979675597, 603.1485952525858)"
            ]
          },
          "metadata": {
            "tags": []
          },
          "execution_count": 21
        }
      ]
    },
    {
      "cell_type": "code",
      "metadata": {
        "id": "0807WBujvn--"
      },
      "source": [
        "fb_ES_model=ExponentialSmoothing(fb['Close'],trend='add',seasonal='mul',seasonal_periods=90).fit()\n",
        "fb_ES_Predictions=fb_ES_model.forecast(240)\n"
      ],
      "execution_count": null,
      "outputs": []
    },
    {
      "cell_type": "code",
      "metadata": {
        "id": "J9ac66eevn_C",
        "colab": {
          "base_uri": "https://localhost:8080/"
        },
        "outputId": "c6ed3bb7-3f3f-42c2-d1c9-760811dfdc69"
      },
      "source": [
        "from sklearn.metrics import mean_absolute_error\n",
        "\n",
        "mean_absolute_error(test_fb['Close'], test_fb_predictions) "
      ],
      "execution_count": null,
      "outputs": [
        {
          "output_type": "execute_result",
          "data": {
            "text/plain": [
              "219.53604136276874"
            ]
          },
          "metadata": {
            "tags": []
          },
          "execution_count": 23
        }
      ]
    },
    {
      "cell_type": "code",
      "metadata": {
        "colab": {
          "base_uri": "https://localhost:8080/"
        },
        "id": "nHZi84kqaps0",
        "outputId": "4a56ccc5-752c-470c-fe3b-a7ed4d91763b"
      },
      "source": [
        "mape = np.mean(np.abs((test_fb['Close'] - test_fb_predictions)/test_fb['Close']))*100\n",
        "mape"
      ],
      "execution_count": null,
      "outputs": [
        {
          "output_type": "execute_result",
          "data": {
            "text/plain": [
              "10.440611283803166"
            ]
          },
          "metadata": {
            "tags": []
          },
          "execution_count": 24
        }
      ]
    },
    {
      "cell_type": "markdown",
      "metadata": {
        "id": "W_62Wuzdvn_H"
      },
      "source": [
        "# ARIMA\n"
      ]
    },
    {
      "cell_type": "code",
      "metadata": {
        "id": "x5m8ptvkvn_I"
      },
      "source": [
        "from statsmodels.tsa.stattools import adfuller\n"
      ],
      "execution_count": null,
      "outputs": []
    },
    {
      "cell_type": "code",
      "metadata": {
        "colab": {
          "base_uri": "https://localhost:8080/",
          "height": 420
        },
        "id": "3KXcFXRQHLNB",
        "outputId": "93260757-cc3d-4cc1-b93a-659097ea87cc"
      },
      "source": [
        "fin"
      ],
      "execution_count": null,
      "outputs": [
        {
          "output_type": "execute_result",
          "data": {
            "text/html": [
              "<div>\n",
              "<style scoped>\n",
              "    .dataframe tbody tr th:only-of-type {\n",
              "        vertical-align: middle;\n",
              "    }\n",
              "\n",
              "    .dataframe tbody tr th {\n",
              "        vertical-align: top;\n",
              "    }\n",
              "\n",
              "    .dataframe thead th {\n",
              "        text-align: right;\n",
              "    }\n",
              "</style>\n",
              "<table border=\"1\" class=\"dataframe\">\n",
              "  <thead>\n",
              "    <tr style=\"text-align: right;\">\n",
              "      <th></th>\n",
              "      <th>Close</th>\n",
              "    </tr>\n",
              "    <tr>\n",
              "      <th>Date</th>\n",
              "      <th></th>\n",
              "    </tr>\n",
              "  </thead>\n",
              "  <tbody>\n",
              "    <tr>\n",
              "      <th>2008-01-01</th>\n",
              "      <td>218.449997</td>\n",
              "    </tr>\n",
              "    <tr>\n",
              "      <th>2008-01-02</th>\n",
              "      <td>215.800003</td>\n",
              "    </tr>\n",
              "    <tr>\n",
              "      <th>2008-01-03</th>\n",
              "      <td>222.850006</td>\n",
              "    </tr>\n",
              "    <tr>\n",
              "      <th>2008-01-04</th>\n",
              "      <td>232.050003</td>\n",
              "    </tr>\n",
              "    <tr>\n",
              "      <th>2008-01-05</th>\n",
              "      <td>237.199997</td>\n",
              "    </tr>\n",
              "    <tr>\n",
              "      <th>...</th>\n",
              "      <td>...</td>\n",
              "    </tr>\n",
              "    <tr>\n",
              "      <th>2020-10-26</th>\n",
              "      <td>2166.750000</td>\n",
              "    </tr>\n",
              "    <tr>\n",
              "      <th>2020-10-27</th>\n",
              "      <td>2176.699951</td>\n",
              "    </tr>\n",
              "    <tr>\n",
              "      <th>2020-10-28</th>\n",
              "      <td>2164.350098</td>\n",
              "    </tr>\n",
              "    <tr>\n",
              "      <th>2020-10-29</th>\n",
              "      <td>2122.100098</td>\n",
              "    </tr>\n",
              "    <tr>\n",
              "      <th>2020-10-30</th>\n",
              "      <td>2071.300049</td>\n",
              "    </tr>\n",
              "  </tbody>\n",
              "</table>\n",
              "<p>4687 rows × 1 columns</p>\n",
              "</div>"
            ],
            "text/plain": [
              "                  Close\n",
              "Date                   \n",
              "2008-01-01   218.449997\n",
              "2008-01-02   215.800003\n",
              "2008-01-03   222.850006\n",
              "2008-01-04   232.050003\n",
              "2008-01-05   237.199997\n",
              "...                 ...\n",
              "2020-10-26  2166.750000\n",
              "2020-10-27  2176.699951\n",
              "2020-10-28  2164.350098\n",
              "2020-10-29  2122.100098\n",
              "2020-10-30  2071.300049\n",
              "\n",
              "[4687 rows x 1 columns]"
            ]
          },
          "metadata": {
            "tags": []
          },
          "execution_count": 26
        }
      ]
    },
    {
      "cell_type": "code",
      "metadata": {
        "id": "ufqsJ9kdDjyM",
        "colab": {
          "base_uri": "https://localhost:8080/",
          "height": 282
        },
        "outputId": "4972d75e-958a-4ce1-b83a-350b1c6e1aa2"
      },
      "source": [
        "from matplotlib import pyplot\n",
        "from pandas.plotting import autocorrelation_plot\n",
        "autocorrelation_plot(fin)\n",
        "pyplot.show()"
      ],
      "execution_count": null,
      "outputs": [
        {
          "output_type": "display_data",
          "data": {
            "image/png": "[encoded data removed]",
            "text/plain": [
              "<Figure size 432x288 with 1 Axes>"
            ]
          },
          "metadata": {
            "tags": [],
            "needs_background": "light"
          }
        }
      ]
    },
    {
      "cell_type": "code",
      "metadata": {
        "id": "fd-zAtIuGPPX",
        "colab": {
          "base_uri": "https://localhost:8080/",
          "height": 1000
        },
        "outputId": "7cbc4db0-c8b5-4601-b0f5-ec48be895342"
      },
      "source": [
        "from pandas import DataFrame\n",
        "model = ARIMA(fin, order=(1,2,1))\n",
        "model_fit = model.fit(disp=0)\n",
        "print(model_fit.summary())\n",
        "# plot residual errors\n",
        "residuals = DataFrame(model_fit.resid)\n",
        "residuals.plot()\n",
        "pyplot.show()\n",
        "residuals.plot(kind='kde')\n",
        "pyplot.show()\n",
        "print(residuals.describe())"
      ],
      "execution_count": null,
      "outputs": [
        {
          "output_type": "stream",
          "text": [
            "                             ARIMA Model Results                              \n",
            "==============================================================================\n",
            "Dep. Variable:               D2.Close   No. Observations:                 4685\n",
            "Model:                 ARIMA(1, 2, 1)   Log Likelihood              -19014.282\n",
            "Method:                       css-mle   S.D. of innovations             13.995\n",
            "Date:                Wed, 02 Dec 2020   AIC                          38036.564\n",
            "Time:                        22:14:06   BIC                          38062.372\n",
            "Sample:                    01-03-2008   HQIC                         38045.639\n",
            "                         - 10-30-2020                                         \n",
            "==================================================================================\n",
            "                     coef    std err          z      P>|z|      [0.025      0.975]\n",
            "----------------------------------------------------------------------------------\n",
            "const              0.0002      0.000      1.176      0.240      -0.000       0.000\n",
            "ar.L1.D2.Close    -0.0541      0.015     -3.703      0.000      -0.083      -0.025\n",
            "ma.L1.D2.Close    -1.0000      0.001  -1812.659      0.000      -1.001      -0.999\n",
            "                                    Roots                                    \n",
            "=============================================================================\n",
            "                  Real          Imaginary           Modulus         Frequency\n",
            "-----------------------------------------------------------------------------\n",
            "AR.1          -18.4841           +0.0000j           18.4841            0.5000\n",
            "MA.1            1.0000           +0.0000j            1.0000            0.0000\n",
            "-----------------------------------------------------------------------------\n"
          ],
          "name": "stdout"
        },
        {
          "output_type": "display_data",
          "data": {
            "image/png": "[encoded data removed]",
            "text/plain": [
              "<Figure size 432x288 with 1 Axes>"
            ]
          },
          "metadata": {
            "tags": [],
            "needs_background": "light"
          }
        },
        {
          "output_type": "display_data",
          "data": {
            "image/png": "[encoded data removed]",
            "text/plain": [
              "<Figure size 432x288 with 1 Axes>"
            ]
          },
          "metadata": {
            "tags": [],
            "needs_background": "light"
          }
        },
        {
          "output_type": "stream",
          "text": [
            "                 0\n",
            "count  4685.000000\n",
            "mean     -0.002210\n",
            "std      13.999882\n",
            "min    -171.282206\n",
            "25%      -2.586905\n",
            "50%      -0.358603\n",
            "75%       2.082122\n",
            "max     289.945894\n"
          ],
          "name": "stdout"
        }
      ]
    },
    {
      "cell_type": "code",
      "metadata": {
        "id": "QE8eozCtNRzs",
        "colab": {
          "base_uri": "https://localhost:8080/"
        },
        "outputId": "f524ce07-f7a8-456b-c13f-a1745256fdb0"
      },
      "source": [
        "pyplot"
      ],
      "execution_count": null,
      "outputs": [
        {
          "output_type": "execute_result",
          "data": {
            "text/plain": [
              "<module 'matplotlib.pyplot' from '/usr/local/lib/python3.6/dist-packages/matplotlib/pyplot.py'>"
            ]
          },
          "metadata": {
            "tags": []
          },
          "execution_count": 29
        }
      ]
    },
    {
      "cell_type": "code",
      "metadata": {
        "id": "4FBk47CQHN9Z",
        "colab": {
          "base_uri": "https://localhost:8080/"
        },
        "outputId": "11197b2d-0a70-46f2-f4e7-52e89f81e8d3"
      },
      "source": [
        "import math\n",
        "from sklearn.metrics import mean_squared_error\n",
        "X = fin.values\n",
        "size = int(len(X) * 0.66)\n",
        "train, test = X[0:1000], X[4501:4685]\n",
        "history = [x for x in train]\n",
        "predictions = list()\n",
        "for t in range(len(test)):\n",
        "\tmodel = ARIMA(history, order=(0,2,0))\n",
        "\tmodel_fit = model.fit(disp=1)\n",
        "\toutput = model_fit.forecast()\n",
        "\tyhat = output[0]\n",
        "\tpredictions.append(yhat)\n",
        "\tobs = test[t]\n",
        "\thistory.append(obs)\n",
        "\tprint('predicted=%f, expected=%f' % (yhat, obs))\n",
        "\n"
      ],
      "execution_count": null,
      "outputs": [
        {
          "output_type": "stream",
          "text": [
            "predicted=308.852661, expected=2289.949951\n",
            "predicted=4273.035631, expected=2231.750000\n",
            "predicted=2173.494499, expected=2195.000000\n",
            "predicted=2158.215934, expected=2082.649902\n",
            "predicted=1970.190323, expected=2082.649902\n",
            "predicted=2082.652544, expected=2082.649902\n",
            "predicted=2082.652541, expected=2082.649902\n",
            "predicted=2082.652539, expected=2041.500000\n",
            "predicted=2000.311828, expected=2010.199951\n",
            "predicted=1978.871451, expected=1992.050049\n",
            "predicted=1973.884770, expected=2089.449951\n",
            "predicted=2186.949010, expected=2048.000000\n",
            "predicted=2006.511633, expected=2048.000000\n",
            "predicted=2048.002621, expected=2048.000000\n",
            "predicted=2048.002619, expected=2011.550049\n",
            "predicted=1975.066732, expected=1995.750000\n",
            "predicted=1979.936983, expected=2006.050049\n",
            "predicted=2016.362857, expected=2032.099976\n",
            "predicted=2058.178151, expected=2005.250000\n",
            "predicted=1978.376229, expected=2005.250000\n",
            "predicted=2005.252603, expected=2005.250000\n",
            "predicted=2005.252601, expected=1975.550049\n",
            "predicted=1945.823578, expected=1990.849976\n",
            "predicted=2006.167484, expected=1970.900024\n",
            "predicted=1950.933144, expected=1987.900024\n",
            "predicted=2004.919232, expected=1977.800049\n",
            "predicted=1967.692799, expected=1977.800049\n",
            "predicted=1977.802634, expected=1977.800049\n",
            "predicted=1977.802633, expected=1977.800049\n",
            "predicted=1977.802629, expected=1998.099976\n",
            "predicted=2018.422228, expected=2009.949951\n",
            "predicted=2021.814017, expected=2057.350098\n",
            "predicted=2104.798837, expected=2108.550049\n",
            "predicted=2159.802231, expected=2108.550049\n",
            "predicted=2108.552617, expected=2108.550049\n",
            "predicted=2108.552614, expected=2107.399902\n",
            "predicted=2106.251206, expected=2120.500000\n",
            "predicted=2133.615315, expected=2120.600098\n",
            "predicted=2120.702851, expected=2087.600098\n",
            "predicted=2054.570831, expected=2111.699951\n",
            "predicted=2135.825575, expected=2111.699951\n",
            "predicted=2111.702502, expected=2111.699951\n",
            "predicted=2111.702499, expected=2106.500000\n",
            "predicted=2101.297599, expected=2119.600098\n",
            "predicted=2132.715311, expected=2106.899902\n",
            "predicted=2094.190072, expected=2107.250000\n",
            "predicted=2107.602972, expected=2084.300049\n",
            "predicted=2061.330672, expected=2084.300049\n",
            "predicted=2084.302582, expected=2084.300049\n",
            "predicted=2084.302580, expected=2076.350098\n",
            "predicted=2068.395090, expected=2078.250000\n",
            "predicted=2080.154239, expected=2065.350098\n",
            "predicted=2052.440434, expected=2092.750000\n",
            "predicted=2120.178494, expected=2100.800049\n",
            "predicted=2108.860269, expected=2100.800049\n",
            "predicted=2100.802566, expected=2100.800049\n",
            "predicted=2100.802563, expected=2155.949951\n",
            "predicted=2211.154640, expected=2130.300049\n",
            "predicted=2104.628367, expected=2173.149902\n",
            "predicted=2216.042801, expected=2154.199951\n",
            "predicted=2135.234594, expected=2182.949951\n",
            "predicted=2211.729602, expected=2182.949951\n",
            "predicted=2182.952451, expected=2182.949951\n",
            "predicted=2182.952449, expected=2180.000000\n",
            "predicted=2177.049767, expected=2170.399902\n",
            "predicted=2160.793266, expected=2151.750000\n",
            "predicted=2133.085060, expected=2173.699951\n",
            "predicted=2195.673001, expected=2161.600098\n",
            "predicted=2149.491380, expected=2161.600098\n",
            "predicted=2161.602582, expected=2161.600098\n",
            "predicted=2161.602579, expected=2154.149902\n",
            "predicted=2146.695216, expected=2186.050049\n",
            "predicted=2217.982486, expected=2175.850098\n",
            "predicted=2165.643098, expected=2223.800049\n",
            "predicted=2271.797201, expected=2265.250000\n",
            "predicted=2306.741051, expected=2265.250000\n",
            "predicted=2265.252467, expected=2265.250000\n",
            "predicted=2265.252465, expected=2234.750000\n",
            "predicted=2204.224117, expected=2275.149902\n",
            "predicted=2315.589776, expected=2287.850098\n",
            "predicted=2300.564534, expected=2334.550049\n",
            "predicted=2381.295737, expected=2330.949951\n",
            "predicted=2327.348973, expected=2330.949951\n",
            "predicted=2330.952402, expected=2330.949951\n",
            "predicted=2330.952400, expected=2318.000000\n",
            "predicted=2305.040538, expected=2248.500000\n",
            "predicted=2178.938330, expected=2211.350098\n",
            "predicted=2174.168399, expected=2209.300049\n",
            "predicted=2207.250552, expected=2221.500000\n",
            "predicted=2233.713612, expected=2221.500000\n",
            "predicted=2221.502436, expected=2221.500000\n",
            "predicted=2221.502433, expected=2242.550049\n",
            "predicted=2263.621841, expected=2231.300049\n",
            "predicted=2220.042166, expected=2195.600098\n",
            "predicted=2159.869881, expected=2209.899902\n",
            "predicted=2224.215214, expected=2204.500000\n",
            "predicted=2199.097584, expected=2204.500000\n",
            "predicted=2204.502420, expected=2204.500000\n",
            "predicted=2204.502418, expected=2197.800049\n",
            "predicted=2191.096406, expected=2194.550049\n",
            "predicted=2191.299503, expected=2220.449951\n",
            "predicted=2246.375831, expected=2210.550049\n",
            "predicted=2200.643556, expected=2206.750000\n",
            "predicted=2202.948906, expected=2206.750000\n",
            "predicted=2206.752405, expected=2206.750000\n",
            "predicted=2206.752403, expected=2210.649902\n",
            "predicted=2214.555737, expected=2195.100098\n",
            "predicted=2179.538620, expected=2198.649902\n",
            "predicted=2202.205312, expected=2173.899902\n",
            "predicted=2149.129938, expected=2196.050049\n",
            "predicted=2218.222579, expected=2196.050049\n",
            "predicted=2196.052439, expected=2196.050049\n",
            "predicted=2196.052436, expected=2214.350098\n",
            "predicted=2232.669003, expected=2193.600098\n",
            "predicted=2172.833821, expected=2185.699951\n",
            "predicted=2177.795087, expected=2202.050049\n",
            "predicted=2218.417203, expected=2194.399902\n",
            "predicted=2186.745271, expected=2194.399902\n",
            "predicted=2194.402277, expected=2194.399902\n",
            "predicted=2194.402275, expected=2179.100098\n",
            "predicted=2163.788979, expected=2182.800049\n",
            "predicted=2186.505675, expected=2171.250000\n",
            "predicted=2159.692005, expected=2151.949951\n",
            "predicted=2132.635049, expected=2117.350098\n",
            "predicted=2082.721769, expected=2117.350098\n",
            "predicted=2117.352458, expected=2117.350098\n",
            "predicted=2117.352456, expected=2161.649902\n",
            "predicted=2205.991439, expected=2141.649902\n",
            "predicted=2121.634493, expected=2139.149902\n",
            "predicted=2136.650035, expected=2124.649902\n",
            "predicted=2110.139397, expected=2162.600098\n",
            "predicted=2200.586255, expected=2162.600098\n",
            "predicted=2162.602443, expected=2162.600098\n",
            "predicted=2162.602441, expected=2142.250000\n",
            "predicted=2121.884266, expected=2132.250000\n",
            "predicted=2122.243513, expected=2133.899902\n",
            "predicted=2135.553596, expected=2159.250000\n",
            "predicted=2184.624768, expected=2123.500000\n",
            "predicted=2087.720863, expected=2123.500000\n",
            "predicted=2123.502331, expected=2123.500000\n",
            "predicted=2123.502329, expected=2124.449951\n",
            "predicted=2125.403063, expected=2143.500000\n",
            "predicted=2162.569084, expected=2128.199951\n",
            "predicted=2112.888815, expected=2098.699951\n",
            "predicted=2069.176440, expected=2037.800049\n",
            "predicted=1976.849185, expected=2037.800049\n",
            "predicted=2037.802365, expected=2037.800049\n",
            "predicted=2037.802363, expected=2026.800049\n",
            "predicted=2015.792763, expected=2052.550049\n",
            "predicted=2078.324809, expected=2060.899902\n",
            "predicted=2069.259337, expected=2079.050049\n",
            "predicted=2097.218299, expected=2063.300049\n",
            "predicted=2047.538658, expected=2063.300049\n",
            "predicted=2063.302351, expected=2063.300049\n",
            "predicted=2063.302349, expected=2033.199951\n",
            "predicted=2003.076045, expected=2068.250000\n",
            "predicted=2103.332718, expected=2095.000000\n",
            "predicted=2121.775455, expected=2111.050049\n",
            "predicted=2127.116275, expected=2111.050049\n",
            "predicted=2111.052339, expected=2111.050049\n",
            "predicted=2111.052337, expected=2111.050049\n",
            "predicted=2111.052335, expected=2115.899902\n",
            "predicted=2120.756220, expected=2139.350098\n",
            "predicted=2162.822775, expected=2160.800049\n",
            "predicted=2182.270740, expected=2139.649902\n",
            "predicted=2118.483848, expected=2138.399902\n",
            "predicted=2137.151105, expected=2138.399902\n",
            "predicted=2138.402177, expected=2138.399902\n",
            "predicted=2138.402175, expected=2138.199951\n",
            "predicted=2138.002099, expected=2158.149902\n",
            "predicted=2178.119202, expected=2152.550049\n",
            "predicted=2146.947673, expected=2150.550049\n",
            "predicted=2148.550605, expected=2177.800049\n",
            "predicted=2205.075583, expected=2177.800049\n",
            "predicted=2177.802310, expected=2177.800049\n",
            "predicted=2177.802308, expected=2173.100098\n",
            "predicted=2168.398401, expected=2163.149902\n",
            "predicted=2153.193493, expected=2179.350098\n",
            "predicted=2195.566323, expected=2143.850098\n",
            "predicted=2108.322188, expected=2166.750000\n",
            "predicted=2189.671591, expected=2166.750000\n",
            "predicted=2166.752248, expected=2166.750000\n",
            "predicted=2166.752245, expected=2176.699951\n",
            "predicted=2186.660571, expected=2164.350098\n"
          ],
          "name": "stdout"
        }
      ]
    },
    {
      "cell_type": "code",
      "metadata": {
        "id": "1INGyfFhF_9P",
        "colab": {
          "base_uri": "https://localhost:8080/"
        },
        "outputId": "566fd907-f2ac-4f67-8cc6-764369d09de9"
      },
      "source": [
        "error = mean_squared_error(test, predictions)\n",
        "rmse = math.sqrt(error)\n",
        "print('Test RMSE: %.3f' % rmse)\n",
        "# plot"
      ],
      "execution_count": null,
      "outputs": [
        {
          "output_type": "stream",
          "text": [
            "Test RMSE: 212.203\n"
          ],
          "name": "stdout"
        }
      ]
    },
    {
      "cell_type": "code",
      "metadata": {
        "colab": {
          "base_uri": "https://localhost:8080/"
        },
        "id": "CGOXuMc6byuI",
        "outputId": "40fddbcd-c6ab-409f-e99e-4648eae84905"
      },
      "source": [
        "from sklearn.metrics import mean_absolute_error\n",
        "\n",
        "mean_absolute_error(test, predictions) "
      ],
      "execution_count": null,
      "outputs": [
        {
          "output_type": "execute_result",
          "data": {
            "text/plain": [
              "44.917677061728185"
            ]
          },
          "metadata": {
            "tags": []
          },
          "execution_count": 32
        }
      ]
    },
    {
      "cell_type": "code",
      "metadata": {
        "colab": {
          "base_uri": "https://localhost:8080/"
        },
        "id": "thnkuzN0g-zd",
        "outputId": "85c8713f-f605-4687-a38d-96154279838b"
      },
      "source": [
        "mape = np.mean(np.abs((test - predictions)/test))*100\n",
        "mape"
      ],
      "execution_count": null,
      "outputs": [
        {
          "output_type": "execute_result",
          "data": {
            "text/plain": [
              "2.049758196357091"
            ]
          },
          "metadata": {
            "tags": []
          },
          "execution_count": 33
        }
      ]
    },
    {
      "cell_type": "code",
      "metadata": {
        "id": "1ON5A1GNMZYl",
        "colab": {
          "base_uri": "https://localhost:8080/"
        },
        "outputId": "614832d1-c0e9-41dd-e418-16cf2f61b68a"
      },
      "source": [
        "plt.figure(figsize=(15,10))\n",
        "\n",
        "pyplot.plot(test, color = 'green')\n",
        "pyplot.plot(predictions, color='orange')\n",
        "pyplot.legend(['Test Data','Prediction Data'])\n",
        "pyplot.show()"
      ],
      "execution_count": null,
      "outputs": [
        {
          "output_type": "display_data",
          "data": {
            "image/png": "[encoded data removed]",
            "text/plain": [
              "<Figure size 1080x720 with 1 Axes>"
            ]
          },
          "metadata": {
            "tags": [],
            "needs_background": "light"
          }
        }
      ]
    },
    {
      "cell_type": "markdown",
      "metadata": {
        "id": "-YOas-L6voAh"
      },
      "source": [
        "## NEW ARIMA\n"
      ]
    },
    {
      "cell_type": "code",
      "metadata": {
        "id": "xOTo7-RRvoAi"
      },
      "source": [
        "import numpy as np\n",
        "import pandas as pd\n",
        "from matplotlib import pyplot as plt\n",
        "from statsmodels.tsa.stattools import adfuller\n",
        "from statsmodels.tsa.seasonal import seasonal_decompose\n",
        "from statsmodels.tsa.arima_model import ARIMA\n",
        "from pandas.plotting import register_matplotlib_converters\n",
        "register_matplotlib_converters()"
      ],
      "execution_count": null,
      "outputs": []
    },
    {
      "cell_type": "code",
      "metadata": {
        "id": "GYSN3phRG5jD"
      },
      "source": [
        ""
      ],
      "execution_count": null,
      "outputs": []
    }
  ]
}