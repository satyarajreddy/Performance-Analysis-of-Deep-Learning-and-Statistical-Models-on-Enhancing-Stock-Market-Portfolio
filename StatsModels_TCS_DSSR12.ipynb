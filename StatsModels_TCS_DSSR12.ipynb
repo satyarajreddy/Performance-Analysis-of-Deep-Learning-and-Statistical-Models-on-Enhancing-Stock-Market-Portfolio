{
  "nbformat": 4,
  "nbformat_minor": 0,
  "metadata": {
    "colab": {
      "name": "StatsModels_TCS.ipynb",
      "provenance": [],
      "collapsed_sections": [
        "xXHztsAbvn9l",
        "-YOas-L6voAh"
      ],
      "toc_visible": true
    },
    "kernelspec": {
      "display_name": "Python 3",
      "language": "python",
      "name": "python3"
    },
    "language_info": {
      "codemirror_mode": {
        "name": "ipython",
        "version": 3
      },
      "file_extension": ".py",
      "mimetype": "text/x-python",
      "name": "python",
      "nbconvert_exporter": "python",
      "pygments_lexer": "ipython3",
      "version": "3.5.5"
    }
  },
  "cells": [
    {
      "cell_type": "code",
      "metadata": {
        "id": "stNR4rsXvn86"
      },
      "source": [
        "#Importing all the Libraries needed\n",
        "import pandas as pd\n",
        "import matplotlib.pyplot as plt\n",
        "from statsmodels.tsa.seasonal import seasonal_decompose\n",
        "from statsmodels.tsa.arima_model import ARMA,ARIMA,ARMAResults,ARIMAResults\n",
        "import numpy as np\n",
        "\n",
        "import warnings\n",
        "warnings.filterwarnings('ignore')"
      ],
      "execution_count": null,
      "outputs": []
    },
    {
      "cell_type": "code",
      "metadata": {
        "colab": {
          "resources": {
            "http://localhost:8080/nbextensions/google.colab/files.js": {
              "data": "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",
              "ok": true,
              "headers": [
                [
                  "content-type",
                  "application/javascript"
                ]
              ],
              "status": 200,
              "status_text": ""
            }
          },
          "base_uri": "https://localhost:8080/",
          "height": 70
        },
        "id": "5aiTNienvn9M",
        "outputId": "d05334f3-e2a3-4789-df9b-0b8da833f147"
      },
      "source": [
        "from google.colab import files\n",
        "uploaded = files.upload()\n",
        "import pandas as pd\n",
        "import io\n",
        "\n",
        "fb=pd.read_csv('TCS.NS.csv',parse_dates=True,index_col='Date')\n",
        "fb=fb.drop(columns=['Adj Close','Open','Low','High','Volume'])"
      ],
      "execution_count": null,
      "outputs": [
        {
          "output_type": "display_data",
          "data": {
            "text/html": [
              "\n",
              "     <input type=\"file\" id=\"files-20d5af92-9e46-44c3-98b1-77bd2219b3f0\" name=\"files[]\" multiple disabled\n",
              "        style=\"border:none\" />\n",
              "     <output id=\"result-20d5af92-9e46-44c3-98b1-77bd2219b3f0\">\n",
              "      Upload widget is only available when the cell has been executed in the\n",
              "      current browser session. Please rerun this cell to enable.\n",
              "      </output>\n",
              "      <script src=\"/nbextensions/google.colab/files.js\"></script> "
            ],
            "text/plain": [
              "<IPython.core.display.HTML object>"
            ]
          },
          "metadata": {
            "tags": []
          }
        },
        {
          "output_type": "stream",
          "text": [
            "Saving TCS.NS.csv to TCS.NS (1).csv\n"
          ],
          "name": "stdout"
        }
      ]
    },
    {
      "cell_type": "code",
      "metadata": {
        "colab": {
          "base_uri": "https://localhost:8080/",
          "height": 420
        },
        "id": "0IaUMh4ivn9T",
        "outputId": "6f99c293-db88-4f61-824a-ac99fe70e29e"
      },
      "source": [
        "fin =fb\n",
        "fin"
      ],
      "execution_count": null,
      "outputs": [
        {
          "output_type": "execute_result",
          "data": {
            "text/html": [
              "<div>\n",
              "<style scoped>\n",
              "    .dataframe tbody tr th:only-of-type {\n",
              "        vertical-align: middle;\n",
              "    }\n",
              "\n",
              "    .dataframe tbody tr th {\n",
              "        vertical-align: top;\n",
              "    }\n",
              "\n",
              "    .dataframe thead th {\n",
              "        text-align: right;\n",
              "    }\n",
              "</style>\n",
              "<table border=\"1\" class=\"dataframe\">\n",
              "  <thead>\n",
              "    <tr style=\"text-align: right;\">\n",
              "      <th></th>\n",
              "      <th>Close</th>\n",
              "    </tr>\n",
              "    <tr>\n",
              "      <th>Date</th>\n",
              "      <th></th>\n",
              "    </tr>\n",
              "  </thead>\n",
              "  <tbody>\n",
              "    <tr>\n",
              "      <th>2008-01-01</th>\n",
              "      <td>263.638000</td>\n",
              "    </tr>\n",
              "    <tr>\n",
              "      <th>2008-01-02</th>\n",
              "      <td>262.500000</td>\n",
              "    </tr>\n",
              "    <tr>\n",
              "      <th>2008-01-03</th>\n",
              "      <td>252.761993</td>\n",
              "    </tr>\n",
              "    <tr>\n",
              "      <th>2008-01-04</th>\n",
              "      <td>251.300003</td>\n",
              "    </tr>\n",
              "    <tr>\n",
              "      <th>2008-01-07</th>\n",
              "      <td>243.899994</td>\n",
              "    </tr>\n",
              "    <tr>\n",
              "      <th>...</th>\n",
              "      <td>...</td>\n",
              "    </tr>\n",
              "    <tr>\n",
              "      <th>2020-10-26</th>\n",
              "      <td>2688.199951</td>\n",
              "    </tr>\n",
              "    <tr>\n",
              "      <th>2020-10-27</th>\n",
              "      <td>2630.149902</td>\n",
              "    </tr>\n",
              "    <tr>\n",
              "      <th>2020-10-28</th>\n",
              "      <td>2622.199951</td>\n",
              "    </tr>\n",
              "    <tr>\n",
              "      <th>2020-10-29</th>\n",
              "      <td>2632.649902</td>\n",
              "    </tr>\n",
              "    <tr>\n",
              "      <th>2020-10-30</th>\n",
              "      <td>2664.850098</td>\n",
              "    </tr>\n",
              "  </tbody>\n",
              "</table>\n",
              "<p>3167 rows × 1 columns</p>\n",
              "</div>"
            ],
            "text/plain": [
              "                  Close\n",
              "Date                   \n",
              "2008-01-01   263.638000\n",
              "2008-01-02   262.500000\n",
              "2008-01-03   252.761993\n",
              "2008-01-04   251.300003\n",
              "2008-01-07   243.899994\n",
              "...                 ...\n",
              "2020-10-26  2688.199951\n",
              "2020-10-27  2630.149902\n",
              "2020-10-28  2622.199951\n",
              "2020-10-29  2632.649902\n",
              "2020-10-30  2664.850098\n",
              "\n",
              "[3167 rows x 1 columns]"
            ]
          },
          "metadata": {
            "tags": []
          },
          "execution_count": 37
        }
      ]
    },
    {
      "cell_type": "code",
      "metadata": {
        "colab": {
          "base_uri": "https://localhost:8080/",
          "height": 420
        },
        "id": "d4KrIETdvn9b",
        "outputId": "03aed47a-5906-460f-e111-c17fa46f5a22"
      },
      "source": [
        "fb=fb.asfreq(freq='D',method='bfill')\n",
        "fin = fin.asfreq(freq='D',method='bfill')\n",
        "fin"
      ],
      "execution_count": null,
      "outputs": [
        {
          "output_type": "execute_result",
          "data": {
            "text/html": [
              "<div>\n",
              "<style scoped>\n",
              "    .dataframe tbody tr th:only-of-type {\n",
              "        vertical-align: middle;\n",
              "    }\n",
              "\n",
              "    .dataframe tbody tr th {\n",
              "        vertical-align: top;\n",
              "    }\n",
              "\n",
              "    .dataframe thead th {\n",
              "        text-align: right;\n",
              "    }\n",
              "</style>\n",
              "<table border=\"1\" class=\"dataframe\">\n",
              "  <thead>\n",
              "    <tr style=\"text-align: right;\">\n",
              "      <th></th>\n",
              "      <th>Close</th>\n",
              "    </tr>\n",
              "    <tr>\n",
              "      <th>Date</th>\n",
              "      <th></th>\n",
              "    </tr>\n",
              "  </thead>\n",
              "  <tbody>\n",
              "    <tr>\n",
              "      <th>2008-01-01</th>\n",
              "      <td>263.638000</td>\n",
              "    </tr>\n",
              "    <tr>\n",
              "      <th>2008-01-02</th>\n",
              "      <td>262.500000</td>\n",
              "    </tr>\n",
              "    <tr>\n",
              "      <th>2008-01-03</th>\n",
              "      <td>252.761993</td>\n",
              "    </tr>\n",
              "    <tr>\n",
              "      <th>2008-01-04</th>\n",
              "      <td>251.300003</td>\n",
              "    </tr>\n",
              "    <tr>\n",
              "      <th>2008-01-05</th>\n",
              "      <td>243.899994</td>\n",
              "    </tr>\n",
              "    <tr>\n",
              "      <th>...</th>\n",
              "      <td>...</td>\n",
              "    </tr>\n",
              "    <tr>\n",
              "      <th>2020-10-26</th>\n",
              "      <td>2688.199951</td>\n",
              "    </tr>\n",
              "    <tr>\n",
              "      <th>2020-10-27</th>\n",
              "      <td>2630.149902</td>\n",
              "    </tr>\n",
              "    <tr>\n",
              "      <th>2020-10-28</th>\n",
              "      <td>2622.199951</td>\n",
              "    </tr>\n",
              "    <tr>\n",
              "      <th>2020-10-29</th>\n",
              "      <td>2632.649902</td>\n",
              "    </tr>\n",
              "    <tr>\n",
              "      <th>2020-10-30</th>\n",
              "      <td>2664.850098</td>\n",
              "    </tr>\n",
              "  </tbody>\n",
              "</table>\n",
              "<p>4687 rows × 1 columns</p>\n",
              "</div>"
            ],
            "text/plain": [
              "                  Close\n",
              "Date                   \n",
              "2008-01-01   263.638000\n",
              "2008-01-02   262.500000\n",
              "2008-01-03   252.761993\n",
              "2008-01-04   251.300003\n",
              "2008-01-05   243.899994\n",
              "...                 ...\n",
              "2020-10-26  2688.199951\n",
              "2020-10-27  2630.149902\n",
              "2020-10-28  2622.199951\n",
              "2020-10-29  2632.649902\n",
              "2020-10-30  2664.850098\n",
              "\n",
              "[4687 rows x 1 columns]"
            ]
          },
          "metadata": {
            "tags": []
          },
          "execution_count": 38
        }
      ]
    },
    {
      "cell_type": "code",
      "metadata": {
        "colab": {
          "base_uri": "https://localhost:8080/",
          "height": 420
        },
        "id": "noQF6IEWvn9g",
        "outputId": "b18a3afb-92f7-4ed9-b3a5-c6193d00c970"
      },
      "source": [
        "fb"
      ],
      "execution_count": null,
      "outputs": [
        {
          "output_type": "execute_result",
          "data": {
            "text/html": [
              "<div>\n",
              "<style scoped>\n",
              "    .dataframe tbody tr th:only-of-type {\n",
              "        vertical-align: middle;\n",
              "    }\n",
              "\n",
              "    .dataframe tbody tr th {\n",
              "        vertical-align: top;\n",
              "    }\n",
              "\n",
              "    .dataframe thead th {\n",
              "        text-align: right;\n",
              "    }\n",
              "</style>\n",
              "<table border=\"1\" class=\"dataframe\">\n",
              "  <thead>\n",
              "    <tr style=\"text-align: right;\">\n",
              "      <th></th>\n",
              "      <th>Close</th>\n",
              "    </tr>\n",
              "    <tr>\n",
              "      <th>Date</th>\n",
              "      <th></th>\n",
              "    </tr>\n",
              "  </thead>\n",
              "  <tbody>\n",
              "    <tr>\n",
              "      <th>2008-01-01</th>\n",
              "      <td>263.638000</td>\n",
              "    </tr>\n",
              "    <tr>\n",
              "      <th>2008-01-02</th>\n",
              "      <td>262.500000</td>\n",
              "    </tr>\n",
              "    <tr>\n",
              "      <th>2008-01-03</th>\n",
              "      <td>252.761993</td>\n",
              "    </tr>\n",
              "    <tr>\n",
              "      <th>2008-01-04</th>\n",
              "      <td>251.300003</td>\n",
              "    </tr>\n",
              "    <tr>\n",
              "      <th>2008-01-05</th>\n",
              "      <td>243.899994</td>\n",
              "    </tr>\n",
              "    <tr>\n",
              "      <th>...</th>\n",
              "      <td>...</td>\n",
              "    </tr>\n",
              "    <tr>\n",
              "      <th>2020-10-26</th>\n",
              "      <td>2688.199951</td>\n",
              "    </tr>\n",
              "    <tr>\n",
              "      <th>2020-10-27</th>\n",
              "      <td>2630.149902</td>\n",
              "    </tr>\n",
              "    <tr>\n",
              "      <th>2020-10-28</th>\n",
              "      <td>2622.199951</td>\n",
              "    </tr>\n",
              "    <tr>\n",
              "      <th>2020-10-29</th>\n",
              "      <td>2632.649902</td>\n",
              "    </tr>\n",
              "    <tr>\n",
              "      <th>2020-10-30</th>\n",
              "      <td>2664.850098</td>\n",
              "    </tr>\n",
              "  </tbody>\n",
              "</table>\n",
              "<p>4687 rows × 1 columns</p>\n",
              "</div>"
            ],
            "text/plain": [
              "                  Close\n",
              "Date                   \n",
              "2008-01-01   263.638000\n",
              "2008-01-02   262.500000\n",
              "2008-01-03   252.761993\n",
              "2008-01-04   251.300003\n",
              "2008-01-05   243.899994\n",
              "...                 ...\n",
              "2020-10-26  2688.199951\n",
              "2020-10-27  2630.149902\n",
              "2020-10-28  2622.199951\n",
              "2020-10-29  2632.649902\n",
              "2020-10-30  2664.850098\n",
              "\n",
              "[4687 rows x 1 columns]"
            ]
          },
          "metadata": {
            "tags": []
          },
          "execution_count": 39
        }
      ]
    },
    {
      "cell_type": "markdown",
      "metadata": {
        "id": "xXHztsAbvn9l"
      },
      "source": [
        "\n",
        "#Forecasting Procedure:\n",
        "   \n",
        "   1.)Choose a Model\n",
        "   2.)Split the Data into Training and Test Data\n",
        "   3.)Fit the Model on Training Data\n",
        "   4.)Evaluate the Model on Test Data\n",
        "   5.)Re-Fit the Model on Entire Data\n",
        "   6.)Forecast for Future Data\n",
        "   \n",
        "   "
      ]
    },
    {
      "cell_type": "code",
      "metadata": {
        "colab": {
          "base_uri": "https://localhost:8080/"
        },
        "id": "lZtupxLkvn9m",
        "scrolled": true,
        "outputId": "e01d5b0a-c9aa-4739-b6a6-4f186c3a7db2"
      },
      "source": [
        "fb['Close'].plot()"
      ],
      "execution_count": null,
      "outputs": [
        {
          "output_type": "execute_result",
          "data": {
            "text/plain": [
              "<matplotlib.axes._subplots.AxesSubplot at 0x7f2c692f2748>"
            ]
          },
          "metadata": {
            "tags": []
          },
          "execution_count": 40
        },
        {
          "output_type": "display_data",
          "data": {
            "image/png": "[encoded data removed]",
            "text/plain": [
              "<Figure size 432x288 with 1 Axes>"
            ]
          },
          "metadata": {
            "tags": [],
            "needs_background": "light"
          }
        }
      ]
    },
    {
      "cell_type": "code",
      "metadata": {
        "id": "VQ_gs6R2DlvQ"
      },
      "source": [
        "fb=fb.fillna(method='ffill')\n",
        "fin = fin.fillna(method='ffill')"
      ],
      "execution_count": null,
      "outputs": []
    },
    {
      "cell_type": "code",
      "metadata": {
        "colab": {
          "base_uri": "https://localhost:8080/"
        },
        "id": "D3xQNDt2EsAs",
        "outputId": "6029ed52-5406-44d8-deff-3592026f32ad"
      },
      "source": [
        "fb.isnull().values.any()\n",
        "fin.isnull().values.any()"
      ],
      "execution_count": null,
      "outputs": [
        {
          "output_type": "execute_result",
          "data": {
            "text/plain": [
              "False"
            ]
          },
          "metadata": {
            "tags": []
          },
          "execution_count": 42
        }
      ]
    },
    {
      "cell_type": "code",
      "metadata": {
        "id": "_kdWiCSIvn9u"
      },
      "source": [
        "breakup=seasonal_decompose(fb['Close'],model='additive')"
      ],
      "execution_count": null,
      "outputs": []
    },
    {
      "cell_type": "code",
      "metadata": {
        "colab": {
          "base_uri": "https://localhost:8080/"
        },
        "id": "oEqbzy0Kvn9z",
        "outputId": "a0de8cfd-c4e4-4b49-dd64-3bf979fe78dc"
      },
      "source": [
        "breakup.plot();"
      ],
      "execution_count": null,
      "outputs": [
        {
          "output_type": "display_data",
          "data": {
            "image/png": "[encoded data removed]",
            "text/plain": [
              "<Figure size 432x288 with 4 Axes>"
            ]
          },
          "metadata": {
            "tags": [],
            "needs_background": "light"
          }
        }
      ]
    },
    {
      "cell_type": "code",
      "metadata": {
        "colab": {
          "base_uri": "https://localhost:8080/"
        },
        "id": "RUXZFqczE4HW",
        "outputId": "20e51a9a-57c3-443c-b6e2-e9c185d428f0"
      },
      "source": [
        "len(fb)"
      ],
      "execution_count": null,
      "outputs": [
        {
          "output_type": "execute_result",
          "data": {
            "text/plain": [
              "4687"
            ]
          },
          "metadata": {
            "tags": []
          },
          "execution_count": 45
        }
      ]
    },
    {
      "cell_type": "code",
      "metadata": {
        "id": "8_6yaHa1vn-C"
      },
      "source": [
        "train_fb=fb.iloc[:-468]\n",
        "test_fb=fb.iloc[-468:]"
      ],
      "execution_count": null,
      "outputs": []
    },
    {
      "cell_type": "code",
      "metadata": {
        "colab": {
          "base_uri": "https://localhost:8080/"
        },
        "id": "qvlENRu2vn-L",
        "outputId": "4eeac5c3-817e-486b-e912-c7bc34e487fb"
      },
      "source": [
        "train_fb.tail()"
      ],
      "execution_count": null,
      "outputs": [
        {
          "output_type": "execute_result",
          "data": {
            "text/html": [
              "<div>\n",
              "<style scoped>\n",
              "    .dataframe tbody tr th:only-of-type {\n",
              "        vertical-align: middle;\n",
              "    }\n",
              "\n",
              "    .dataframe tbody tr th {\n",
              "        vertical-align: top;\n",
              "    }\n",
              "\n",
              "    .dataframe thead th {\n",
              "        text-align: right;\n",
              "    }\n",
              "</style>\n",
              "<table border=\"1\" class=\"dataframe\">\n",
              "  <thead>\n",
              "    <tr style=\"text-align: right;\">\n",
              "      <th></th>\n",
              "      <th>Close</th>\n",
              "    </tr>\n",
              "    <tr>\n",
              "      <th>Date</th>\n",
              "      <th></th>\n",
              "    </tr>\n",
              "  </thead>\n",
              "  <tbody>\n",
              "    <tr>\n",
              "      <th>2019-07-16</th>\n",
              "      <td>2106.000000</td>\n",
              "    </tr>\n",
              "    <tr>\n",
              "      <th>2019-07-17</th>\n",
              "      <td>2117.250000</td>\n",
              "    </tr>\n",
              "    <tr>\n",
              "      <th>2019-07-18</th>\n",
              "      <td>2065.949951</td>\n",
              "    </tr>\n",
              "    <tr>\n",
              "      <th>2019-07-19</th>\n",
              "      <td>2076.949951</td>\n",
              "    </tr>\n",
              "    <tr>\n",
              "      <th>2019-07-20</th>\n",
              "      <td>2109.899902</td>\n",
              "    </tr>\n",
              "  </tbody>\n",
              "</table>\n",
              "</div>"
            ],
            "text/plain": [
              "                  Close\n",
              "Date                   \n",
              "2019-07-16  2106.000000\n",
              "2019-07-17  2117.250000\n",
              "2019-07-18  2065.949951\n",
              "2019-07-19  2076.949951\n",
              "2019-07-20  2109.899902"
            ]
          },
          "metadata": {
            "tags": []
          },
          "execution_count": 47
        }
      ]
    },
    {
      "cell_type": "code",
      "metadata": {
        "colab": {
          "base_uri": "https://localhost:8080/"
        },
        "id": "5P7g4wpgvn-U",
        "outputId": "e8c32c29-5908-430d-e4f6-7dd1b68a62e9"
      },
      "source": [
        "test_fb.head()"
      ],
      "execution_count": null,
      "outputs": [
        {
          "output_type": "execute_result",
          "data": {
            "text/html": [
              "<div>\n",
              "<style scoped>\n",
              "    .dataframe tbody tr th:only-of-type {\n",
              "        vertical-align: middle;\n",
              "    }\n",
              "\n",
              "    .dataframe tbody tr th {\n",
              "        vertical-align: top;\n",
              "    }\n",
              "\n",
              "    .dataframe thead th {\n",
              "        text-align: right;\n",
              "    }\n",
              "</style>\n",
              "<table border=\"1\" class=\"dataframe\">\n",
              "  <thead>\n",
              "    <tr style=\"text-align: right;\">\n",
              "      <th></th>\n",
              "      <th>Close</th>\n",
              "    </tr>\n",
              "    <tr>\n",
              "      <th>Date</th>\n",
              "      <th></th>\n",
              "    </tr>\n",
              "  </thead>\n",
              "  <tbody>\n",
              "    <tr>\n",
              "      <th>2019-07-21</th>\n",
              "      <td>2109.899902</td>\n",
              "    </tr>\n",
              "    <tr>\n",
              "      <th>2019-07-22</th>\n",
              "      <td>2109.899902</td>\n",
              "    </tr>\n",
              "    <tr>\n",
              "      <th>2019-07-23</th>\n",
              "      <td>2112.449951</td>\n",
              "    </tr>\n",
              "    <tr>\n",
              "      <th>2019-07-24</th>\n",
              "      <td>2096.800049</td>\n",
              "    </tr>\n",
              "    <tr>\n",
              "      <th>2019-07-25</th>\n",
              "      <td>2127.899902</td>\n",
              "    </tr>\n",
              "  </tbody>\n",
              "</table>\n",
              "</div>"
            ],
            "text/plain": [
              "                  Close\n",
              "Date                   \n",
              "2019-07-21  2109.899902\n",
              "2019-07-22  2109.899902\n",
              "2019-07-23  2112.449951\n",
              "2019-07-24  2096.800049\n",
              "2019-07-25  2127.899902"
            ]
          },
          "metadata": {
            "tags": []
          },
          "execution_count": 48
        }
      ]
    },
    {
      "cell_type": "markdown",
      "metadata": {
        "id": "_sFZPNFDvn-Z"
      },
      "source": [
        "# Exponential Smoothing\n"
      ]
    },
    {
      "cell_type": "code",
      "metadata": {
        "id": "7ew9STQcvn-a"
      },
      "source": [
        "from statsmodels.tsa.holtwinters import ExponentialSmoothing"
      ],
      "execution_count": null,
      "outputs": []
    },
    {
      "cell_type": "code",
      "metadata": {
        "id": "Ef9f9vf-vn-g"
      },
      "source": [
        "test_fb_model=ExponentialSmoothing(train_fb['Close'],trend='add',seasonal='mul',seasonal_periods=365).fit()"
      ],
      "execution_count": null,
      "outputs": []
    },
    {
      "cell_type": "code",
      "metadata": {
        "id": "-FxcGeMmvn-l"
      },
      "source": [
        "test_fb_predictions=test_fb_model.forecast(468)"
      ],
      "execution_count": null,
      "outputs": []
    },
    {
      "cell_type": "code",
      "metadata": {
        "colab": {
          "base_uri": "https://localhost:8080/",
          "height": 307
        },
        "id": "m5slKRAFvn-s",
        "outputId": "9800c148-5df7-4cd5-8931-0d40c6ecc6e7"
      },
      "source": [
        "\n",
        "test_fb['Close'].plot(legend=True,label='Test Data')\n",
        "test_fb_predictions.plot(legend=True,label='Prediction')"
      ],
      "execution_count": null,
      "outputs": [
        {
          "output_type": "execute_result",
          "data": {
            "text/plain": [
              "<matplotlib.axes._subplots.AxesSubplot at 0x7f2c6992e080>"
            ]
          },
          "metadata": {
            "tags": []
          },
          "execution_count": 52
        },
        {
          "output_type": "display_data",
          "data": {
            "image/png": "[encoded data removed]",
            "text/plain": [
              "<Figure size 432x288 with 1 Axes>"
            ]
          },
          "metadata": {
            "tags": [],
            "needs_background": "light"
          }
        }
      ]
    },
    {
      "cell_type": "code",
      "metadata": {
        "id": "6IwaR2JBvn-z"
      },
      "source": [
        "from sklearn.metrics import mean_absolute_error,mean_squared_error"
      ],
      "execution_count": null,
      "outputs": []
    },
    {
      "cell_type": "code",
      "metadata": {
        "colab": {
          "base_uri": "https://localhost:8080/"
        },
        "id": "3-H5Lsq7vn-5",
        "outputId": "8dc68735-90a2-4cae-a48c-36615c56cf64"
      },
      "source": [
        "std=fb['Close'].std()\n",
        "rmse=np.sqrt(mean_squared_error(test_fb['Close'],test_fb_predictions))\n",
        "rmse,std"
      ],
      "execution_count": null,
      "outputs": [
        {
          "output_type": "execute_result",
          "data": {
            "text/plain": [
              "(775.387869248748, 639.7263506120339)"
            ]
          },
          "metadata": {
            "tags": []
          },
          "execution_count": 54
        }
      ]
    },
    {
      "cell_type": "code",
      "metadata": {
        "id": "0807WBujvn--"
      },
      "source": [
        "fb_ES_model=ExponentialSmoothing(fb['Close'],trend='add',seasonal='mul',seasonal_periods=90).fit()\n",
        "fb_ES_Predictions=fb_ES_model.forecast(240)\n"
      ],
      "execution_count": null,
      "outputs": []
    },
    {
      "cell_type": "code",
      "metadata": {
        "colab": {
          "base_uri": "https://localhost:8080/"
        },
        "id": "VIm7i3VtcHa6",
        "outputId": "21f09dae-2e16-41c2-e25e-cac6c74061cf"
      },
      "source": [
        "from sklearn.metrics import mean_absolute_error\n",
        "\n",
        "mean_absolute_error(test_fb['Close'], test_fb_predictions) "
      ],
      "execution_count": null,
      "outputs": [
        {
          "output_type": "execute_result",
          "data": {
            "text/plain": [
              "664.9552165383474"
            ]
          },
          "metadata": {
            "tags": []
          },
          "execution_count": 56
        }
      ]
    },
    {
      "cell_type": "code",
      "metadata": {
        "colab": {
          "base_uri": "https://localhost:8080/"
        },
        "id": "woDJocSjgON4",
        "outputId": "d332fb6d-5972-4eb8-c2d8-a306c811da91"
      },
      "source": [
        "mape = np.mean(np.abs((test_fb['Close'] - test_fb_predictions)/test_fb['Close']))*100\n",
        "mape"
      ],
      "execution_count": null,
      "outputs": [
        {
          "output_type": "execute_result",
          "data": {
            "text/plain": [
              "32.175611908300176"
            ]
          },
          "metadata": {
            "tags": []
          },
          "execution_count": 57
        }
      ]
    },
    {
      "cell_type": "code",
      "metadata": {
        "id": "J9ac66eevn_C",
        "colab": {
          "base_uri": "https://localhost:8080/",
          "height": 622
        },
        "outputId": "6d84bc01-77f1-48e6-c48c-f90f1dd7ac1f"
      },
      "source": [
        "fb['Close'].plot(legend=True,label='Real Data',figsize=(15,10))\n",
        "fb_ES_Predictions.plot(legend=True,label='Prediction')"
      ],
      "execution_count": null,
      "outputs": [
        {
          "output_type": "execute_result",
          "data": {
            "text/plain": [
              "<matplotlib.axes._subplots.AxesSubplot at 0x7f2c692de780>"
            ]
          },
          "metadata": {
            "tags": []
          },
          "execution_count": 58
        },
        {
          "output_type": "display_data",
          "data": {
            "image/png": "[encoded data removed]",
            "text/plain": [
              "<Figure size 1080x720 with 1 Axes>"
            ]
          },
          "metadata": {
            "tags": [],
            "needs_background": "light"
          }
        }
      ]
    },
    {
      "cell_type": "markdown",
      "metadata": {
        "id": "W_62Wuzdvn_H"
      },
      "source": [
        "# ARIMA\n"
      ]
    },
    {
      "cell_type": "code",
      "metadata": {
        "id": "x5m8ptvkvn_I"
      },
      "source": [
        "from statsmodels.tsa.stattools import adfuller\n"
      ],
      "execution_count": null,
      "outputs": []
    },
    {
      "cell_type": "code",
      "metadata": {
        "colab": {
          "base_uri": "https://localhost:8080/",
          "height": 420
        },
        "id": "3KXcFXRQHLNB",
        "outputId": "98a0f07c-beca-4548-8c3d-915855e86bdc"
      },
      "source": [
        "fin"
      ],
      "execution_count": null,
      "outputs": [
        {
          "output_type": "execute_result",
          "data": {
            "text/html": [
              "<div>\n",
              "<style scoped>\n",
              "    .dataframe tbody tr th:only-of-type {\n",
              "        vertical-align: middle;\n",
              "    }\n",
              "\n",
              "    .dataframe tbody tr th {\n",
              "        vertical-align: top;\n",
              "    }\n",
              "\n",
              "    .dataframe thead th {\n",
              "        text-align: right;\n",
              "    }\n",
              "</style>\n",
              "<table border=\"1\" class=\"dataframe\">\n",
              "  <thead>\n",
              "    <tr style=\"text-align: right;\">\n",
              "      <th></th>\n",
              "      <th>Close</th>\n",
              "    </tr>\n",
              "    <tr>\n",
              "      <th>Date</th>\n",
              "      <th></th>\n",
              "    </tr>\n",
              "  </thead>\n",
              "  <tbody>\n",
              "    <tr>\n",
              "      <th>2008-01-01</th>\n",
              "      <td>263.638000</td>\n",
              "    </tr>\n",
              "    <tr>\n",
              "      <th>2008-01-02</th>\n",
              "      <td>262.500000</td>\n",
              "    </tr>\n",
              "    <tr>\n",
              "      <th>2008-01-03</th>\n",
              "      <td>252.761993</td>\n",
              "    </tr>\n",
              "    <tr>\n",
              "      <th>2008-01-04</th>\n",
              "      <td>251.300003</td>\n",
              "    </tr>\n",
              "    <tr>\n",
              "      <th>2008-01-05</th>\n",
              "      <td>243.899994</td>\n",
              "    </tr>\n",
              "    <tr>\n",
              "      <th>...</th>\n",
              "      <td>...</td>\n",
              "    </tr>\n",
              "    <tr>\n",
              "      <th>2020-10-26</th>\n",
              "      <td>2688.199951</td>\n",
              "    </tr>\n",
              "    <tr>\n",
              "      <th>2020-10-27</th>\n",
              "      <td>2630.149902</td>\n",
              "    </tr>\n",
              "    <tr>\n",
              "      <th>2020-10-28</th>\n",
              "      <td>2622.199951</td>\n",
              "    </tr>\n",
              "    <tr>\n",
              "      <th>2020-10-29</th>\n",
              "      <td>2632.649902</td>\n",
              "    </tr>\n",
              "    <tr>\n",
              "      <th>2020-10-30</th>\n",
              "      <td>2664.850098</td>\n",
              "    </tr>\n",
              "  </tbody>\n",
              "</table>\n",
              "<p>4687 rows × 1 columns</p>\n",
              "</div>"
            ],
            "text/plain": [
              "                  Close\n",
              "Date                   \n",
              "2008-01-01   263.638000\n",
              "2008-01-02   262.500000\n",
              "2008-01-03   252.761993\n",
              "2008-01-04   251.300003\n",
              "2008-01-05   243.899994\n",
              "...                 ...\n",
              "2020-10-26  2688.199951\n",
              "2020-10-27  2630.149902\n",
              "2020-10-28  2622.199951\n",
              "2020-10-29  2632.649902\n",
              "2020-10-30  2664.850098\n",
              "\n",
              "[4687 rows x 1 columns]"
            ]
          },
          "metadata": {
            "tags": []
          },
          "execution_count": 60
        }
      ]
    },
    {
      "cell_type": "code",
      "metadata": {
        "id": "ufqsJ9kdDjyM",
        "colab": {
          "base_uri": "https://localhost:8080/",
          "height": 282
        },
        "outputId": "ddd3a183-35d6-49ed-83b6-7ca519c55264"
      },
      "source": [
        "from matplotlib import pyplot\n",
        "from pandas.plotting import autocorrelation_plot\n",
        "autocorrelation_plot(fin)\n",
        "pyplot.show()"
      ],
      "execution_count": null,
      "outputs": [
        {
          "output_type": "display_data",
          "data": {
            "image/png": "[encoded data removed]",
            "text/plain": [
              "<Figure size 432x288 with 1 Axes>"
            ]
          },
          "metadata": {
            "tags": [],
            "needs_background": "light"
          }
        }
      ]
    },
    {
      "cell_type": "code",
      "metadata": {
        "id": "fd-zAtIuGPPX",
        "colab": {
          "base_uri": "https://localhost:8080/",
          "height": 1000
        },
        "outputId": "412abc4b-8736-4de1-f98b-e3fa8e56ee77"
      },
      "source": [
        "from pandas import DataFrame\n",
        "model = ARIMA(fin, order=(1,2,1))\n",
        "model_fit = model.fit(disp=0)\n",
        "print(model_fit.summary())\n",
        "# plot residual errors\n",
        "residuals = DataFrame(model_fit.resid)\n",
        "residuals.plot()\n",
        "pyplot.show()\n",
        "residuals.plot(kind='kde')\n",
        "pyplot.show()\n",
        "print(residuals.describe())"
      ],
      "execution_count": null,
      "outputs": [
        {
          "output_type": "stream",
          "text": [
            "                             ARIMA Model Results                              \n",
            "==============================================================================\n",
            "Dep. Variable:               D2.Close   No. Observations:                 4685\n",
            "Model:                 ARIMA(1, 2, 1)   Log Likelihood              -19934.482\n",
            "Method:                       css-mle   S.D. of innovations             17.033\n",
            "Date:                Wed, 02 Dec 2020   AIC                          39876.965\n",
            "Time:                        22:10:40   BIC                          39902.773\n",
            "Sample:                    01-03-2008   HQIC                         39886.040\n",
            "                         - 10-30-2020                                         \n",
            "==================================================================================\n",
            "                     coef    std err          z      P>|z|      [0.025      0.975]\n",
            "----------------------------------------------------------------------------------\n",
            "const              0.0002      0.000      1.265      0.206      -0.000       0.001\n",
            "ar.L1.D2.Close    -0.0344      0.015     -2.354      0.019      -0.063      -0.006\n",
            "ma.L1.D2.Close    -0.9999      0.001  -1665.326      0.000      -1.001      -0.999\n",
            "                                    Roots                                    \n",
            "=============================================================================\n",
            "                  Real          Imaginary           Modulus         Frequency\n",
            "-----------------------------------------------------------------------------\n",
            "AR.1          -29.0877           +0.0000j           29.0877            0.5000\n",
            "MA.1            1.0001           +0.0000j            1.0001            0.0000\n",
            "-----------------------------------------------------------------------------\n"
          ],
          "name": "stdout"
        },
        {
          "output_type": "display_data",
          "data": {
            "image/png": "[encoded data removed]",
            "text/plain": [
              "<Figure size 432x288 with 1 Axes>"
            ]
          },
          "metadata": {
            "tags": [],
            "needs_background": "light"
          }
        },
        {
          "output_type": "display_data",
          "data": {
            "image/png": "[encoded data removed]",
            "text/plain": [
              "<Figure size 432x288 with 1 Axes>"
            ]
          },
          "metadata": {
            "tags": [],
            "needs_background": "light"
          }
        },
        {
          "output_type": "stream",
          "text": [
            "                 0\n",
            "count  4685.000000\n",
            "mean      0.033336\n",
            "std      17.038462\n",
            "min    -184.760122\n",
            "25%      -3.187988\n",
            "50%      -0.447342\n",
            "75%       3.520079\n",
            "max     182.373065\n"
          ],
          "name": "stdout"
        }
      ]
    },
    {
      "cell_type": "code",
      "metadata": {
        "id": "QE8eozCtNRzs",
        "colab": {
          "base_uri": "https://localhost:8080/"
        },
        "outputId": "66c8ccb4-288c-4d1b-b3e8-0b0d2103bf92"
      },
      "source": [
        "pyplot"
      ],
      "execution_count": null,
      "outputs": [
        {
          "output_type": "execute_result",
          "data": {
            "text/plain": [
              "<module 'matplotlib.pyplot' from '/usr/local/lib/python3.6/dist-packages/matplotlib/pyplot.py'>"
            ]
          },
          "metadata": {
            "tags": []
          },
          "execution_count": 63
        }
      ]
    },
    {
      "cell_type": "code",
      "metadata": {
        "id": "4FBk47CQHN9Z",
        "colab": {
          "base_uri": "https://localhost:8080/"
        },
        "outputId": "aae1a4de-dacd-43d9-d4f2-f64ecb4aff32"
      },
      "source": [
        "import math\n",
        "from sklearn.metrics import mean_squared_error\n",
        "X = fin.values\n",
        "size = int(len(X) * 0.66)\n",
        "train, test = X[0:1000], X[4501:4685]\n",
        "history = [x for x in train]\n",
        "predictions = list()\n",
        "for t in range(len(test)):\n",
        "\tmodel = ARIMA(history, order=(0,2,0))\n",
        "\tmodel_fit = model.fit(disp=1)\n",
        "\toutput = model_fit.forecast()\n",
        "\tyhat = output[0]\n",
        "\tpredictions.append(yhat)\n",
        "\tobs = test[t]\n",
        "\thistory.append(obs)\n",
        "\tprint('predicted=%f, expected=%f' % (yhat, obs))\n",
        "\n"
      ],
      "execution_count": null,
      "outputs": [
        {
          "output_type": "stream",
          "text": [
            "predicted=463.801128, expected=1859.050049\n",
            "predicted=3255.697896, expected=1905.650024\n",
            "predicted=1952.297737, expected=2014.449951\n",
            "predicted=2123.359706, expected=1930.449951\n",
            "predicted=1846.367254, expected=1930.449951\n",
            "predicted=1930.451086, expected=1930.449951\n",
            "predicted=1930.451084, expected=1930.449951\n",
            "predicted=1930.451083, expected=1932.750000\n",
            "predicted=1935.053467, expected=1903.599976\n",
            "predicted=1874.422135, expected=1891.650024\n",
            "predicted=1879.689346, expected=1893.400024\n",
            "predicted=1895.152888, expected=1935.300049\n",
            "predicted=1977.242686, expected=1935.300049\n",
            "predicted=1935.301175, expected=1935.300049\n",
            "predicted=1935.301174, expected=1949.500000\n",
            "predicted=1963.715092, expected=1949.650024\n",
            "predicted=1949.801318, expected=1902.349976\n",
            "predicted=1855.004448, expected=1892.900024\n",
            "predicted=1883.441891, expected=1945.599976\n",
            "predicted=1998.352866, expected=1945.599976\n",
            "predicted=1945.601095, expected=1945.599976\n",
            "predicted=1945.601093, expected=1948.650024\n",
            "predicted=1951.704178, expected=1953.599976\n",
            "predicted=1958.555891, expected=1991.199951\n",
            "predicted=2028.837830, expected=2020.349976\n",
            "predicted=2049.529608, expected=1943.000000\n",
            "predicted=1865.575598, expected=1943.000000\n",
            "predicted=1943.001110, expected=1943.000000\n",
            "predicted=1943.001109, expected=1943.000000\n",
            "predicted=1943.001108, expected=2005.300049\n",
            "predicted=2067.661808, expected=2004.300049\n",
            "predicted=2003.300183, expected=1972.349976\n",
            "predicted=1940.369988, expected=2045.250000\n",
            "predicted=2118.221836, expected=2045.250000\n",
            "predicted=2045.251103, expected=2045.250000\n",
            "predicted=2045.251102, expected=2047.150024\n",
            "predicted=2049.052986, expected=2046.150024\n",
            "predicted=2045.150157, expected=2091.550049\n",
            "predicted=2136.994995, expected=2048.250000\n",
            "predicted=2004.909293, expected=2071.750000\n",
            "predicted=2095.273736, expected=2071.750000\n",
            "predicted=2071.751095, expected=2071.750000\n",
            "predicted=2071.751094, expected=2072.050049\n",
            "predicted=2072.351479, expected=2108.750000\n",
            "predicted=2145.486264, expected=2067.649902\n",
            "predicted=2026.511489, expected=2039.500000\n",
            "predicted=2011.324225, expected=2029.900024\n",
            "predicted=2020.291953, expected=2029.900024\n",
            "predicted=2029.901112, expected=2029.900024\n",
            "predicted=2029.901111, expected=2045.800049\n",
            "predicted=2061.716332, expected=2047.800049\n",
            "predicted=2049.803040, expected=2038.099976\n",
            "predicted=2028.391749, expected=2044.599976\n",
            "predicted=2051.107243, expected=2027.949951\n",
            "predicted=2011.285181, expected=2027.949951\n",
            "predicted=2027.951032, expected=2027.949951\n",
            "predicted=2027.951031, expected=2035.300049\n",
            "predicted=2042.658193, expected=2042.199951\n",
            "predicted=2049.107465, expected=2016.099976\n",
            "predicted=1989.976385, expected=2118.850098\n",
            "predicted=2221.698413, expected=2101.649902\n",
            "predicted=2084.434539, expected=2101.649902\n",
            "predicted=2101.650976, expected=2101.649902\n",
            "predicted=2101.650975, expected=2082.149902\n",
            "predicted=2062.632612, expected=2092.050049\n",
            "predicted=2101.960580, expected=2157.149902\n",
            "predicted=2222.312009, expected=2199.649902\n",
            "predicted=2242.190877, expected=2263.199951\n",
            "predicted=2326.810683, expected=2263.199951\n",
            "predicted=2263.201018, expected=2263.199951\n",
            "predicted=2263.201017, expected=2269.899902\n",
            "predicted=2276.607185, expected=2218.899902\n",
            "predicted=2167.853302, expected=2204.350098\n",
            "predicted=2189.787771, expected=2222.350098\n",
            "predicted=2240.367951, expected=2220.000000\n",
            "predicted=2217.648772, expected=2220.000000\n",
            "predicted=2220.001060, expected=2220.000000\n",
            "predicted=2220.001059, expected=2171.949951\n",
            "predicted=2123.856303, expected=2233.899902\n",
            "predicted=2295.908430, expected=2234.750000\n",
            "predicted=2235.601942, expected=2200.750000\n",
            "predicted=2166.719544, expected=2207.899902\n",
            "predicted=2215.057478, expected=2207.899902\n",
            "predicted=2207.900955, expected=2207.899902\n",
            "predicted=2207.900954, expected=2225.050049\n",
            "predicted=2242.217083, expected=2190.949951\n",
            "predicted=2156.819445, expected=2171.199951\n",
            "predicted=2151.432797, expected=2157.399902\n",
            "predicted=2143.588194, expected=2206.800049\n",
            "predicted=2256.246689, expected=2206.800049\n",
            "predicted=2206.801095, expected=2206.800049\n",
            "predicted=2206.801094, expected=2309.750000\n",
            "predicted=2412.795445, expected=2276.050049\n",
            "predicted=2242.320252, expected=2279.500000\n",
            "predicted=2282.954152, expected=2281.399902\n",
            "predicted=2283.302583, expected=2254.149902\n",
            "predicted=2226.876034, expected=2254.149902\n",
            "predicted=2254.150941, expected=2254.149902\n",
            "predicted=2254.150940, expected=2249.699951\n",
            "predicted=2245.246981, expected=2259.500000\n",
            "predicted=2269.310011, expected=2308.100098\n",
            "predicted=2356.745454, expected=2295.350098\n",
            "predicted=2282.589542, expected=2282.800049\n",
            "predicted=2270.239635, expected=2282.800049\n",
            "predicted=2282.801082, expected=2282.800049\n",
            "predicted=2282.801081, expected=2279.899902\n",
            "predicted=2276.998159, expected=2257.350098\n",
            "predicted=2234.780917, expected=2254.449951\n",
            "predicted=2251.548211, expected=2242.149902\n",
            "predicted=2229.839771, expected=2253.399902\n",
            "predicted=2264.661083, expected=2253.399902\n",
            "predicted=2253.400928, expected=2253.399902\n",
            "predicted=2253.400927, expected=2269.750000\n",
            "predicted=2286.115839, expected=2256.600098\n",
            "predicted=2243.439394, expected=2252.850098\n",
            "predicted=2249.097751, expected=2248.600098\n",
            "predicted=2244.347304, expected=2248.100098\n",
            "predicted=2247.600670, expected=2248.100098\n",
            "predicted=2248.101118, expected=2248.100098\n",
            "predicted=2248.101117, expected=2242.649902\n",
            "predicted=2237.195849, expected=2253.500000\n",
            "predicted=2264.360811, expected=2248.399902\n",
            "predicted=2243.296266, expected=2238.550049\n",
            "predicted=2228.692424, expected=2257.250000\n",
            "predicted=2275.967632, expected=2257.250000\n",
            "predicted=2257.251013, expected=2257.250000\n",
            "predicted=2257.251014, expected=2246.350098\n",
            "predicted=2235.441519, expected=2265.149902\n",
            "predicted=2283.967413, expected=2299.500000\n",
            "predicted=2333.881587, expected=2288.800049\n",
            "predicted=2278.091621, expected=2327.050049\n",
            "predicted=2365.334937, expected=2327.050049\n",
            "predicted=2327.051056, expected=2327.050049\n",
            "predicted=2327.051055, expected=2348.199951\n",
            "predicted=2369.369542, expected=2327.649902\n",
            "predicted=2307.082720, expected=2331.149902\n",
            "predicted=2334.653992, expected=2374.100098\n",
            "predicted=2417.089138, expected=2491.399902\n",
            "predicted=2608.803965, expected=2491.399902\n",
            "predicted=2491.400903, expected=2491.399902\n",
            "predicted=2491.400902, expected=2491.399902\n",
            "predicted=2491.400901, expected=2503.000000\n",
            "predicted=2514.611272, expected=2460.949951\n",
            "predicted=2418.864046, expected=2449.899902\n",
            "predicted=2438.841173, expected=2465.300049\n",
            "predicted=2480.714665, expected=2465.300049\n",
            "predicted=2465.301044, expected=2465.300049\n",
            "predicted=2465.301043, expected=2522.949951\n",
            "predicted=2580.651151, expected=2467.449951\n",
            "predicted=2411.902556, expected=2332.250000\n",
            "predicted=2196.933269, expected=2422.300049\n",
            "predicted=2512.429461, expected=2426.300049\n",
            "predicted=2430.304517, expected=2426.300049\n",
            "predicted=2426.301038, expected=2426.300049\n",
            "predicted=2426.301037, expected=2488.399902\n",
            "predicted=2550.554601, expected=2492.300049\n",
            "predicted=2496.204562, expected=2523.449951\n",
            "predicted=2554.627808, expected=2705.800049\n",
            "predicted=2888.308874, expected=2705.800049\n",
            "predicted=2705.801033, expected=2705.800049\n",
            "predicted=2705.801032, expected=2705.800049\n",
            "predicted=2705.801033, expected=2714.300049\n",
            "predicted=2722.808359, expected=2735.949951\n",
            "predicted=2757.619481, expected=2825.699951\n",
            "predicted=2915.528168, expected=2812.949951\n",
            "predicted=2800.189966, expected=2830.000000\n",
            "predicted=2847.065674, expected=2830.000000\n",
            "predicted=2830.000977, expected=2830.000000\n",
            "predicted=2830.000976, expected=2826.550049\n",
            "predicted=2823.098117, expected=2809.600098\n",
            "predicted=2792.636611, expected=2740.600098\n",
            "predicted=2671.542047, expected=2763.300049\n",
            "predicted=2786.020374, expected=2711.550049\n",
            "predicted=2659.756828, expected=2711.550049\n",
            "predicted=2711.551020, expected=2711.550049\n",
            "predicted=2711.551019, expected=2739.000000\n",
            "predicted=2766.474302, expected=2675.399902\n",
            "predicted=2611.746645, expected=2671.149902\n",
            "predicted=2666.897256, expected=2686.800049\n",
            "predicted=2702.464460, expected=2688.199951\n",
            "predicted=2689.602007, expected=2688.199951\n",
            "predicted=2688.200916, expected=2688.199951\n",
            "predicted=2688.200917, expected=2630.149902\n",
            "predicted=2572.051665, expected=2622.199951\n"
          ],
          "name": "stdout"
        }
      ]
    },
    {
      "cell_type": "code",
      "metadata": {
        "id": "1INGyfFhF_9P",
        "colab": {
          "base_uri": "https://localhost:8080/"
        },
        "outputId": "3a2bd5ba-fcf8-4f80-a5e4-952f71c21fee"
      },
      "source": [
        "error = mean_squared_error(test, predictions)\n",
        "rmse = math.sqrt(error)\n",
        "print('Test RMSE: %.3f' % rmse)\n",
        "# plot"
      ],
      "execution_count": null,
      "outputs": [
        {
          "output_type": "stream",
          "text": [
            "Test RMSE: 152.129\n"
          ],
          "name": "stdout"
        }
      ]
    },
    {
      "cell_type": "code",
      "metadata": {
        "id": "mBMKp7F4cThK",
        "colab": {
          "base_uri": "https://localhost:8080/"
        },
        "outputId": "046e2bb4-1ce3-4dfb-ba3d-502a1919b68a"
      },
      "source": [
        "from sklearn.metrics import mean_absolute_error\n",
        "\n",
        "mean_absolute_error(test, predictions) "
      ],
      "execution_count": null,
      "outputs": [
        {
          "output_type": "execute_result",
          "data": {
            "text/plain": [
              "48.526285874337695"
            ]
          },
          "metadata": {
            "tags": []
          },
          "execution_count": 66
        }
      ]
    },
    {
      "cell_type": "code",
      "metadata": {
        "colab": {
          "base_uri": "https://localhost:8080/"
        },
        "id": "7u1VDPtZgDWM",
        "outputId": "197a6ddc-a175-47c5-dedc-31324426fdca"
      },
      "source": [
        "mape = np.mean(np.abs((test - predictions)/test))*100\n",
        "mape"
      ],
      "execution_count": null,
      "outputs": [
        {
          "output_type": "execute_result",
          "data": {
            "text/plain": [
              "2.2779060924231542"
            ]
          },
          "metadata": {
            "tags": []
          },
          "execution_count": 67
        }
      ]
    },
    {
      "cell_type": "code",
      "metadata": {
        "id": "1ON5A1GNMZYl",
        "colab": {
          "base_uri": "https://localhost:8080/",
          "height": 592
        },
        "outputId": "77af4b62-d5ef-412a-f68b-e5b92c323069"
      },
      "source": [
        "plt.figure(figsize=(15,10))\n",
        "\n",
        "pyplot.plot(test, color = 'green')\n",
        "pyplot.plot(predictions, color='orange')\n",
        "pyplot.legend(['Test Data','Prediction Data'])\n",
        "pyplot.show()"
      ],
      "execution_count": null,
      "outputs": [
        {
          "output_type": "display_data",
          "data": {
            "image/png": "[encoded data removed]",
            "text/plain": [
              "<Figure size 1080x720 with 1 Axes>"
            ]
          },
          "metadata": {
            "tags": [],
            "needs_background": "light"
          }
        }
      ]
    },
    {
      "cell_type": "markdown",
      "metadata": {
        "id": "-YOas-L6voAh"
      },
      "source": [
        "## NEW ARIMA\n"
      ]
    },
    {
      "cell_type": "code",
      "metadata": {
        "id": "xOTo7-RRvoAi"
      },
      "source": [
        "import numpy as np\n",
        "import pandas as pd\n",
        "from matplotlib import pyplot as plt\n",
        "from statsmodels.tsa.stattools import adfuller\n",
        "from statsmodels.tsa.seasonal import seasonal_decompose\n",
        "from statsmodels.tsa.arima_model import ARIMA\n",
        "from pandas.plotting import register_matplotlib_converters\n",
        "register_matplotlib_converters()"
      ],
      "execution_count": null,
      "outputs": []
    },
    {
      "cell_type": "code",
      "metadata": {
        "id": "GYSN3phRG5jD"
      },
      "source": [
        ""
      ],
      "execution_count": null,
      "outputs": []
    }
  ]
}