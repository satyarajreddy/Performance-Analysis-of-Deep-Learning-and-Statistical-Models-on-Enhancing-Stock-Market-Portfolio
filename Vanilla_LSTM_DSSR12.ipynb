{
  "nbformat": 4,
  "nbformat_minor": 0,
  "metadata": {
    "kernelspec": {
      "display_name": "Python 3",
      "language": "python",
      "name": "python3"
    },
    "language_info": {
      "codemirror_mode": {
        "name": "ipython",
        "version": 3
      },
      "file_extension": ".py",
      "mimetype": "text/x-python",
      "name": "python",
      "nbconvert_exporter": "python",
      "pygments_lexer": "ipython3",
      "version": "3.5.5"
    },
    "colab": {
      "name": "Vanilla_LSTM_DSSR12",
      "provenance": [],
      "collapsed_sections": [
        "t9zW1E9d3-Yc",
        "PH36iyY_3-Y5",
        "XIiVchiP3-ZI"
      ]
    },
    "accelerator": "GPU"
  },
  "cells": [
    {
      "cell_type": "markdown",
      "metadata": {
        "id": "5bfip0MBavsc"
      },
      "source": [
        "#TCS LSTM"
      ]
    },
    {
      "cell_type": "code",
      "metadata": {
        "id": "C4giUDAC3-Xj",
        "colab": {
          "base_uri": "https://localhost:8080/",
          "height": 1000
        },
        "outputId": "94cf5080-4a2c-45d9-eda2-a6e6d39f0db3"
      },
      "source": [
        "import pandas as pd\n",
        "import matplotlib.pyplot as plt\n",
        "from statsmodels.tsa.seasonal import seasonal_decompose\n",
        "from statsmodels.tsa.arima_model import ARMA,ARIMA,ARMAResults,ARIMAResults\n",
        "from sklearn.preprocessing import MinMaxScaler\n",
        "import numpy as np\n",
        "import warnings\n",
        "warnings.filterwarnings('ignore')\n",
        "\n",
        "from sklearn.ensemble import AdaBoostClassifier\n",
        "\n",
        "from keras.preprocessing.sequence import TimeseriesGenerator\n",
        "\n",
        "fb=pd.read_csv('TCS.NS.csv',parse_dates=True,index_col='Date')\n",
        "fb.drop(columns=['Open','High','Low','Adj Close','Volume'],inplace=True)\n",
        "\n",
        "fb = fb.fillna(method=\"bfill\")\n",
        "\n",
        "train_fb=fb[:2112]\n",
        "test_fb=fb[2112:]\n",
        "\n",
        "dataset = fb\n",
        "# normalize the dataset\n",
        "scaler = MinMaxScaler(feature_range=(0, 1))\n",
        "dataset = scaler.fit_transform(dataset)\n",
        "# split into train and test sets\n",
        "train_size = int(len(dataset) * 0.667)\n",
        "test_size = len(dataset) - train_size\n",
        "train, test = dataset[0:train_size,:], dataset[train_size:len(dataset),:]\n",
        "\n",
        "\n",
        "n_inputs=3\n",
        "train_data_gen = TimeseriesGenerator(train, train,\n",
        "                               length=n_inputs, sampling_rate=1,stride=1,\n",
        "                               batch_size=1)\n",
        "\n",
        "test_data_gen = TimeseriesGenerator(test, test,\n",
        "                               length=n_inputs, sampling_rate=1,stride=1,\n",
        "                               batch_size=1)\n",
        "\n",
        "from keras.models import Sequential, Model\n",
        "from keras.layers import Dense\n",
        "from keras.layers import LSTM\n",
        "\n",
        "lstm_model = Sequential()\n",
        "lstm_model.add(LSTM(1000, activation='relu', input_shape=(n_inputs, 1)))\n",
        "lstm_model.add(Dense(1))\n",
        "lstm_model.compile(loss='mean_squared_error', optimizer='adam')\n",
        "\n",
        "lstm_model.fit_generator(train_data_gen, steps_per_epoch=1, epochs=50)\n",
        "\n",
        "\n",
        "trainPredict = lstm_model.predict(train_data_gen)\n",
        "\n",
        "testPredict = lstm_model.predict(test_data_gen)\n",
        "\n",
        "trainPredict = scaler.inverse_transform(trainPredict)\n",
        "testPredict = scaler.inverse_transform(testPredict)\n",
        "\n",
        "print(\"Prediction on Train Set \")\n",
        "print(trainPredict)\n",
        "\n",
        "\n",
        "# train_values=[]\n",
        "# for i in range(len(trainPredict)):\n",
        "#     train_values.append(trainPredict.astype(float)[i][0])\n",
        "    \n",
        "# test_values=[]\n",
        "# for i in range(len(testPredict)):\n",
        "#     test_values.append(testPredict.astype(float)[i][0])    \n",
        "\n",
        "x = testPredict[-1]\n",
        "for i in range(3):\n",
        "  testPredict = np.append(testPredict, x)\n",
        "\n",
        "x = trainPredict[-1]\n",
        "for i in range(3):\n",
        "  trainPredict = np.append(trainPredict, x)\n",
        "\n",
        "\n",
        "print(len(trainPredict))\n",
        "\n",
        "train_fb['pred']=trainPredict\n",
        "test_fb['pred']=testPredict\n",
        "\n",
        "test_fb['Close'].plot(legend=True)\n",
        "test_fb['pred'].plot(legend=True,label='Test Prediction')\n",
        "\n",
        "\n",
        "from statsmodels.tools.eval_measures import rmse\n",
        "\n",
        "print(\"RMSE VALUE: \")\n",
        "rmse(train_fb['pred'],train_fb['Close'])  \n",
        "\n",
        "\n",
        "from sklearn.metrics import mean_absolute_error as mae\n",
        "\n",
        "def mape(Y_actual,Y_Predicted):\n",
        "    mape = np.mean(np.abs((Y_actual - Y_Predicted)/Y_actual))*100\n",
        "    return mape\n",
        "\n",
        "print(\"Mean Absolute Error: \" + str(mae(train_fb['Close'], train_fb['pred'])))\n",
        "print(\"Mean Absolute Percentage Error: \" + str(mape(train_fb['Close'], train_fb['pred'])))\n",
        "\n",
        "\n",
        "\n"
      ],
      "execution_count": 5,
      "outputs": [
        {
          "output_type": "stream",
          "text": [
            "WARNING:tensorflow:Layer lstm_2 will not use cuDNN kernel since it doesn't meet the cuDNN kernel criteria. It will use generic GPU kernel as fallback when running on GPU\n",
            "Epoch 1/50\n",
            "1/1 [==============================] - 0s 2ms/step - loss: 0.0260\n",
            "Epoch 2/50\n",
            "1/1 [==============================] - 0s 4ms/step - loss: 0.1592\n",
            "Epoch 3/50\n",
            "1/1 [==============================] - 0s 2ms/step - loss: 0.0263\n",
            "Epoch 4/50\n",
            "1/1 [==============================] - 0s 2ms/step - loss: 0.0851\n",
            "Epoch 5/50\n",
            "1/1 [==============================] - 0s 2ms/step - loss: 0.0012\n",
            "Epoch 6/50\n",
            "1/1 [==============================] - 0s 3ms/step - loss: 0.0222\n",
            "Epoch 7/50\n",
            "1/1 [==============================] - 0s 1ms/step - loss: 0.0075\n",
            "Epoch 8/50\n",
            "1/1 [==============================] - 0s 2ms/step - loss: 0.0048\n",
            "Epoch 9/50\n",
            "1/1 [==============================] - 0s 3ms/step - loss: 0.0041\n",
            "Epoch 10/50\n",
            "1/1 [==============================] - 0s 3ms/step - loss: 0.0098\n",
            "Epoch 11/50\n",
            "1/1 [==============================] - 0s 4ms/step - loss: 0.0345\n",
            "Epoch 12/50\n",
            "1/1 [==============================] - 0s 2ms/step - loss: 0.0028\n",
            "Epoch 13/50\n",
            "1/1 [==============================] - 0s 2ms/step - loss: 0.0094\n",
            "Epoch 14/50\n",
            "1/1 [==============================] - 0s 2ms/step - loss: 0.0015\n",
            "Epoch 15/50\n",
            "1/1 [==============================] - 0s 3ms/step - loss: 0.0249\n",
            "Epoch 16/50\n",
            "1/1 [==============================] - 0s 2ms/step - loss: 0.0086\n",
            "Epoch 17/50\n",
            "1/1 [==============================] - 0s 2ms/step - loss: 5.1451e-04\n",
            "Epoch 18/50\n",
            "1/1 [==============================] - 0s 2ms/step - loss: 0.0141\n",
            "Epoch 19/50\n",
            "1/1 [==============================] - 0s 2ms/step - loss: 0.0122\n",
            "Epoch 20/50\n",
            "1/1 [==============================] - 0s 2ms/step - loss: 0.0116\n",
            "Epoch 21/50\n",
            "1/1 [==============================] - 0s 2ms/step - loss: 0.0060\n",
            "Epoch 22/50\n",
            "1/1 [==============================] - 0s 2ms/step - loss: 0.0050\n",
            "Epoch 23/50\n",
            "1/1 [==============================] - 0s 2ms/step - loss: 0.0037\n",
            "Epoch 24/50\n",
            "1/1 [==============================] - 0s 2ms/step - loss: 0.0081\n",
            "Epoch 25/50\n",
            "1/1 [==============================] - 0s 3ms/step - loss: 0.0170\n",
            "Epoch 26/50\n",
            "1/1 [==============================] - 0s 4ms/step - loss: 2.8241e-07\n",
            "Epoch 27/50\n",
            "1/1 [==============================] - 0s 2ms/step - loss: 0.0052\n",
            "Epoch 28/50\n",
            "1/1 [==============================] - 0s 2ms/step - loss: 0.0038\n",
            "Epoch 29/50\n",
            "1/1 [==============================] - 0s 4ms/step - loss: 0.0138\n",
            "Epoch 30/50\n",
            "1/1 [==============================] - 0s 2ms/step - loss: 0.0229\n",
            "Epoch 31/50\n",
            "1/1 [==============================] - 0s 3ms/step - loss: 5.5858e-04\n",
            "Epoch 32/50\n",
            "1/1 [==============================] - 0s 2ms/step - loss: 0.0014\n",
            "Epoch 33/50\n",
            "1/1 [==============================] - 0s 2ms/step - loss: 0.0012\n",
            "Epoch 34/50\n",
            "1/1 [==============================] - 0s 2ms/step - loss: 3.4201e-04\n",
            "Epoch 35/50\n",
            "1/1 [==============================] - 0s 2ms/step - loss: 7.7213e-05\n",
            "Epoch 36/50\n",
            "1/1 [==============================] - 0s 2ms/step - loss: 0.0035\n",
            "Epoch 37/50\n",
            "1/1 [==============================] - 0s 3ms/step - loss: 0.0079\n",
            "Epoch 38/50\n",
            "1/1 [==============================] - 0s 5ms/step - loss: 7.2828e-05\n",
            "Epoch 39/50\n",
            "1/1 [==============================] - 0s 2ms/step - loss: 0.0012\n",
            "Epoch 40/50\n",
            "1/1 [==============================] - 0s 2ms/step - loss: 9.5295e-04\n",
            "Epoch 41/50\n",
            "1/1 [==============================] - 0s 2ms/step - loss: 0.0027\n",
            "Epoch 42/50\n",
            "1/1 [==============================] - 0s 2ms/step - loss: 0.0025\n",
            "Epoch 43/50\n",
            "1/1 [==============================] - 0s 2ms/step - loss: 8.8785e-04\n",
            "Epoch 44/50\n",
            "1/1 [==============================] - 0s 2ms/step - loss: 5.7028e-04\n",
            "Epoch 45/50\n",
            "1/1 [==============================] - 0s 2ms/step - loss: 0.0040\n",
            "Epoch 46/50\n",
            "1/1 [==============================] - 0s 2ms/step - loss: 0.0048\n",
            "Epoch 47/50\n",
            "1/1 [==============================] - 0s 2ms/step - loss: 5.0519e-04\n",
            "Epoch 48/50\n",
            "1/1 [==============================] - 0s 2ms/step - loss: 0.0015\n",
            "Epoch 49/50\n",
            "1/1 [==============================] - 0s 2ms/step - loss: 0.0027\n",
            "Epoch 50/50\n",
            "1/1 [==============================] - 0s 2ms/step - loss: 4.7467e-08\n",
            "Prediction on Train Set \n",
            "[[ 345.5087 ]\n",
            " [ 342.66306]\n",
            " [ 337.9788 ]\n",
            " ...\n",
            " [1102.7333 ]\n",
            " [1089.2509 ]\n",
            " [1093.4495 ]]\n",
            "2112\n",
            "RMSE VALUE: \n",
            "Mean Absolute Error: 76.44502893826942\n",
            "Mean Absolute Percentage Error: 18.468081532817678\n"
          ],
          "name": "stdout"
        },
        {
          "output_type": "display_data",
          "data": {
            "image/png": "[encoded data removed]",
            "text/plain": [
              "<Figure size 432x288 with 1 Axes>"
            ]
          },
          "metadata": {
            "tags": [],
            "needs_background": "light"
          }
        }
      ]
    },
    {
      "cell_type": "code",
      "metadata": {
        "colab": {
          "base_uri": "https://localhost:8080/"
        },
        "id": "LFdGVzGgb_S9",
        "outputId": "c8a8d7b3-4963-445b-d338-1e08202799b7"
      },
      "source": [
        "rmse(train_fb['pred'],train_fb['Close']) "
      ],
      "execution_count": 6,
      "outputs": [
        {
          "output_type": "execute_result",
          "data": {
            "text/plain": [
              "92.59947066805522"
            ]
          },
          "metadata": {
            "tags": []
          },
          "execution_count": 6
        }
      ]
    },
    {
      "cell_type": "markdown",
      "metadata": {
        "id": "mJgap9JAa1kV"
      },
      "source": [
        "#DRREDDY LSTM\n"
      ]
    },
    {
      "cell_type": "code",
      "metadata": {
        "colab": {
          "base_uri": "https://localhost:8080/",
          "height": 1000
        },
        "id": "c3RvtsP1a4hQ",
        "outputId": "e4cf14d1-468b-46b7-ab46-82152e6936a2"
      },
      "source": [
        "import pandas as pd\n",
        "import matplotlib.pyplot as plt\n",
        "from statsmodels.tsa.seasonal import seasonal_decompose\n",
        "from statsmodels.tsa.arima_model import ARMA,ARIMA,ARMAResults,ARIMAResults\n",
        "from sklearn.preprocessing import MinMaxScaler\n",
        "import numpy as np\n",
        "import warnings\n",
        "warnings.filterwarnings('ignore')\n",
        "\n",
        "from sklearn.ensemble import AdaBoostClassifier\n",
        "\n",
        "from keras.preprocessing.sequence import TimeseriesGenerator\n",
        "\n",
        "fb=pd.read_csv('DRREDDY.NS.csv',parse_dates=True,index_col='Date')\n",
        "fb.drop(columns=['Open','High','Low','Adj Close','Volume'],inplace=True)\n",
        "\n",
        "fb = fb.fillna(method=\"bfill\")\n",
        "\n",
        "train_fb=fb[:2112]\n",
        "test_fb=fb[2112:]\n",
        "\n",
        "dataset = fb\n",
        "# normalize the dataset\n",
        "scaler = MinMaxScaler(feature_range=(0, 1))\n",
        "dataset = scaler.fit_transform(dataset)\n",
        "# split into train and test sets\n",
        "train_size = int(len(dataset) * 0.667)\n",
        "test_size = len(dataset) - train_size\n",
        "train, test = dataset[0:train_size,:], dataset[train_size:len(dataset),:]\n",
        "\n",
        "\n",
        "n_inputs=3\n",
        "train_data_gen = TimeseriesGenerator(train, train,\n",
        "                               length=n_inputs, sampling_rate=1,stride=1,\n",
        "                               batch_size=1)\n",
        "\n",
        "test_data_gen = TimeseriesGenerator(test, test,\n",
        "                               length=n_inputs, sampling_rate=1,stride=1,\n",
        "                               batch_size=1)\n",
        "\n",
        "from keras.models import Sequential, Model\n",
        "from keras.layers import Dense\n",
        "from keras.layers import LSTM\n",
        "\n",
        "lstm_model = Sequential()\n",
        "lstm_model.add(LSTM(1000, activation='relu', input_shape=(n_inputs, 1)))\n",
        "lstm_model.add(Dense(1))\n",
        "lstm_model.compile(loss='mean_squared_error', optimizer='adam')\n",
        "\n",
        "lstm_model.fit_generator(train_data_gen, steps_per_epoch=50, epochs=50)\n",
        "\n",
        "\n",
        "trainPredict = lstm_model.predict(train_data_gen)\n",
        "\n",
        "testPredict = lstm_model.predict(test_data_gen)\n",
        "\n",
        "trainPredict = scaler.inverse_transform(trainPredict)\n",
        "testPredict = scaler.inverse_transform(testPredict)\n",
        "\n",
        "print(\"Prediction on Train Set \")\n",
        "print(trainPredict)\n",
        "\n",
        "\n",
        "# train_values=[]\n",
        "# for i in range(len(trainPredict)):\n",
        "#     train_values.append(trainPredict.astype(float)[i][0])\n",
        "    \n",
        "# test_values=[]\n",
        "# for i in range(len(testPredict)):\n",
        "#     test_values.append(testPredict.astype(float)[i][0])    \n",
        "\n",
        "x = testPredict[-1]\n",
        "for i in range(3):\n",
        "  testPredict = np.append(testPredict, x)\n",
        "\n",
        "x = trainPredict[-1]\n",
        "for i in range(3):\n",
        "  trainPredict = np.append(trainPredict, x)\n",
        "\n",
        "\n",
        "print(len(trainPredict))\n",
        "\n",
        "train_fb['pred']=trainPredict\n",
        "test_fb['pred']=testPredict\n",
        "\n",
        "test_fb['Close'].plot(legend=True)\n",
        "test_fb['pred'].plot(legend=True,label='Test Prediction')\n",
        "\n",
        "\n",
        "from statsmodels.tools.eval_measures import rmse\n",
        "\n",
        "print(\"RMSE VALUE: \")\n",
        "rmse(train_fb['pred'],train_fb['Close'])  \n",
        "\n",
        "\n",
        "from sklearn.metrics import mean_absolute_error as mae\n",
        "\n",
        "def mape(Y_actual,Y_Predicted):\n",
        "    mape = np.mean(np.abs((Y_actual - Y_Predicted)/Y_actual))*100\n",
        "    return mape\n",
        "\n",
        "print(\"Mean Absolute Error: \" + str(mae(train_fb['Close'], train_fb['pred'])))\n",
        "print(\"Mean Absolute Percentage Error: \" + str(mape(train_fb['Close'], train_fb['pred'])))\n",
        "\n",
        "\n"
      ],
      "execution_count": 21,
      "outputs": [
        {
          "output_type": "stream",
          "text": [
            "WARNING:tensorflow:Layer lstm_15 will not use cuDNN kernel since it doesn't meet the cuDNN kernel criteria. It will use generic GPU kernel as fallback when running on GPU\n",
            "Epoch 1/50\n",
            "50/50 [==============================] - 0s 8ms/step - loss: 0.0263\n",
            "Epoch 2/50\n",
            "50/50 [==============================] - 0s 9ms/step - loss: 5.6584e-04\n",
            "Epoch 3/50\n",
            "50/50 [==============================] - 0s 8ms/step - loss: 0.0015\n",
            "Epoch 4/50\n",
            "50/50 [==============================] - 0s 8ms/step - loss: 8.3479e-04\n",
            "Epoch 5/50\n",
            "50/50 [==============================] - 0s 8ms/step - loss: 3.9783e-04\n",
            "Epoch 6/50\n",
            "50/50 [==============================] - 0s 8ms/step - loss: 6.1945e-04\n",
            "Epoch 7/50\n",
            "50/50 [==============================] - 0s 8ms/step - loss: 3.7640e-04\n",
            "Epoch 8/50\n",
            "50/50 [==============================] - 0s 8ms/step - loss: 3.6297e-04\n",
            "Epoch 9/50\n",
            "50/50 [==============================] - 0s 8ms/step - loss: 2.0649e-04\n",
            "Epoch 10/50\n",
            "50/50 [==============================] - 0s 8ms/step - loss: 0.0011\n",
            "Epoch 11/50\n",
            "50/50 [==============================] - 0s 8ms/step - loss: 4.0495e-04\n",
            "Epoch 12/50\n",
            "50/50 [==============================] - 0s 8ms/step - loss: 1.9083e-04\n",
            "Epoch 13/50\n",
            "50/50 [==============================] - 0s 8ms/step - loss: 0.0035\n",
            "Epoch 14/50\n",
            "50/50 [==============================] - 0s 8ms/step - loss: 8.0792e-04\n",
            "Epoch 15/50\n",
            "50/50 [==============================] - 0s 8ms/step - loss: 2.4272e-04\n",
            "Epoch 16/50\n",
            "50/50 [==============================] - 0s 8ms/step - loss: 1.7584e-04\n",
            "Epoch 17/50\n",
            "50/50 [==============================] - 0s 8ms/step - loss: 1.0804e-04\n",
            "Epoch 18/50\n",
            "50/50 [==============================] - 0s 8ms/step - loss: 2.8197e-04\n",
            "Epoch 19/50\n",
            "50/50 [==============================] - 0s 8ms/step - loss: 0.0011\n",
            "Epoch 20/50\n",
            "50/50 [==============================] - 0s 8ms/step - loss: 3.4330e-04\n",
            "Epoch 21/50\n",
            "50/50 [==============================] - 0s 8ms/step - loss: 0.0011\n",
            "Epoch 22/50\n",
            "50/50 [==============================] - 0s 8ms/step - loss: 2.9395e-04\n",
            "Epoch 23/50\n",
            "50/50 [==============================] - 0s 8ms/step - loss: 5.5685e-04\n",
            "Epoch 24/50\n",
            "50/50 [==============================] - 0s 8ms/step - loss: 0.0018\n",
            "Epoch 25/50\n",
            "50/50 [==============================] - 0s 8ms/step - loss: 1.2149e-04\n",
            "Epoch 26/50\n",
            "50/50 [==============================] - 0s 8ms/step - loss: 1.7855e-04\n",
            "Epoch 27/50\n",
            "50/50 [==============================] - 0s 8ms/step - loss: 1.5075e-04\n",
            "Epoch 28/50\n",
            "50/50 [==============================] - 0s 8ms/step - loss: 1.9394e-04\n",
            "Epoch 29/50\n",
            "50/50 [==============================] - 0s 8ms/step - loss: 1.6763e-04\n",
            "Epoch 30/50\n",
            "50/50 [==============================] - 0s 8ms/step - loss: 7.3399e-04\n",
            "Epoch 31/50\n",
            "50/50 [==============================] - 0s 8ms/step - loss: 2.5580e-04\n",
            "Epoch 32/50\n",
            "50/50 [==============================] - 0s 8ms/step - loss: 2.5216e-04\n",
            "Epoch 33/50\n",
            "50/50 [==============================] - 0s 8ms/step - loss: 3.5908e-04\n",
            "Epoch 34/50\n",
            "50/50 [==============================] - 0s 8ms/step - loss: 3.6766e-04\n",
            "Epoch 35/50\n",
            "50/50 [==============================] - 0s 8ms/step - loss: 4.7452e-04\n",
            "Epoch 36/50\n",
            "50/50 [==============================] - 0s 8ms/step - loss: 2.5001e-04\n",
            "Epoch 37/50\n",
            "50/50 [==============================] - 0s 8ms/step - loss: 1.9376e-04\n",
            "Epoch 38/50\n",
            "50/50 [==============================] - 0s 8ms/step - loss: 2.3167e-04\n",
            "Epoch 39/50\n",
            "50/50 [==============================] - 0s 8ms/step - loss: 0.0011\n",
            "Epoch 40/50\n",
            "50/50 [==============================] - 0s 8ms/step - loss: 6.6248e-04\n",
            "Epoch 41/50\n",
            "50/50 [==============================] - 0s 8ms/step - loss: 2.9739e-04\n",
            "Epoch 42/50\n",
            "50/50 [==============================] - 0s 8ms/step - loss: 0.0037\n",
            "Epoch 43/50\n",
            "50/50 [==============================] - 0s 8ms/step - loss: 8.9855e-04\n",
            "Epoch 44/50\n",
            "50/50 [==============================] - 0s 8ms/step - loss: 4.5228e-04\n",
            "Epoch 45/50\n",
            "50/50 [==============================] - 0s 8ms/step - loss: 3.0329e-04\n",
            "Epoch 46/50\n",
            "50/50 [==============================] - 0s 8ms/step - loss: 1.3333e-04\n",
            "Epoch 47/50\n",
            "50/50 [==============================] - 0s 8ms/step - loss: 2.5227e-04\n",
            "Epoch 48/50\n",
            "50/50 [==============================] - 0s 8ms/step - loss: 2.6214e-04\n",
            "Epoch 49/50\n",
            "50/50 [==============================] - 0s 8ms/step - loss: 2.2152e-04\n",
            "Epoch 50/50\n",
            "50/50 [==============================] - 0s 8ms/step - loss: 2.0690e-04\n",
            "Prediction on Train Set \n",
            "[[ 749.1181 ]\n",
            " [ 751.42676]\n",
            " [ 737.73114]\n",
            " ...\n",
            " [3698.828  ]\n",
            " [3699.1548 ]\n",
            " [3718.306  ]]\n",
            "2112\n",
            "RMSE VALUE: \n",
            "Mean Absolute Error: 66.98559319100674\n",
            "Mean Absolute Percentage Error: 3.969761873863758\n"
          ],
          "name": "stdout"
        },
        {
          "output_type": "display_data",
          "data": {
            "image/png": "[encoded data removed]",
            "text/plain": [
              "<Figure size 432x288 with 1 Axes>"
            ]
          },
          "metadata": {
            "tags": [],
            "needs_background": "light"
          }
        }
      ]
    },
    {
      "cell_type": "code",
      "metadata": {
        "colab": {
          "base_uri": "https://localhost:8080/"
        },
        "id": "OkkI1TlGdpUn",
        "outputId": "29011eeb-5169-4a27-f035-9bbc6717d328"
      },
      "source": [
        "\n",
        "rmse(train_fb['pred'],train_fb['Close'])  "
      ],
      "execution_count": 22,
      "outputs": [
        {
          "output_type": "execute_result",
          "data": {
            "text/plain": [
              "76.89612480323537"
            ]
          },
          "metadata": {
            "tags": []
          },
          "execution_count": 22
        }
      ]
    },
    {
      "cell_type": "code",
      "metadata": {
        "id": "z7WRPXhkdpRw"
      },
      "source": [
        ""
      ],
      "execution_count": null,
      "outputs": []
    },
    {
      "cell_type": "markdown",
      "metadata": {
        "id": "R5NJ6Ddbbj59"
      },
      "source": [
        "#GAIL LSTM"
      ]
    },
    {
      "cell_type": "code",
      "metadata": {
        "colab": {
          "base_uri": "https://localhost:8080/",
          "height": 1000
        },
        "id": "-qEQ1aTQbjh5",
        "outputId": "a6f3ef62-89f0-49e5-b138-4a8b1d4afa2b"
      },
      "source": [
        "import pandas as pd\n",
        "import matplotlib.pyplot as plt\n",
        "from statsmodels.tsa.seasonal import seasonal_decompose\n",
        "from statsmodels.tsa.arima_model import ARMA,ARIMA,ARMAResults,ARIMAResults\n",
        "from sklearn.preprocessing import MinMaxScaler\n",
        "import numpy as np\n",
        "import warnings\n",
        "warnings.filterwarnings('ignore')\n",
        "\n",
        "from sklearn.ensemble import AdaBoostClassifier\n",
        "\n",
        "from keras.preprocessing.sequence import TimeseriesGenerator\n",
        "\n",
        "fb=pd.read_csv('GAIL.NS.csv',parse_dates=True,index_col='Date')\n",
        "fb.drop(columns=['Open','High','Low','Adj Close','Volume'],inplace=True)\n",
        "\n",
        "fb = fb.fillna(method=\"bfill\")\n",
        "\n",
        "train_fb=fb[:2112]\n",
        "test_fb=fb[2112:]\n",
        "\n",
        "dataset = fb\n",
        "# normalize the dataset\n",
        "scaler = MinMaxScaler(feature_range=(0, 1))\n",
        "dataset = scaler.fit_transform(dataset)\n",
        "# split into train and test sets\n",
        "train_size = int(len(dataset) * 0.667)\n",
        "test_size = len(dataset) - train_size\n",
        "train, test = dataset[0:train_size,:], dataset[train_size:len(dataset),:]\n",
        "\n",
        "\n",
        "n_inputs=3\n",
        "train_data_gen = TimeseriesGenerator(train, train,\n",
        "                               length=n_inputs, sampling_rate=1,stride=1,\n",
        "                               batch_size=1)\n",
        "\n",
        "test_data_gen = TimeseriesGenerator(test, test,\n",
        "                               length=n_inputs, sampling_rate=1,stride=1,\n",
        "                               batch_size=1)\n",
        "\n",
        "from keras.models import Sequential, Model\n",
        "from keras.layers import Dense\n",
        "from keras.layers import LSTM\n",
        "\n",
        "lstm_model = Sequential()\n",
        "lstm_model.add(LSTM(1000, activation='relu', input_shape=(n_inputs, 1)))\n",
        "lstm_model.add(Dense(1))\n",
        "lstm_model.compile(loss='mean_squared_error', optimizer='adam')\n",
        "\n",
        "lstm_model.fit_generator(train_data_gen, steps_per_epoch=1, epochs=50)\n",
        "\n",
        "\n",
        "trainPredict = lstm_model.predict(train_data_gen)\n",
        "\n",
        "testPredict = lstm_model.predict(test_data_gen)\n",
        "\n",
        "trainPredict = scaler.inverse_transform(trainPredict)\n",
        "testPredict = scaler.inverse_transform(testPredict)\n",
        "\n",
        "print(\"Prediction on Train Set \")\n",
        "print(trainPredict)\n",
        "\n",
        "\n",
        "# train_values=[]\n",
        "# for i in range(len(trainPredict)):\n",
        "#     train_values.append(trainPredict.astype(float)[i][0])\n",
        "    \n",
        "# test_values=[]\n",
        "# for i in range(len(testPredict)):\n",
        "#     test_values.append(testPredict.astype(float)[i][0])    \n",
        "\n",
        "x = testPredict[-1]\n",
        "for i in range(3):\n",
        "  testPredict = np.append(testPredict, x)\n",
        "\n",
        "x = trainPredict[-1]\n",
        "for i in range(3):\n",
        "  trainPredict = np.append(trainPredict, x)\n",
        "\n",
        "\n",
        "print(len(trainPredict))\n",
        "\n",
        "train_fb['pred']=trainPredict\n",
        "test_fb['pred']=testPredict\n",
        "\n",
        "test_fb['Close'].plot(legend=True)\n",
        "test_fb['pred'].plot(legend=True,label='Test Prediction')\n",
        "\n",
        "\n",
        "from statsmodels.tools.eval_measures import rmse\n",
        "\n",
        "print(\"RMSE VALUE: \")\n",
        "print(rmse(train_fb['pred'],train_fb['Close'])  )\n",
        "\n",
        "from sklearn.metrics import mean_absolute_error as mae\n",
        "\n",
        "def mape(Y_actual,Y_Predicted):\n",
        "    mape = np.mean(np.abs((Y_actual - Y_Predicted)/Y_actual))*100\n",
        "    return mape\n",
        "\n",
        "print(\"Mean Absolute Error: \" + str(mae(train_fb['Close'], train_fb['pred'])))\n",
        "print(\"Mean Absolute Percentage Error: \" + str(mape(train_fb['Close'], train_fb['pred'])))\n"
      ],
      "execution_count": 23,
      "outputs": [
        {
          "output_type": "stream",
          "text": [
            "WARNING:tensorflow:Layer lstm_16 will not use cuDNN kernel since it doesn't meet the cuDNN kernel criteria. It will use generic GPU kernel as fallback when running on GPU\n",
            "Epoch 1/50\n",
            "1/1 [==============================] - 0s 2ms/step - loss: 0.0756\n",
            "Epoch 2/50\n",
            "1/1 [==============================] - 0s 2ms/step - loss: 0.0085\n",
            "Epoch 3/50\n",
            "1/1 [==============================] - 0s 2ms/step - loss: 4.9609e-04\n",
            "Epoch 4/50\n",
            "1/1 [==============================] - 0s 2ms/step - loss: 0.1500\n",
            "Epoch 5/50\n",
            "1/1 [==============================] - 0s 2ms/step - loss: 0.0022\n",
            "Epoch 6/50\n",
            "1/1 [==============================] - 0s 2ms/step - loss: 0.1219\n",
            "Epoch 7/50\n",
            "1/1 [==============================] - 0s 2ms/step - loss: 0.1496\n",
            "Epoch 8/50\n",
            "1/1 [==============================] - 0s 2ms/step - loss: 0.0202\n",
            "Epoch 9/50\n",
            "1/1 [==============================] - 0s 2ms/step - loss: 0.0872\n",
            "Epoch 10/50\n",
            "1/1 [==============================] - 0s 2ms/step - loss: 0.0712\n",
            "Epoch 11/50\n",
            "1/1 [==============================] - 0s 2ms/step - loss: 0.0526\n",
            "Epoch 12/50\n",
            "1/1 [==============================] - 0s 2ms/step - loss: 0.0032\n",
            "Epoch 13/50\n",
            "1/1 [==============================] - 0s 2ms/step - loss: 0.0427\n",
            "Epoch 14/50\n",
            "1/1 [==============================] - 0s 2ms/step - loss: 0.0022\n",
            "Epoch 15/50\n",
            "1/1 [==============================] - 0s 2ms/step - loss: 0.0373\n",
            "Epoch 16/50\n",
            "1/1 [==============================] - 0s 2ms/step - loss: 0.0027\n",
            "Epoch 17/50\n",
            "1/1 [==============================] - 0s 2ms/step - loss: 0.0116\n",
            "Epoch 18/50\n",
            "1/1 [==============================] - 0s 2ms/step - loss: 0.0163\n",
            "Epoch 19/50\n",
            "1/1 [==============================] - 0s 2ms/step - loss: 0.0230\n",
            "Epoch 20/50\n",
            "1/1 [==============================] - 0s 2ms/step - loss: 0.0248\n",
            "Epoch 21/50\n",
            "1/1 [==============================] - 0s 2ms/step - loss: 0.0274\n",
            "Epoch 22/50\n",
            "1/1 [==============================] - 0s 2ms/step - loss: 0.0085\n",
            "Epoch 23/50\n",
            "1/1 [==============================] - 0s 1ms/step - loss: 1.1276e-04\n",
            "Epoch 24/50\n",
            "1/1 [==============================] - 0s 2ms/step - loss: 1.7440e-05\n",
            "Epoch 25/50\n",
            "1/1 [==============================] - 0s 2ms/step - loss: 1.0781e-04\n",
            "Epoch 26/50\n",
            "1/1 [==============================] - 0s 2ms/step - loss: 7.1821e-04\n",
            "Epoch 27/50\n",
            "1/1 [==============================] - 0s 2ms/step - loss: 1.9338e-04\n",
            "Epoch 28/50\n",
            "1/1 [==============================] - 0s 2ms/step - loss: 8.3385e-04\n",
            "Epoch 29/50\n",
            "1/1 [==============================] - 0s 3ms/step - loss: 0.0305\n",
            "Epoch 30/50\n",
            "1/1 [==============================] - 0s 2ms/step - loss: 9.9200e-05\n",
            "Epoch 31/50\n",
            "1/1 [==============================] - 0s 2ms/step - loss: 0.0208\n",
            "Epoch 32/50\n",
            "1/1 [==============================] - 0s 2ms/step - loss: 3.8208e-06\n",
            "Epoch 33/50\n",
            "1/1 [==============================] - 0s 4ms/step - loss: 0.0090\n",
            "Epoch 34/50\n",
            "1/1 [==============================] - 0s 3ms/step - loss: 3.2170e-04\n",
            "Epoch 35/50\n",
            "1/1 [==============================] - 0s 2ms/step - loss: 0.0237\n",
            "Epoch 36/50\n",
            "1/1 [==============================] - 0s 2ms/step - loss: 0.0011\n",
            "Epoch 37/50\n",
            "1/1 [==============================] - 0s 4ms/step - loss: 0.0025\n",
            "Epoch 38/50\n",
            "1/1 [==============================] - 0s 2ms/step - loss: 0.0028\n",
            "Epoch 39/50\n",
            "1/1 [==============================] - 0s 1ms/step - loss: 8.8224e-04\n",
            "Epoch 40/50\n",
            "1/1 [==============================] - 0s 2ms/step - loss: 9.9945e-04\n",
            "Epoch 41/50\n",
            "1/1 [==============================] - 0s 2ms/step - loss: 2.7513e-04\n",
            "Epoch 42/50\n",
            "1/1 [==============================] - 0s 2ms/step - loss: 0.0035\n",
            "Epoch 43/50\n",
            "1/1 [==============================] - 0s 2ms/step - loss: 2.5153e-04\n",
            "Epoch 44/50\n",
            "1/1 [==============================] - 0s 2ms/step - loss: 1.3357e-04\n",
            "Epoch 45/50\n",
            "1/1 [==============================] - 0s 2ms/step - loss: 0.0014\n",
            "Epoch 46/50\n",
            "1/1 [==============================] - 0s 2ms/step - loss: 0.0032\n",
            "Epoch 47/50\n",
            "1/1 [==============================] - 0s 2ms/step - loss: 0.0014\n",
            "Epoch 48/50\n",
            "1/1 [==============================] - 0s 2ms/step - loss: 0.0029\n",
            "Epoch 49/50\n",
            "1/1 [==============================] - 0s 2ms/step - loss: 2.1534e-04\n",
            "Epoch 50/50\n",
            "1/1 [==============================] - 0s 2ms/step - loss: 8.4695e-04\n",
            "Prediction on Train Set \n",
            "[[ 99.67493 ]\n",
            " [ 99.300514]\n",
            " [ 99.23115 ]\n",
            " ...\n",
            " [105.61336 ]\n",
            " [105.00038 ]\n",
            " [104.71492 ]]\n",
            "2112\n",
            "RMSE VALUE: \n",
            "8.302787476211043\n",
            "Mean Absolute Error: 6.649485162082788\n",
            "Mean Absolute Percentage Error: 6.928735743363461\n"
          ],
          "name": "stdout"
        },
        {
          "output_type": "display_data",
          "data": {
            "image/png": "[encoded data removed]",
            "text/plain": [
              "<Figure size 432x288 with 1 Axes>"
            ]
          },
          "metadata": {
            "tags": [],
            "needs_background": "light"
          }
        }
      ]
    },
    {
      "cell_type": "code",
      "metadata": {
        "colab": {
          "base_uri": "https://localhost:8080/"
        },
        "id": "BM4V3liUcVV0",
        "outputId": "a9ac890c-bdc3-48c4-9fa6-3e71caef74a8"
      },
      "source": [
        "\n",
        "rmse(train_fb['pred'],train_fb['Close'])  "
      ],
      "execution_count": 8,
      "outputs": [
        {
          "output_type": "execute_result",
          "data": {
            "text/plain": [
              "10.561027413721261"
            ]
          },
          "metadata": {
            "tags": []
          },
          "execution_count": 8
        }
      ]
    },
    {
      "cell_type": "markdown",
      "metadata": {
        "id": "SyzZZn97bsYQ"
      },
      "source": [
        "#HUL LSTM"
      ]
    },
    {
      "cell_type": "code",
      "metadata": {
        "colab": {
          "base_uri": "https://localhost:8080/",
          "height": 1000
        },
        "id": "ZyffT24Rbt3F",
        "outputId": "d94bc864-3289-4074-e69d-3d116ca77ed6"
      },
      "source": [
        "import pandas as pd\n",
        "import matplotlib.pyplot as plt\n",
        "from statsmodels.tsa.seasonal import seasonal_decompose\n",
        "from statsmodels.tsa.arima_model import ARMA,ARIMA,ARMAResults,ARIMAResults\n",
        "from sklearn.preprocessing import MinMaxScaler\n",
        "import numpy as np\n",
        "import warnings\n",
        "warnings.filterwarnings('ignore')\n",
        "\n",
        "from sklearn.ensemble import AdaBoostClassifier\n",
        "\n",
        "from keras.preprocessing.sequence import TimeseriesGenerator\n",
        "\n",
        "fb=pd.read_csv('HINDUNILVR.NS.csv',parse_dates=True,index_col='Date')\n",
        "fb.drop(columns=['Open','High','Low','Adj Close','Volume'],inplace=True)\n",
        "\n",
        "fb = fb.fillna(method=\"bfill\")\n",
        "\n",
        "train_fb=fb[:2112]\n",
        "test_fb=fb[2112:]\n",
        "\n",
        "dataset = fb\n",
        "# normalize the dataset\n",
        "scaler = MinMaxScaler(feature_range=(0, 1))\n",
        "dataset = scaler.fit_transform(dataset)\n",
        "# split into train and test sets\n",
        "train_size = int(len(dataset) * 0.667)\n",
        "test_size = len(dataset) - train_size\n",
        "train, test = dataset[0:train_size,:], dataset[train_size:len(dataset),:]\n",
        "\n",
        "\n",
        "n_inputs=3\n",
        "train_data_gen = TimeseriesGenerator(train, train,\n",
        "                               length=n_inputs, sampling_rate=1,stride=1,\n",
        "                               batch_size=1)\n",
        "\n",
        "test_data_gen = TimeseriesGenerator(test, test,\n",
        "                               length=n_inputs, sampling_rate=1,stride=1,\n",
        "                               batch_size=1)\n",
        "\n",
        "from keras.models import Sequential, Model\n",
        "from keras.layers import Dense\n",
        "from keras.layers import LSTM\n",
        "\n",
        "lstm_model = Sequential()\n",
        "lstm_model.add(LSTM(50, activation='relu', input_shape=(n_inputs, 1)))\n",
        "lstm_model.add(Dense(1))\n",
        "lstm_model.compile(loss='mean_squared_error', optimizer='adam')\n",
        "\n",
        "lstm_model.fit_generator(train_data_gen, steps_per_epoch=1, epochs=50)\n",
        "\n",
        "\n",
        "trainPredict = lstm_model.predict(train_data_gen)\n",
        "\n",
        "testPredict = lstm_model.predict(test_data_gen)\n",
        "\n",
        "trainPredict = scaler.inverse_transform(trainPredict)\n",
        "testPredict = scaler.inverse_transform(testPredict)\n",
        "\n",
        "print(\"Prediction on Train Set \")\n",
        "print(trainPredict)\n",
        "\n",
        "\n",
        "# train_values=[]\n",
        "# for i in range(len(trainPredict)):\n",
        "#     train_values.append(trainPredict.astype(float)[i][0])\n",
        "    \n",
        "# test_values=[]\n",
        "# for i in range(len(testPredict)):\n",
        "#     test_values.append(testPredict.astype(float)[i][0])    \n",
        "\n",
        "x = testPredict[-1]\n",
        "for i in range(3):\n",
        "  testPredict = np.append(testPredict, x)\n",
        "\n",
        "x = trainPredict[-1]\n",
        "for i in range(3):\n",
        "  trainPredict = np.append(trainPredict, x)\n",
        "\n",
        "\n",
        "print(len(trainPredict))\n",
        "\n",
        "train_fb['pred']=trainPredict\n",
        "test_fb['pred']=testPredict\n",
        "\n",
        "test_fb['Close'].plot(legend=True)\n",
        "test_fb['pred'].plot(legend=True,label='Test Prediction')\n",
        "\n",
        "\n",
        "from statsmodels.tools.eval_measures import rmse\n",
        "\n",
        "print(\"RMSE VALUE: \")\n",
        "print(rmse(train_fb['pred'], train_fb['Close'])  )\n",
        "\n",
        "\n",
        "\n",
        "from sklearn.metrics import mean_absolute_error as mae\n",
        "\n",
        "def mape(Y_actual,Y_Predicted):\n",
        "    mape = np.mean(np.abs((Y_actual - Y_Predicted)/Y_actual))*100\n",
        "    return mape\n",
        "\n",
        "print(\"Mean Absolute Error: \" + str(mae(train_fb['Close'], train_fb['pred'])))\n",
        "print(\"Mean Absolute Percentage Error: \" + str(mape(train_fb['Close'], train_fb['pred'])))\n",
        "\n"
      ],
      "execution_count": 20,
      "outputs": [
        {
          "output_type": "stream",
          "text": [
            "WARNING:tensorflow:Layer lstm_14 will not use cuDNN kernel since it doesn't meet the cuDNN kernel criteria. It will use generic GPU kernel as fallback when running on GPU\n",
            "Epoch 1/50\n",
            "1/1 [==============================] - 0s 1ms/step - loss: 0.0771\n",
            "Epoch 2/50\n",
            "1/1 [==============================] - 0s 932us/step - loss: 0.0015\n",
            "Epoch 3/50\n",
            "1/1 [==============================] - 0s 965us/step - loss: 3.3797e-04\n",
            "Epoch 4/50\n",
            "1/1 [==============================] - 0s 947us/step - loss: 5.2465e-04\n",
            "Epoch 5/50\n",
            "1/1 [==============================] - 0s 936us/step - loss: 0.0088\n",
            "Epoch 6/50\n",
            "1/1 [==============================] - 0s 899us/step - loss: 8.3884e-05\n",
            "Epoch 7/50\n",
            "1/1 [==============================] - 0s 851us/step - loss: 6.2768e-04\n",
            "Epoch 8/50\n",
            "1/1 [==============================] - 0s 882us/step - loss: 2.2457e-07\n",
            "Epoch 9/50\n",
            "1/1 [==============================] - 0s 967us/step - loss: 2.6937e-04\n",
            "Epoch 10/50\n",
            "1/1 [==============================] - 0s 924us/step - loss: 6.9518e-04\n",
            "Epoch 11/50\n",
            "1/1 [==============================] - 0s 953us/step - loss: 0.0013\n",
            "Epoch 12/50\n",
            "1/1 [==============================] - 0s 968us/step - loss: 6.0123e-07\n",
            "Epoch 13/50\n",
            "1/1 [==============================] - 0s 1ms/step - loss: 0.0451\n",
            "Epoch 14/50\n",
            "1/1 [==============================] - 0s 956us/step - loss: 0.0198\n",
            "Epoch 15/50\n",
            "1/1 [==============================] - 0s 2ms/step - loss: 4.8339e-04\n",
            "Epoch 16/50\n",
            "1/1 [==============================] - 0s 1ms/step - loss: 0.0112\n",
            "Epoch 17/50\n",
            "1/1 [==============================] - 0s 1ms/step - loss: 0.0279\n",
            "Epoch 18/50\n",
            "1/1 [==============================] - 0s 872us/step - loss: 0.0121\n",
            "Epoch 19/50\n",
            "1/1 [==============================] - 0s 952us/step - loss: 0.0379\n",
            "Epoch 20/50\n",
            "1/1 [==============================] - 0s 810us/step - loss: 4.1556e-05\n",
            "Epoch 21/50\n",
            "1/1 [==============================] - 0s 998us/step - loss: 6.4076e-05\n",
            "Epoch 22/50\n",
            "1/1 [==============================] - 0s 3ms/step - loss: 1.8143e-04\n",
            "Epoch 23/50\n",
            "1/1 [==============================] - 0s 2ms/step - loss: 0.0224\n",
            "Epoch 24/50\n",
            "1/1 [==============================] - 0s 1ms/step - loss: 6.2504e-04\n",
            "Epoch 25/50\n",
            "1/1 [==============================] - 0s 3ms/step - loss: 0.0327\n",
            "Epoch 26/50\n",
            "1/1 [==============================] - 0s 2ms/step - loss: 0.0076\n",
            "Epoch 27/50\n",
            "1/1 [==============================] - 0s 1ms/step - loss: 4.2632e-04\n",
            "Epoch 28/50\n",
            "1/1 [==============================] - 0s 937us/step - loss: 0.0220\n",
            "Epoch 29/50\n",
            "1/1 [==============================] - 0s 1ms/step - loss: 5.8413e-04\n",
            "Epoch 30/50\n",
            "1/1 [==============================] - 0s 1ms/step - loss: 8.7598e-04\n",
            "Epoch 31/50\n",
            "1/1 [==============================] - 0s 1ms/step - loss: 0.0263\n",
            "Epoch 32/50\n",
            "1/1 [==============================] - 0s 1ms/step - loss: 1.1397e-04\n",
            "Epoch 33/50\n",
            "1/1 [==============================] - 0s 1ms/step - loss: 0.0276\n",
            "Epoch 34/50\n",
            "1/1 [==============================] - 0s 1ms/step - loss: 4.5675e-04\n",
            "Epoch 35/50\n",
            "1/1 [==============================] - 0s 987us/step - loss: 0.0345\n",
            "Epoch 36/50\n",
            "1/1 [==============================] - 0s 1ms/step - loss: 0.0051\n",
            "Epoch 37/50\n",
            "1/1 [==============================] - 0s 1ms/step - loss: 4.1826e-04\n",
            "Epoch 38/50\n",
            "1/1 [==============================] - 0s 1ms/step - loss: 0.0028\n",
            "Epoch 39/50\n",
            "1/1 [==============================] - 0s 1ms/step - loss: 0.0221\n",
            "Epoch 40/50\n",
            "1/1 [==============================] - 0s 1ms/step - loss: 3.6653e-04\n",
            "Epoch 41/50\n",
            "1/1 [==============================] - 0s 1ms/step - loss: 1.8533e-04\n",
            "Epoch 42/50\n",
            "1/1 [==============================] - 0s 894us/step - loss: 0.0048\n",
            "Epoch 43/50\n",
            "1/1 [==============================] - 0s 1ms/step - loss: 1.4261e-05\n",
            "Epoch 44/50\n",
            "1/1 [==============================] - 0s 920us/step - loss: 0.0059\n",
            "Epoch 45/50\n",
            "1/1 [==============================] - 0s 835us/step - loss: 3.5671e-05\n",
            "Epoch 46/50\n",
            "1/1 [==============================] - 0s 1ms/step - loss: 0.0020\n",
            "Epoch 47/50\n",
            "1/1 [==============================] - 0s 1ms/step - loss: 0.0035\n",
            "Epoch 48/50\n",
            "1/1 [==============================] - 0s 894us/step - loss: 0.0045\n",
            "Epoch 49/50\n",
            "1/1 [==============================] - 0s 1ms/step - loss: 0.0053\n",
            "Epoch 50/50\n",
            "1/1 [==============================] - 0s 1ms/step - loss: 5.0409e-04\n",
            "Prediction on Train Set \n",
            "[[390.87512]\n",
            " [392.51312]\n",
            " [394.63867]\n",
            " ...\n",
            " [579.0919 ]\n",
            " [575.4618 ]\n",
            " [573.40344]]\n",
            "2112\n",
            "RMSE VALUE: \n",
            "171.95685079249577\n",
            "Mean Absolute Error: 148.2031256471493\n",
            "Mean Absolute Percentage Error: 36.186729450238296\n"
          ],
          "name": "stdout"
        },
        {
          "output_type": "display_data",
          "data": {
            "image/png": "[encoded data removed]",
            "text/plain": [
              "<Figure size 432x288 with 1 Axes>"
            ]
          },
          "metadata": {
            "tags": [],
            "needs_background": "light"
          }
        }
      ]
    },
    {
      "cell_type": "code",
      "metadata": {
        "colab": {
          "base_uri": "https://localhost:8080/"
        },
        "id": "P7nzEPSUdFG_",
        "outputId": "343dc7f1-4f99-424e-87b9-5ba371621569"
      },
      "source": [
        "\n",
        "rmse(train_fb['pred'],train_fb['Close'])  "
      ],
      "execution_count": 18,
      "outputs": [
        {
          "output_type": "execute_result",
          "data": {
            "text/plain": [
              "210.8280477369782"
            ]
          },
          "metadata": {
            "tags": []
          },
          "execution_count": 18
        }
      ]
    },
    {
      "cell_type": "code",
      "metadata": {
        "colab": {
          "base_uri": "https://localhost:8080/",
          "height": 1000
        },
        "id": "NaYqC-bxcgF8",
        "outputId": "48a414d4-f9b0-4bb9-8633-a6f1d9532fef"
      },
      "source": [
        "import pandas as pd\n",
        "import matplotlib.pyplot as plt\n",
        "from statsmodels.tsa.seasonal import seasonal_decompose\n",
        "from statsmodels.tsa.arima_model import ARMA,ARIMA,ARMAResults,ARIMAResults\n",
        "from sklearn.preprocessing import MinMaxScaler\n",
        "import numpy as np\n",
        "import warnings\n",
        "warnings.filterwarnings('ignore')\n",
        "\n",
        "from sklearn.ensemble import AdaBoostClassifier\n",
        "\n",
        "from keras.preprocessing.sequence import TimeseriesGenerator\n",
        "\n",
        "fb=pd.read_csv('HINDUNILVR.NS.csv',parse_dates=True,index_col='Date')\n",
        "fb.drop(columns=['Open','High','Low','Adj Close','Volume'],inplace=True)\n",
        "\n",
        "fb = fb.fillna(method=\"bfill\")\n",
        "\n",
        "train_fb=fb[:2112]\n",
        "test_fb=fb[2112:]\n",
        "\n",
        "dataset = fb\n",
        "# normalize the dataset\n",
        "scaler = MinMaxScaler(feature_range=(0, 1))\n",
        "dataset = scaler.fit_transform(dataset)\n",
        "# split into train and test sets\n",
        "train_size = int(len(dataset) * 0.667)\n",
        "test_size = len(dataset) - train_size\n",
        "train, test = dataset[0:train_size,:], dataset[train_size:len(dataset),:]\n",
        "\n",
        "\n",
        "n_inputs=3\n",
        "train_data_gen = TimeseriesGenerator(train, train,\n",
        "                               length=n_inputs, sampling_rate=1,stride=1,\n",
        "                               batch_size=1)\n",
        "\n",
        "test_data_gen = TimeseriesGenerator(test, test,\n",
        "                               length=n_inputs, sampling_rate=1,stride=1,\n",
        "                               batch_size=1)\n",
        "\n",
        "from keras.models import Sequential, Model\n",
        "from keras.layers import Dense\n",
        "from keras.layers import LSTM\n",
        "\n",
        "lstm_model = Sequential()\n",
        "lstm_model.add(LSTM(1000, activation='relu', input_shape=(n_inputs, 1)))\n",
        "lstm_model.add(Dense(1))\n",
        "lstm_model.compile(loss='mean_squared_error', optimizer='adam')\n",
        "\n",
        "lstm_model.fit_generator(train_data_gen, epochs=50, steps_per_epoch=1)\n",
        "\n",
        "trainPredict = lstm_model.predict(train_data_gen)\n",
        "\n",
        "testPredict = lstm_model.predict(test_data_gen)\n",
        "\n",
        "trainPredict = scaler.inverse_transform(trainPredict)\n",
        "testPredict = scaler.inverse_transform(testPredict)\n",
        "\n",
        "print(\"Prediction on Train Set \")\n",
        "print(trainPredict)\n",
        "\n",
        "\n",
        "# train_values=[]\n",
        "# for i in range(len(trainPredict)):\n",
        "#     train_values.append(trainPredict.astype(float)[i][0])\n",
        "    \n",
        "# test_values=[]\n",
        "# for i in range(len(testPredict)):\n",
        "#     test_values.append(testPredict.astype(float)[i][0])    \n",
        "\n",
        "x = testPredict[-1]\n",
        "for i in range(3):\n",
        "  testPredict = np.append(testPredict, x)\n",
        "\n",
        "x = trainPredict[-1]\n",
        "for i in range(3):\n",
        "  trainPredict = np.append(trainPredict, x)\n",
        "\n",
        "\n",
        "print(len(trainPredict))\n",
        "\n",
        "train_fb['pred']=trainPredict\n",
        "test_fb['pred']=testPredict\n",
        "\n",
        "test_fb['Close'].plot(legend=True)\n",
        "test_fb['pred'].plot(legend=True,label='Test Prediction')\n",
        "\n",
        "\n",
        "from statsmodels.tools.eval_measures import rmse\n",
        "\n",
        "print(\"RMSE VALUE: \")\n",
        "rmse(train_fb['pred'],train_fb['Close'])  \n",
        "\n",
        "\n",
        "\n",
        "\n"
      ],
      "execution_count": null,
      "outputs": [
        {
          "output_type": "stream",
          "text": [
            "WARNING:tensorflow:Layer lstm_11 will not use cuDNN kernel since it doesn't meet the cuDNN kernel criteria. It will use generic GPU kernel as fallback when running on GPU\n",
            "Epoch 1/50\n",
            "1/1 [==============================] - 0s 2ms/step - loss: 0.0025\n",
            "Epoch 2/50\n",
            "1/1 [==============================] - 0s 2ms/step - loss: 0.0025\n",
            "Epoch 3/50\n",
            "1/1 [==============================] - 0s 2ms/step - loss: 7.0443e-05\n",
            "Epoch 4/50\n",
            "1/1 [==============================] - 0s 1ms/step - loss: 4.8830e-04\n",
            "Epoch 5/50\n",
            "1/1 [==============================] - 0s 2ms/step - loss: 2.5002e-04\n",
            "Epoch 6/50\n",
            "1/1 [==============================] - 0s 2ms/step - loss: 0.0132\n",
            "Epoch 7/50\n",
            "1/1 [==============================] - 0s 2ms/step - loss: 0.0361\n",
            "Epoch 8/50\n",
            "1/1 [==============================] - 0s 2ms/step - loss: 0.0079\n",
            "Epoch 9/50\n",
            "1/1 [==============================] - 0s 1ms/step - loss: 1.7080e-05\n",
            "Epoch 10/50\n",
            "1/1 [==============================] - 0s 2ms/step - loss: 0.0090\n",
            "Epoch 11/50\n",
            "1/1 [==============================] - 0s 3ms/step - loss: 8.9757e-04\n",
            "Epoch 12/50\n",
            "1/1 [==============================] - 0s 2ms/step - loss: 0.0113\n",
            "Epoch 13/50\n",
            "1/1 [==============================] - 0s 2ms/step - loss: 2.5089e-04\n",
            "Epoch 14/50\n",
            "1/1 [==============================] - 0s 834us/step - loss: 0.0019\n",
            "Epoch 15/50\n",
            "1/1 [==============================] - 0s 2ms/step - loss: 0.0154\n",
            "Epoch 16/50\n",
            "1/1 [==============================] - 0s 2ms/step - loss: 0.0038\n",
            "Epoch 17/50\n",
            "1/1 [==============================] - 0s 1ms/step - loss: 0.0016\n",
            "Epoch 18/50\n",
            "1/1 [==============================] - 0s 2ms/step - loss: 0.0129\n",
            "Epoch 19/50\n",
            "1/1 [==============================] - 0s 2ms/step - loss: 0.0031\n",
            "Epoch 20/50\n",
            "1/1 [==============================] - 0s 2ms/step - loss: 0.0084\n",
            "Epoch 21/50\n",
            "1/1 [==============================] - 0s 2ms/step - loss: 2.2878e-04\n",
            "Epoch 22/50\n",
            "1/1 [==============================] - 0s 2ms/step - loss: 5.2927e-04\n",
            "Epoch 23/50\n",
            "1/1 [==============================] - 0s 2ms/step - loss: 0.0012\n",
            "Epoch 24/50\n",
            "1/1 [==============================] - 0s 3ms/step - loss: 0.0042\n",
            "Epoch 25/50\n",
            "1/1 [==============================] - 0s 2ms/step - loss: 0.0194\n",
            "Epoch 26/50\n",
            "1/1 [==============================] - 0s 2ms/step - loss: 0.0047\n",
            "Epoch 27/50\n",
            "1/1 [==============================] - 0s 2ms/step - loss: 9.7942e-05\n",
            "Epoch 28/50\n",
            "1/1 [==============================] - 0s 2ms/step - loss: 1.9290e-04\n",
            "Epoch 29/50\n",
            "1/1 [==============================] - 0s 2ms/step - loss: 0.0014\n",
            "Epoch 30/50\n",
            "1/1 [==============================] - 0s 2ms/step - loss: 0.0178\n",
            "Epoch 31/50\n",
            "1/1 [==============================] - 0s 2ms/step - loss: 2.0887e-05\n",
            "Epoch 32/50\n",
            "1/1 [==============================] - 0s 2ms/step - loss: 0.0031\n",
            "Epoch 33/50\n",
            "1/1 [==============================] - 0s 2ms/step - loss: 5.6405e-05\n",
            "Epoch 34/50\n",
            "1/1 [==============================] - 0s 2ms/step - loss: 3.9579e-04\n",
            "Epoch 35/50\n",
            "1/1 [==============================] - 0s 2ms/step - loss: 0.0066\n",
            "Epoch 36/50\n",
            "1/1 [==============================] - 0s 2ms/step - loss: 0.0036\n",
            "Epoch 37/50\n",
            "1/1 [==============================] - 0s 2ms/step - loss: 0.0047\n",
            "Epoch 38/50\n",
            "1/1 [==============================] - 0s 1ms/step - loss: 0.0026\n",
            "Epoch 39/50\n",
            "1/1 [==============================] - 0s 2ms/step - loss: 0.0086\n",
            "Epoch 40/50\n",
            "1/1 [==============================] - 0s 1ms/step - loss: 0.0018\n",
            "Epoch 41/50\n",
            "1/1 [==============================] - 0s 2ms/step - loss: 0.0011\n",
            "Epoch 42/50\n",
            "1/1 [==============================] - 0s 2ms/step - loss: 9.2298e-05\n",
            "Epoch 43/50\n",
            "1/1 [==============================] - 0s 1ms/step - loss: 0.0073\n",
            "Epoch 44/50\n",
            "1/1 [==============================] - 0s 2ms/step - loss: 0.0070\n",
            "Epoch 45/50\n",
            "1/1 [==============================] - 0s 2ms/step - loss: 0.0067\n",
            "Epoch 46/50\n",
            "1/1 [==============================] - 0s 2ms/step - loss: 0.0010\n",
            "Epoch 47/50\n",
            "1/1 [==============================] - 0s 2ms/step - loss: 0.0039\n",
            "Epoch 48/50\n",
            "1/1 [==============================] - 0s 2ms/step - loss: 0.0014\n",
            "Epoch 49/50\n",
            "1/1 [==============================] - 0s 2ms/step - loss: 6.1802e-04\n",
            "Epoch 50/50\n",
            "1/1 [==============================] - 0s 2ms/step - loss: 3.0709e-04\n",
            "Prediction on Train Set \n",
            "[[261.32785]\n",
            " [263.55212]\n",
            " [267.5548 ]\n",
            " ...\n",
            " [678.1728 ]\n",
            " [671.4843 ]\n",
            " [663.9151 ]]\n",
            "2112\n",
            "RMSE VALUE: \n"
          ],
          "name": "stdout"
        },
        {
          "output_type": "execute_result",
          "data": {
            "text/plain": [
              "117.8171156377254"
            ]
          },
          "metadata": {
            "tags": []
          },
          "execution_count": 17
        },
        {
          "output_type": "display_data",
          "data": {
            "image/png": "[encoded data removed]",
            "text/plain": [
              "<Figure size 432x288 with 1 Axes>"
            ]
          },
          "metadata": {
            "tags": [],
            "needs_background": "light"
          }
        }
      ]
    },
    {
      "cell_type": "markdown",
      "metadata": {
        "id": "t9zW1E9d3-Yc"
      },
      "source": [
        "# Stacked LSTM"
      ]
    },
    {
      "cell_type": "code",
      "metadata": {
        "id": "zE2NJlBx3-Yd",
        "colab": {
          "base_uri": "https://localhost:8080/"
        },
        "outputId": "2aad9216-7a11-4a8b-af6a-1447a8f60483"
      },
      "source": [
        "stacked_model = Sequential()\n",
        "'''\n",
        "model.add(LSTM(16, input_shape=(n_inputs, 1),return_sequences=True))\n",
        "model.add(LSTM(16, input_shape=(n_inputs, 1),return_sequences=True))\n",
        "model.add(LSTM(16, input_shape=(n_inputs, 1),return_sequences=True))\n",
        "model.add(LSTM(16, input_shape=(n_inputs, 1),return_sequences=True))\n",
        "\n",
        "model.add(LSTM(16, input_shape=(n_inputs, 1),return_sequences=True))\n",
        "\n",
        "'''\n",
        "\n",
        "stacked_model.add(LSTM(5, activation='relu', input_shape=(n_inputs, 1),return_sequences=True))\n",
        "stacked_model.add(LSTM(3, activation='relu', input_shape=(n_inputs, 1),return_sequences=True))\n",
        "stacked_model.add(LSTM(3, activation='relu', input_shape=(n_inputs, 1),return_sequences=True))\n",
        "stacked_model.add(LSTM(3, activation='relu', input_shape=(n_inputs,1)))\n",
        "stacked_model.add(Dense(1))\n",
        "stacked_model.compile(loss='mean_squared_error', optimizer='adam')\n",
        "\n",
        "stacked_model.fit_generator(train_data_gen, steps_per_epoch=1, epochs=50)"
      ],
      "execution_count": null,
      "outputs": [
        {
          "output_type": "stream",
          "text": [
            "WARNING:tensorflow:Layer lstm_16 will not use cuDNN kernel since it doesn't meet the cuDNN kernel criteria. It will use generic GPU kernel as fallback when running on GPU\n",
            "WARNING:tensorflow:Layer lstm_17 will not use cuDNN kernel since it doesn't meet the cuDNN kernel criteria. It will use generic GPU kernel as fallback when running on GPU\n",
            "WARNING:tensorflow:Layer lstm_18 will not use cuDNN kernel since it doesn't meet the cuDNN kernel criteria. It will use generic GPU kernel as fallback when running on GPU\n",
            "WARNING:tensorflow:Layer lstm_19 will not use cuDNN kernel since it doesn't meet the cuDNN kernel criteria. It will use generic GPU kernel as fallback when running on GPU\n",
            "Epoch 1/50\n",
            "1/1 [==============================] - 0s 1ms/step - loss: 0.0238\n",
            "Epoch 2/50\n",
            "1/1 [==============================] - 0s 1ms/step - loss: 0.1819\n",
            "Epoch 3/50\n",
            "1/1 [==============================] - 0s 960us/step - loss: 0.0554\n",
            "Epoch 4/50\n",
            "1/1 [==============================] - 0s 1ms/step - loss: 0.1809\n",
            "Epoch 5/50\n",
            "1/1 [==============================] - 0s 1ms/step - loss: 0.0171\n",
            "Epoch 6/50\n",
            "1/1 [==============================] - 0s 1ms/step - loss: 0.1634\n",
            "Epoch 7/50\n",
            "1/1 [==============================] - 0s 1ms/step - loss: 0.1274\n",
            "Epoch 8/50\n",
            "1/1 [==============================] - 0s 1ms/step - loss: 0.0207\n",
            "Epoch 9/50\n",
            "1/1 [==============================] - 0s 937us/step - loss: 0.0082\n",
            "Epoch 10/50\n",
            "1/1 [==============================] - 0s 951us/step - loss: 7.9839e-06\n",
            "Epoch 11/50\n",
            "1/1 [==============================] - 0s 1ms/step - loss: 0.1641\n",
            "Epoch 12/50\n",
            "1/1 [==============================] - 0s 1ms/step - loss: 0.0326\n",
            "Epoch 13/50\n",
            "1/1 [==============================] - 0s 1ms/step - loss: 0.0310\n",
            "Epoch 14/50\n",
            "1/1 [==============================] - 0s 987us/step - loss: 0.1288\n",
            "Epoch 15/50\n",
            "1/1 [==============================] - 0s 1ms/step - loss: 0.0035\n",
            "Epoch 16/50\n",
            "1/1 [==============================] - 0s 1ms/step - loss: 0.0561\n",
            "Epoch 17/50\n",
            "1/1 [==============================] - 0s 1ms/step - loss: 2.1929e-04\n",
            "Epoch 18/50\n",
            "1/1 [==============================] - 0s 1ms/step - loss: 0.1490\n",
            "Epoch 19/50\n",
            "1/1 [==============================] - 0s 933us/step - loss: 0.0010\n",
            "Epoch 20/50\n",
            "1/1 [==============================] - 0s 1ms/step - loss: 0.0330\n",
            "Epoch 21/50\n",
            "1/1 [==============================] - 0s 1ms/step - loss: 0.1572\n",
            "Epoch 22/50\n",
            "1/1 [==============================] - 0s 1ms/step - loss: 0.0012\n",
            "Epoch 23/50\n",
            "1/1 [==============================] - 0s 1ms/step - loss: 4.4980e-04\n",
            "Epoch 24/50\n",
            "1/1 [==============================] - 0s 3ms/step - loss: 0.0224\n",
            "Epoch 25/50\n",
            "1/1 [==============================] - 0s 1ms/step - loss: 1.6984e-04\n",
            "Epoch 26/50\n",
            "1/1 [==============================] - 0s 1ms/step - loss: 0.1672\n",
            "Epoch 27/50\n",
            "1/1 [==============================] - 0s 1ms/step - loss: 2.3137e-05\n",
            "Epoch 28/50\n",
            "1/1 [==============================] - 0s 1ms/step - loss: 0.0146\n",
            "Epoch 29/50\n",
            "1/1 [==============================] - 0s 996us/step - loss: 0.0076\n",
            "Epoch 30/50\n",
            "1/1 [==============================] - 0s 1ms/step - loss: 0.0260\n",
            "Epoch 31/50\n",
            "1/1 [==============================] - 0s 958us/step - loss: 0.0302\n",
            "Epoch 32/50\n",
            "1/1 [==============================] - 0s 3ms/step - loss: 0.0407\n",
            "Epoch 33/50\n",
            "1/1 [==============================] - 0s 899us/step - loss: 0.1717\n",
            "Epoch 34/50\n",
            "1/1 [==============================] - 0s 1ms/step - loss: 0.0163\n",
            "Epoch 35/50\n",
            "1/1 [==============================] - 0s 1ms/step - loss: 0.1039\n",
            "Epoch 36/50\n",
            "1/1 [==============================] - 0s 1ms/step - loss: 0.0047\n",
            "Epoch 37/50\n",
            "1/1 [==============================] - 0s 1ms/step - loss: 0.1840\n",
            "Epoch 38/50\n",
            "1/1 [==============================] - 0s 1ms/step - loss: 0.1153\n",
            "Epoch 39/50\n",
            "1/1 [==============================] - 0s 968us/step - loss: 0.1462\n",
            "Epoch 40/50\n",
            "1/1 [==============================] - 0s 1ms/step - loss: 0.1805\n",
            "Epoch 41/50\n",
            "1/1 [==============================] - 0s 995us/step - loss: 2.2786e-04\n",
            "Epoch 42/50\n",
            "1/1 [==============================] - 0s 1ms/step - loss: 0.1234\n",
            "Epoch 43/50\n",
            "1/1 [==============================] - 0s 1ms/step - loss: 0.0158\n",
            "Epoch 44/50\n",
            "1/1 [==============================] - 0s 1ms/step - loss: 0.0205\n",
            "Epoch 45/50\n",
            "1/1 [==============================] - 0s 1ms/step - loss: 0.0378\n",
            "Epoch 46/50\n",
            "1/1 [==============================] - 0s 929us/step - loss: 0.0041\n",
            "Epoch 47/50\n",
            "1/1 [==============================] - 0s 2ms/step - loss: 0.1084\n",
            "Epoch 48/50\n",
            "1/1 [==============================] - 0s 904us/step - loss: 0.1409\n",
            "Epoch 49/50\n",
            "1/1 [==============================] - 0s 1ms/step - loss: 0.0039\n",
            "Epoch 50/50\n",
            "1/1 [==============================] - 0s 1ms/step - loss: 0.0013\n"
          ],
          "name": "stdout"
        },
        {
          "output_type": "execute_result",
          "data": {
            "text/plain": [
              "<tensorflow.python.keras.callbacks.History at 0x7f4d91f8b3c8>"
            ]
          },
          "metadata": {
            "tags": []
          },
          "execution_count": 28
        }
      ]
    },
    {
      "cell_type": "code",
      "metadata": {
        "id": "wR3wUUC33-Yh"
      },
      "source": [
        "trainPredict = stacked_model.predict_generator(train_data_gen)\n",
        "\n",
        "testPredict = stacked_model.predict_generator(test_data_gen)\n",
        "\n",
        "trainPredict = scaler.inverse_transform(trainPredict)\n",
        "testPredict = scaler.inverse_transform(testPredict)"
      ],
      "execution_count": null,
      "outputs": []
    },
    {
      "cell_type": "code",
      "metadata": {
        "colab": {
          "base_uri": "https://localhost:8080/"
        },
        "id": "N1STE1ezIIUg",
        "outputId": "b8753280-401d-4402-85f4-48774d120e5b"
      },
      "source": [
        "trainPredict"
      ],
      "execution_count": null,
      "outputs": [
        {
          "output_type": "execute_result",
          "data": {
            "text/plain": [
              "array([[221.12468],\n",
              "       [221.12468],\n",
              "       [221.12468],\n",
              "       ...,\n",
              "       [221.12468],\n",
              "       [221.12468],\n",
              "       [221.12468]], dtype=float32)"
            ]
          },
          "metadata": {
            "tags": []
          },
          "execution_count": 30
        }
      ]
    },
    {
      "cell_type": "code",
      "metadata": {
        "colab": {
          "base_uri": "https://localhost:8080/"
        },
        "id": "g5VWgV6cJWGI",
        "outputId": "2205f4dd-cd6e-4091-b11b-e98629d5a35e"
      },
      "source": [
        "len(trainPredict)"
      ],
      "execution_count": null,
      "outputs": [
        {
          "output_type": "execute_result",
          "data": {
            "text/plain": [
              "2109"
            ]
          },
          "metadata": {
            "tags": []
          },
          "execution_count": 21
        }
      ]
    },
    {
      "cell_type": "code",
      "metadata": {
        "id": "iThz1SKSKIoO"
      },
      "source": [
        "x = trainPredict[-1]\n",
        "for i in range(3):\n",
        "  trainPredict = np.append(trainPredict, x)\n",
        "\n",
        "y = testPredict[-1]\n",
        "i = 0\n",
        "for i in range(3):\n",
        "  testPredict = np.append(testPredict, y)"
      ],
      "execution_count": null,
      "outputs": []
    },
    {
      "cell_type": "code",
      "metadata": {
        "id": "I00cafj73-Yx"
      },
      "source": [
        "train_fb['pred']=trainPredict\n",
        "test_fb['pred']=testPredict"
      ],
      "execution_count": null,
      "outputs": []
    },
    {
      "cell_type": "code",
      "metadata": {
        "id": "VDsVddnh3-Yz",
        "colab": {
          "base_uri": "https://localhost:8080/",
          "height": 581
        },
        "outputId": "aa9e293c-358e-45af-c1f1-67c4d52ca3ac"
      },
      "source": [
        "fb['Close'].plot(legend=True,figsize=(12,10),label='Real Data')\n",
        "train_fb['pred'].plot(legend=True,label='Train Prediction')\n",
        "test_fb['Close'].plot(legend=True, label = 'Test Data')\n",
        "test_fb['pred'].plot(legend=True,label='Test Prediction')"
      ],
      "execution_count": null,
      "outputs": [
        {
          "output_type": "execute_result",
          "data": {
            "text/plain": [
              "<matplotlib.axes._subplots.AxesSubplot at 0x7f4dbc09db70>"
            ]
          },
          "metadata": {
            "tags": []
          },
          "execution_count": 24
        },
        {
          "output_type": "display_data",
          "data": {
            "image/png": "[encoded data removed]",
            "text/plain": [
              "<Figure size 864x720 with 1 Axes>"
            ]
          },
          "metadata": {
            "tags": [],
            "needs_background": "light"
          }
        }
      ]
    },
    {
      "cell_type": "code",
      "metadata": {
        "id": "hkTkvWnr3-Y0"
      },
      "source": [
        "from statsmodels.tools.eval_measures import rmse"
      ],
      "execution_count": null,
      "outputs": []
    },
    {
      "cell_type": "code",
      "metadata": {
        "id": "T0ophNI23-Y3",
        "outputId": "2447e742-925a-457f-e043-3648c5a7ecf9"
      },
      "source": [
        "rmse(train_fb['pred'],train_fb['close'])"
      ],
      "execution_count": null,
      "outputs": [
        {
          "output_type": "execute_result",
          "data": {
            "text/plain": [
              "2.4877603335133283"
            ]
          },
          "metadata": {
            "tags": []
          },
          "execution_count": 89
        }
      ]
    },
    {
      "cell_type": "markdown",
      "metadata": {
        "id": "PH36iyY_3-Y5"
      },
      "source": [
        "# Prediction Into Future"
      ]
    },
    {
      "cell_type": "code",
      "metadata": {
        "id": "wcs4m-Ch3-Y5",
        "outputId": "48627551-5df7-4890-a57b-0c202659b0a9"
      },
      "source": [
        "scaled_predictions = []\n",
        "first_eval_batch = test[-n_inputs:]\n",
        "current_batch=first_eval_batch.reshape((1,n_inputs,n_features))\n",
        "\n",
        "for i in range(30):\n",
        "    current_pred=model.predict(current_batch)[0]\n",
        "    scaled_predictions.append(current_pred)\n",
        "    current_batch = np.append(current_batch[:,1:,:],[[current_pred]],axis=1)"
      ],
      "execution_count": null,
      "outputs": [
        {
          "output_type": "error",
          "ename": "NameError",
          "evalue": "name 'n_features' is not defined",
          "traceback": [
            "\u001b[1;31m---------------------------------------------------------------------------\u001b[0m",
            "\u001b[1;31mNameError\u001b[0m                                 Traceback (most recent call last)",
            "\u001b[1;32m<ipython-input-58-88185fd5f001>\u001b[0m in \u001b[0;36m<module>\u001b[1;34m()\u001b[0m\n\u001b[0;32m      1\u001b[0m \u001b[0mscaled_predictions\u001b[0m \u001b[1;33m=\u001b[0m \u001b[1;33m[\u001b[0m\u001b[1;33m]\u001b[0m\u001b[1;33m\u001b[0m\u001b[0m\n\u001b[0;32m      2\u001b[0m \u001b[0mfirst_eval_batch\u001b[0m \u001b[1;33m=\u001b[0m \u001b[0mtest\u001b[0m\u001b[1;33m[\u001b[0m\u001b[1;33m-\u001b[0m\u001b[0mn_inputs\u001b[0m\u001b[1;33m:\u001b[0m\u001b[1;33m]\u001b[0m\u001b[1;33m\u001b[0m\u001b[0m\n\u001b[1;32m----> 3\u001b[1;33m \u001b[0mcurrent_batch\u001b[0m\u001b[1;33m=\u001b[0m\u001b[0mfirst_eval_batch\u001b[0m\u001b[1;33m.\u001b[0m\u001b[0mreshape\u001b[0m\u001b[1;33m(\u001b[0m\u001b[1;33m(\u001b[0m\u001b[1;36m1\u001b[0m\u001b[1;33m,\u001b[0m\u001b[0mn_inputs\u001b[0m\u001b[1;33m,\u001b[0m\u001b[0mn_features\u001b[0m\u001b[1;33m)\u001b[0m\u001b[1;33m)\u001b[0m\u001b[1;33m\u001b[0m\u001b[0m\n\u001b[0m\u001b[0;32m      4\u001b[0m \u001b[1;33m\u001b[0m\u001b[0m\n\u001b[0;32m      5\u001b[0m \u001b[1;32mfor\u001b[0m \u001b[0mi\u001b[0m \u001b[1;32min\u001b[0m \u001b[0mrange\u001b[0m\u001b[1;33m(\u001b[0m\u001b[1;36m30\u001b[0m\u001b[1;33m)\u001b[0m\u001b[1;33m:\u001b[0m\u001b[1;33m\u001b[0m\u001b[0m\n",
            "\u001b[1;31mNameError\u001b[0m: name 'n_features' is not defined"
          ]
        }
      ]
    },
    {
      "cell_type": "code",
      "metadata": {
        "id": "dZ4Ce3o23-Y7"
      },
      "source": [
        "true_predictions=scaler.inverse_transform(scaled_predictions)"
      ],
      "execution_count": null,
      "outputs": []
    },
    {
      "cell_type": "code",
      "metadata": {
        "id": "9Le1UAai3-Y9"
      },
      "source": [
        "values=[]\n",
        "for i in range(len(true_predictions)):\n",
        "    values.append(true_predictions.astype(float)[i][0])"
      ],
      "execution_count": null,
      "outputs": []
    },
    {
      "cell_type": "code",
      "metadata": {
        "id": "_Y4gLYcW3-ZA",
        "outputId": "bc04da0b-fa0f-4725-d61b-1fcdbdc0fcee"
      },
      "source": [
        "plt.plot(values)"
      ],
      "execution_count": null,
      "outputs": [
        {
          "output_type": "execute_result",
          "data": {
            "text/plain": [
              "[<matplotlib.lines.Line2D at 0x1bab1dbe5c0>]"
            ]
          },
          "metadata": {
            "tags": []
          },
          "execution_count": 487
        },
        {
          "output_type": "display_data",
          "data": {
            "image/png": "[encoded data removed]",
            "text/plain": [
              "<Figure size 432x288 with 1 Axes>"
            ]
          },
          "metadata": {
            "tags": []
          }
        }
      ]
    },
    {
      "cell_type": "code",
      "metadata": {
        "id": "Z58_FFvn3-ZC"
      },
      "source": [
        "fb1=pd.DataFrame(values,index=pd.date_range('2018-02-07',periods=30,freq=\"d\"))"
      ],
      "execution_count": null,
      "outputs": []
    },
    {
      "cell_type": "code",
      "metadata": {
        "id": "ykzAyary3-ZE"
      },
      "source": [
        "fb2=fb.append(fb1)"
      ],
      "execution_count": null,
      "outputs": []
    },
    {
      "cell_type": "code",
      "metadata": {
        "id": "52i9iVXn3-ZG",
        "outputId": "fe0e4488-0841-4ee3-9ab2-b0f3e1991dc1"
      },
      "source": [
        "fb2.plot()"
      ],
      "execution_count": null,
      "outputs": [
        {
          "output_type": "execute_result",
          "data": {
            "text/plain": [
              "<matplotlib.axes._subplots.AxesSubplot at 0x1baa2e9f860>"
            ]
          },
          "metadata": {
            "tags": []
          },
          "execution_count": 439
        },
        {
          "output_type": "display_data",
          "data": {
            "image/png": "[encoded data removed]",
            "text/plain": [
              "<Figure size 432x288 with 1 Axes>"
            ]
          },
          "metadata": {
            "tags": []
          }
        }
      ]
    },
    {
      "cell_type": "markdown",
      "metadata": {
        "id": "XIiVchiP3-ZI"
      },
      "source": [
        "# XGBooost\n"
      ]
    },
    {
      "cell_type": "code",
      "metadata": {
        "id": "qWUbtQvU3-ZI",
        "outputId": "82552d46-83bd-4779-829e-a858afd925ec"
      },
      "source": [
        "lstm_model"
      ],
      "execution_count": null,
      "outputs": [
        {
          "output_type": "execute_result",
          "data": {
            "text/plain": [
              "<keras.engine.sequential.Sequential at 0x186f0dd8080>"
            ]
          },
          "metadata": {
            "tags": []
          },
          "execution_count": 186
        }
      ]
    },
    {
      "cell_type": "code",
      "metadata": {
        "id": "k0lobYdH3-ZK"
      },
      "source": [
        "adab= AdaBoostClassifier(base_estimator=lstm_model,n_estimators=400,learning_rate=1)"
      ],
      "execution_count": null,
      "outputs": []
    },
    {
      "cell_type": "code",
      "metadata": {
        "id": "SV9rgelT3-ZO",
        "outputId": "9a05375a-4b92-4e58-cf90-e0ff16309ee8"
      },
      "source": [
        "bm=adab.fit(train_fb['close'],train_fb['pred'])"
      ],
      "execution_count": null,
      "outputs": [
        {
          "output_type": "error",
          "ename": "TypeError",
          "evalue": "Cannot clone object '<keras.engine.sequential.Sequential object at 0x000001C5EC9BA2B0>' (type <class 'keras.engine.sequential.Sequential'>): it does not seem to be a scikit-learn estimator as it does not implement a 'get_params' methods.",
          "traceback": [
            "\u001b[1;31m---------------------------------------------------------------------------\u001b[0m",
            "\u001b[1;31mTypeError\u001b[0m                                 Traceback (most recent call last)",
            "\u001b[1;32m<ipython-input-23-f20880e20c28>\u001b[0m in \u001b[0;36m<module>\u001b[1;34m()\u001b[0m\n\u001b[1;32m----> 1\u001b[1;33m \u001b[0mbm\u001b[0m\u001b[1;33m=\u001b[0m\u001b[0madab\u001b[0m\u001b[1;33m.\u001b[0m\u001b[0mfit\u001b[0m\u001b[1;33m(\u001b[0m\u001b[0mtrain_fb\u001b[0m\u001b[1;33m[\u001b[0m\u001b[1;34m'close'\u001b[0m\u001b[1;33m]\u001b[0m\u001b[1;33m,\u001b[0m\u001b[0mtrain_fb\u001b[0m\u001b[1;33m[\u001b[0m\u001b[1;34m'pred'\u001b[0m\u001b[1;33m]\u001b[0m\u001b[1;33m)\u001b[0m\u001b[1;33m\u001b[0m\u001b[0m\n\u001b[0m",
            "\u001b[1;32m~\\AppData\\Roaming\\Python\\Python35\\site-packages\\sklearn\\ensemble\\_weight_boosting.py\u001b[0m in \u001b[0;36mfit\u001b[1;34m(self, X, y, sample_weight)\u001b[0m\n\u001b[0;32m    436\u001b[0m \u001b[1;33m\u001b[0m\u001b[0m\n\u001b[0;32m    437\u001b[0m         \u001b[1;31m# Fit\u001b[0m\u001b[1;33m\u001b[0m\u001b[1;33m\u001b[0m\u001b[0m\n\u001b[1;32m--> 438\u001b[1;33m         \u001b[1;32mreturn\u001b[0m \u001b[0msuper\u001b[0m\u001b[1;33m(\u001b[0m\u001b[1;33m)\u001b[0m\u001b[1;33m.\u001b[0m\u001b[0mfit\u001b[0m\u001b[1;33m(\u001b[0m\u001b[0mX\u001b[0m\u001b[1;33m,\u001b[0m \u001b[0my\u001b[0m\u001b[1;33m,\u001b[0m \u001b[0msample_weight\u001b[0m\u001b[1;33m)\u001b[0m\u001b[1;33m\u001b[0m\u001b[0m\n\u001b[0m\u001b[0;32m    439\u001b[0m \u001b[1;33m\u001b[0m\u001b[0m\n\u001b[0;32m    440\u001b[0m     \u001b[1;32mdef\u001b[0m \u001b[0m_validate_estimator\u001b[0m\u001b[1;33m(\u001b[0m\u001b[0mself\u001b[0m\u001b[1;33m)\u001b[0m\u001b[1;33m:\u001b[0m\u001b[1;33m\u001b[0m\u001b[0m\n",
            "\u001b[1;32m~\\AppData\\Roaming\\Python\\Python35\\site-packages\\sklearn\\ensemble\\_weight_boosting.py\u001b[0m in \u001b[0;36mfit\u001b[1;34m(self, X, y, sample_weight)\u001b[0m\n\u001b[0;32m    140\u001b[0m                 \u001b[0mX\u001b[0m\u001b[1;33m,\u001b[0m \u001b[0my\u001b[0m\u001b[1;33m,\u001b[0m\u001b[1;33m\u001b[0m\u001b[0m\n\u001b[0;32m    141\u001b[0m                 \u001b[0msample_weight\u001b[0m\u001b[1;33m,\u001b[0m\u001b[1;33m\u001b[0m\u001b[0m\n\u001b[1;32m--> 142\u001b[1;33m                 random_state)\n\u001b[0m\u001b[0;32m    143\u001b[0m \u001b[1;33m\u001b[0m\u001b[0m\n\u001b[0;32m    144\u001b[0m             \u001b[1;31m# Early termination\u001b[0m\u001b[1;33m\u001b[0m\u001b[1;33m\u001b[0m\u001b[0m\n",
            "\u001b[1;32m~\\AppData\\Roaming\\Python\\Python35\\site-packages\\sklearn\\ensemble\\_weight_boosting.py\u001b[0m in \u001b[0;36m_boost\u001b[1;34m(self, iboost, X, y, sample_weight, random_state)\u001b[0m\n\u001b[0;32m    495\u001b[0m         \"\"\"\n\u001b[0;32m    496\u001b[0m         \u001b[1;32mif\u001b[0m \u001b[0mself\u001b[0m\u001b[1;33m.\u001b[0m\u001b[0malgorithm\u001b[0m \u001b[1;33m==\u001b[0m \u001b[1;34m'SAMME.R'\u001b[0m\u001b[1;33m:\u001b[0m\u001b[1;33m\u001b[0m\u001b[0m\n\u001b[1;32m--> 497\u001b[1;33m             \u001b[1;32mreturn\u001b[0m \u001b[0mself\u001b[0m\u001b[1;33m.\u001b[0m\u001b[0m_boost_real\u001b[0m\u001b[1;33m(\u001b[0m\u001b[0miboost\u001b[0m\u001b[1;33m,\u001b[0m \u001b[0mX\u001b[0m\u001b[1;33m,\u001b[0m \u001b[0my\u001b[0m\u001b[1;33m,\u001b[0m \u001b[0msample_weight\u001b[0m\u001b[1;33m,\u001b[0m \u001b[0mrandom_state\u001b[0m\u001b[1;33m)\u001b[0m\u001b[1;33m\u001b[0m\u001b[0m\n\u001b[0m\u001b[0;32m    498\u001b[0m \u001b[1;33m\u001b[0m\u001b[0m\n\u001b[0;32m    499\u001b[0m         \u001b[1;32melse\u001b[0m\u001b[1;33m:\u001b[0m  \u001b[1;31m# elif self.algorithm == \"SAMME\":\u001b[0m\u001b[1;33m\u001b[0m\u001b[0m\n",
            "\u001b[1;32m~\\AppData\\Roaming\\Python\\Python35\\site-packages\\sklearn\\ensemble\\_weight_boosting.py\u001b[0m in \u001b[0;36m_boost_real\u001b[1;34m(self, iboost, X, y, sample_weight, random_state)\u001b[0m\n\u001b[0;32m    503\u001b[0m     \u001b[1;32mdef\u001b[0m \u001b[0m_boost_real\u001b[0m\u001b[1;33m(\u001b[0m\u001b[0mself\u001b[0m\u001b[1;33m,\u001b[0m \u001b[0miboost\u001b[0m\u001b[1;33m,\u001b[0m \u001b[0mX\u001b[0m\u001b[1;33m,\u001b[0m \u001b[0my\u001b[0m\u001b[1;33m,\u001b[0m \u001b[0msample_weight\u001b[0m\u001b[1;33m,\u001b[0m \u001b[0mrandom_state\u001b[0m\u001b[1;33m)\u001b[0m\u001b[1;33m:\u001b[0m\u001b[1;33m\u001b[0m\u001b[0m\n\u001b[0;32m    504\u001b[0m         \u001b[1;34m\"\"\"Implement a single boost using the SAMME.R real algorithm.\"\"\"\u001b[0m\u001b[1;33m\u001b[0m\u001b[0m\n\u001b[1;32m--> 505\u001b[1;33m         \u001b[0mestimator\u001b[0m \u001b[1;33m=\u001b[0m \u001b[0mself\u001b[0m\u001b[1;33m.\u001b[0m\u001b[0m_make_estimator\u001b[0m\u001b[1;33m(\u001b[0m\u001b[0mrandom_state\u001b[0m\u001b[1;33m=\u001b[0m\u001b[0mrandom_state\u001b[0m\u001b[1;33m)\u001b[0m\u001b[1;33m\u001b[0m\u001b[0m\n\u001b[0m\u001b[0;32m    506\u001b[0m \u001b[1;33m\u001b[0m\u001b[0m\n\u001b[0;32m    507\u001b[0m         \u001b[0mestimator\u001b[0m\u001b[1;33m.\u001b[0m\u001b[0mfit\u001b[0m\u001b[1;33m(\u001b[0m\u001b[0mX\u001b[0m\u001b[1;33m,\u001b[0m \u001b[0my\u001b[0m\u001b[1;33m,\u001b[0m \u001b[0msample_weight\u001b[0m\u001b[1;33m=\u001b[0m\u001b[0msample_weight\u001b[0m\u001b[1;33m)\u001b[0m\u001b[1;33m\u001b[0m\u001b[0m\n",
            "\u001b[1;32m~\\AppData\\Roaming\\Python\\Python35\\site-packages\\sklearn\\ensemble\\_base.py\u001b[0m in \u001b[0;36m_make_estimator\u001b[1;34m(self, append, random_state)\u001b[0m\n\u001b[0;32m    145\u001b[0m         \u001b[0msub\u001b[0m\u001b[1;33m-\u001b[0m\u001b[0mestimators\u001b[0m\u001b[1;33m.\u001b[0m\u001b[1;33m\u001b[0m\u001b[0m\n\u001b[0;32m    146\u001b[0m         \"\"\"\n\u001b[1;32m--> 147\u001b[1;33m         \u001b[0mestimator\u001b[0m \u001b[1;33m=\u001b[0m \u001b[0mclone\u001b[0m\u001b[1;33m(\u001b[0m\u001b[0mself\u001b[0m\u001b[1;33m.\u001b[0m\u001b[0mbase_estimator_\u001b[0m\u001b[1;33m)\u001b[0m\u001b[1;33m\u001b[0m\u001b[0m\n\u001b[0m\u001b[0;32m    148\u001b[0m         estimator.set_params(**{p: getattr(self, p)\n\u001b[0;32m    149\u001b[0m                                 for p in self.estimator_params})\n",
            "\u001b[1;32m~\\AppData\\Roaming\\Python\\Python35\\site-packages\\sklearn\\base.py\u001b[0m in \u001b[0;36mclone\u001b[1;34m(estimator, safe)\u001b[0m\n\u001b[0;32m     65\u001b[0m                             \u001b[1;34m\"it does not seem to be a scikit-learn estimator \"\u001b[0m\u001b[1;33m\u001b[0m\u001b[0m\n\u001b[0;32m     66\u001b[0m                             \u001b[1;34m\"as it does not implement a 'get_params' methods.\"\u001b[0m\u001b[1;33m\u001b[0m\u001b[0m\n\u001b[1;32m---> 67\u001b[1;33m                             % (repr(estimator), type(estimator)))\n\u001b[0m\u001b[0;32m     68\u001b[0m     \u001b[0mklass\u001b[0m \u001b[1;33m=\u001b[0m \u001b[0mestimator\u001b[0m\u001b[1;33m.\u001b[0m\u001b[0m__class__\u001b[0m\u001b[1;33m\u001b[0m\u001b[0m\n\u001b[0;32m     69\u001b[0m     \u001b[0mnew_object_params\u001b[0m \u001b[1;33m=\u001b[0m \u001b[0mestimator\u001b[0m\u001b[1;33m.\u001b[0m\u001b[0mget_params\u001b[0m\u001b[1;33m(\u001b[0m\u001b[0mdeep\u001b[0m\u001b[1;33m=\u001b[0m\u001b[1;32mFalse\u001b[0m\u001b[1;33m)\u001b[0m\u001b[1;33m\u001b[0m\u001b[0m\n",
            "\u001b[1;31mTypeError\u001b[0m: Cannot clone object '<keras.engine.sequential.Sequential object at 0x000001C5EC9BA2B0>' (type <class 'keras.engine.sequential.Sequential'>): it does not seem to be a scikit-learn estimator as it does not implement a 'get_params' methods."
          ]
        }
      ]
    },
    {
      "cell_type": "code",
      "metadata": {
        "id": "HFMLxo3j3-ZQ",
        "outputId": "465a3f29-9cac-472f-c6ab-1334894cdb94"
      },
      "source": [
        "type(test_fb['close'])"
      ],
      "execution_count": null,
      "outputs": [
        {
          "output_type": "execute_result",
          "data": {
            "text/plain": [
              "pandas.core.series.Series"
            ]
          },
          "metadata": {
            "tags": []
          },
          "execution_count": 24
        }
      ]
    },
    {
      "cell_type": "code",
      "metadata": {
        "id": "sHyqWS_53-ZS"
      },
      "source": [
        "f=list(list(zip(train_fb['close'],train_fb['pred'])))"
      ],
      "execution_count": null,
      "outputs": []
    },
    {
      "cell_type": "code",
      "metadata": {
        "id": "pg4hevyf3-ZV",
        "outputId": "48d1db8d-05e2-4c70-dcb7-18154a0e9ab2"
      },
      "source": [
        "f[0]"
      ],
      "execution_count": null,
      "outputs": [
        {
          "output_type": "execute_result",
          "data": {
            "text/plain": [
              "(28.545, 24.982555389404297)"
            ]
          },
          "metadata": {
            "tags": []
          },
          "execution_count": 99
        }
      ]
    },
    {
      "cell_type": "code",
      "metadata": {
        "id": "yXT37EzY3-ZX"
      },
      "source": [
        ""
      ],
      "execution_count": null,
      "outputs": []
    }
  ]
}